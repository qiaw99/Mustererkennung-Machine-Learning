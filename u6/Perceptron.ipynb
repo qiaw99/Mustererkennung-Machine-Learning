{
 "cells": [
  {
   "cell_type": "markdown",
   "metadata": {},
   "source": [
    "# Übung 6 Perceptron - Rainier Robles & Valentin Wolf"
   ]
  },
  {
   "cell_type": "code",
   "execution_count": 1,
   "metadata": {
    "ExecuteTime": {
     "end_time": "2017-11-28T18:25:29.034525Z",
     "start_time": "2017-11-28T18:25:28.330771Z"
    },
    "collapsed": true
   },
   "outputs": [],
   "source": [
    "import pandas as pd\n",
    "import numpy as np\n",
    "import matplotlib.pyplot as plt\n",
    "%matplotlib inline\n",
    "from sklearn.model_selection import train_test_split"
   ]
  },
  {
   "cell_type": "code",
   "execution_count": 2,
   "metadata": {
    "ExecuteTime": {
     "end_time": "2017-11-28T18:25:29.042885Z",
     "start_time": "2017-11-28T18:25:29.036361Z"
    },
    "collapsed": true
   },
   "outputs": [],
   "source": [
    "data = pd.read_csv(\"iris.data\", header=None)\n",
    "y = data[4].as_matrix()\n",
    "X = data.drop(4,axis=1).as_matrix()"
   ]
  },
  {
   "cell_type": "code",
   "execution_count": 3,
   "metadata": {
    "ExecuteTime": {
     "end_time": "2017-11-28T18:25:29.050926Z",
     "start_time": "2017-11-28T18:25:29.045302Z"
    },
    "collapsed": true
   },
   "outputs": [],
   "source": [
    "class Classifier():\n",
    "    def error_rate(self,truth, pred):\n",
    "        \"\"\"gets two vectors, returns (wrongly classified / total)\"\"\"\n",
    "        return 1 - self.accuracy(truth, pred)\n",
    "    \n",
    "    def accuracy(self,truth,pred):\n",
    "        return np.mean(truth == pred)"
   ]
  },
  {
   "cell_type": "code",
   "execution_count": 4,
   "metadata": {
    "ExecuteTime": {
     "end_time": "2017-11-28T18:25:29.137051Z",
     "start_time": "2017-11-28T18:25:29.052564Z"
    },
    "collapsed": true
   },
   "outputs": [],
   "source": [
    "class Perceptron(Classifier):\n",
    "    def fit(self,X,y,pocket=False,iterations=1000):\n",
    "        self.classes = np.unique(y)\n",
    "        assert(len(self.classes) == 2)\n",
    "        datapoints,dims = X.shape\n",
    "        \n",
    "        def randi(vec):\n",
    "            return vec[np.random.randint(0,vec.shape[0])]\n",
    "            \n",
    "        self._appendOnes(X)\n",
    "        X[y==self.classes[1]] *= -1\n",
    "        self.omega = randi(X)\n",
    "        \n",
    "        if pocket: \n",
    "            best_omega = self.omega\n",
    "            old_len = X.shape[0]\n",
    "        \n",
    "        changes = 0\n",
    "        while True:\n",
    "            wrong = X[X.dot(self.omega.T)<0]\n",
    "            if len(wrong) == 0:\n",
    "                break\n",
    "            if pocket:\n",
    "                if changes >= iterations:\n",
    "                    break\n",
    "                if len(wrong) < old_len:\n",
    "                    old_len = len(wrong)\n",
    "                    best_omega = self.omega\n",
    "\n",
    "            self.omega += randi(wrong)\n",
    "            changes += 1\n",
    "        \n",
    "        if pocket: self.omega = best_omega\n",
    "        wrong = X[X.dot(self.omega.T)<0]\n",
    "        print(\"Finished training; Wrong:\", len(wrong), \"Total Changes:\", changes)\n",
    "        print(self.omega)\n",
    "        \n",
    "    def _appendOnes(self,X):\n",
    "        datapoints,dims = X.shape\n",
    "        np.concatenate((np.ones((datapoints,1)),X),axis=1)\n",
    "    \n",
    "    def predict(self,X):\n",
    "        self._appendOnes(X)\n",
    "        y = X.dot(self.omega)\n",
    "        y = np.where(y>0, self.classes[0],self.classes[1])\n",
    "        #y[y>0] = self.classes[0]\n",
    "        #y[y<0] = self.classes[1]\n",
    "        return y"
   ]
  },
  {
   "cell_type": "code",
   "execution_count": 5,
   "metadata": {
    "ExecuteTime": {
     "end_time": "2017-11-28T18:25:29.155793Z",
     "start_time": "2017-11-28T18:25:29.138839Z"
    }
   },
   "outputs": [
    {
     "name": "stdout",
     "output_type": "stream",
     "text": [
      "Finished training; Wrong: 0 Total Changes: 11\n",
      "[  4.3   7.7 -11.5  -4.4]\n",
      "Accuracy: 0.96\n",
      "Finished training; Wrong: 0 Total Changes: 4\n",
      "[ 1.5  4.7 -6.5 -2.5]\n",
      "Accuracy: 1.0\n"
     ]
    }
   ],
   "source": [
    "for i in ['Iris-versicolor','Iris-virginica']:\n",
    "    X_ = X[('Iris-setosa' == y) | (i == y)]\n",
    "    y_ = y[('Iris-setosa' == y) | (i == y)]\n",
    "\n",
    "    X_tr,X_te,y_tr,y_te = train_test_split(X_,y_)\n",
    "    \n",
    "    perc = Perceptron()\n",
    "    perc.fit(X_tr,y_tr)\n",
    "    \n",
    "    pred = perc.predict(X_te)\n",
    "    acc = perc.accuracy(y_te,pred)\n",
    "    \n",
    "    print(\"Accuracy:\", acc)"
   ]
  },
  {
   "cell_type": "code",
   "execution_count": 10,
   "metadata": {
    "ExecuteTime": {
     "end_time": "2017-11-28T18:26:00.052141Z",
     "start_time": "2017-11-28T18:25:49.881618Z"
    }
   },
   "outputs": [
    {
     "name": "stdout",
     "output_type": "stream",
     "text": [
      "Finished training; Wrong: 5 Total Changes: 1000000\n",
      "[ 111.8   94.8 -125.6 -196. ]\n",
      "Accuracy: 0.975\n"
     ]
    }
   ],
   "source": [
    "j = 'Iris-versicolor'\n",
    "i = 'Iris-virginica'\n",
    "\n",
    "X_ = X[(j == y) | (i == y)]\n",
    "y_ = y[(j == y) | (i == y)]\n",
    "\n",
    "X_tr,X_te,y_tr,y_te = train_test_split(X_,y_,test_size=0.4)\n",
    "\n",
    "perc = Perceptron()\n",
    "perc.fit(X_tr,y_tr,pocket=True,iterations=1000000)\n",
    "\n",
    "pred = perc.predict(X_te)\n",
    "acc = perc.accuracy(y_te,pred)\n",
    "\n",
    "print(\"Accuracy:\", acc)"
   ]
  },
  {
   "cell_type": "code",
   "execution_count": null,
   "metadata": {
    "collapsed": true
   },
   "outputs": [],
   "source": []
  }
 ],
 "metadata": {
  "kernelspec": {
   "display_name": "Python 3",
   "language": "python",
   "name": "python3"
  },
  "language_info": {
   "codemirror_mode": {
    "name": "ipython",
    "version": 3
   },
   "file_extension": ".py",
   "mimetype": "text/x-python",
   "name": "python",
   "nbconvert_exporter": "python",
   "pygments_lexer": "ipython3",
   "version": "3.5.0"
  },
  "toc": {
   "nav_menu": {},
   "number_sections": true,
   "sideBar": true,
   "skip_h1_title": false,
   "toc_cell": false,
   "toc_position": {},
   "toc_section_display": "block",
   "toc_window_display": false
  }
 },
 "nbformat": 4,
 "nbformat_minor": 2
}

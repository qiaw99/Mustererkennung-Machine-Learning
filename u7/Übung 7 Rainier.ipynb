{
 "cells": [
  {
   "cell_type": "code",
   "execution_count": 1,
   "metadata": {
    "collapsed": true
   },
   "outputs": [],
   "source": [
    "import pandas as pd\n",
    "import numpy as np\n",
    "from random import randint\n",
    "from math import exp"
   ]
  },
  {
   "cell_type": "code",
   "execution_count": 2,
   "metadata": {},
   "outputs": [
    {
     "data": {
      "text/html": [
       "<div>\n",
       "<style>\n",
       "    .dataframe thead tr:only-child th {\n",
       "        text-align: right;\n",
       "    }\n",
       "\n",
       "    .dataframe thead th {\n",
       "        text-align: left;\n",
       "    }\n",
       "\n",
       "    .dataframe tbody tr th {\n",
       "        vertical-align: top;\n",
       "    }\n",
       "</style>\n",
       "<table border=\"1\" class=\"dataframe\">\n",
       "  <thead>\n",
       "    <tr style=\"text-align: right;\">\n",
       "      <th></th>\n",
       "      <th>0</th>\n",
       "      <th>1</th>\n",
       "      <th>2</th>\n",
       "      <th>3</th>\n",
       "      <th>4</th>\n",
       "      <th>5</th>\n",
       "      <th>6</th>\n",
       "      <th>7</th>\n",
       "      <th>8</th>\n",
       "      <th>9</th>\n",
       "      <th>...</th>\n",
       "      <th>48</th>\n",
       "      <th>49</th>\n",
       "      <th>50</th>\n",
       "      <th>51</th>\n",
       "      <th>52</th>\n",
       "      <th>53</th>\n",
       "      <th>54</th>\n",
       "      <th>55</th>\n",
       "      <th>56</th>\n",
       "      <th>57</th>\n",
       "    </tr>\n",
       "  </thead>\n",
       "  <tbody>\n",
       "    <tr>\n",
       "      <th>0</th>\n",
       "      <td>0.00</td>\n",
       "      <td>0.64</td>\n",
       "      <td>0.64</td>\n",
       "      <td>0.0</td>\n",
       "      <td>0.32</td>\n",
       "      <td>0.00</td>\n",
       "      <td>0.00</td>\n",
       "      <td>0.00</td>\n",
       "      <td>0.00</td>\n",
       "      <td>0.00</td>\n",
       "      <td>...</td>\n",
       "      <td>0.00</td>\n",
       "      <td>0.000</td>\n",
       "      <td>0.0</td>\n",
       "      <td>0.778</td>\n",
       "      <td>0.000</td>\n",
       "      <td>0.000</td>\n",
       "      <td>3.756</td>\n",
       "      <td>61</td>\n",
       "      <td>278</td>\n",
       "      <td>1</td>\n",
       "    </tr>\n",
       "    <tr>\n",
       "      <th>1</th>\n",
       "      <td>0.21</td>\n",
       "      <td>0.28</td>\n",
       "      <td>0.50</td>\n",
       "      <td>0.0</td>\n",
       "      <td>0.14</td>\n",
       "      <td>0.28</td>\n",
       "      <td>0.21</td>\n",
       "      <td>0.07</td>\n",
       "      <td>0.00</td>\n",
       "      <td>0.94</td>\n",
       "      <td>...</td>\n",
       "      <td>0.00</td>\n",
       "      <td>0.132</td>\n",
       "      <td>0.0</td>\n",
       "      <td>0.372</td>\n",
       "      <td>0.180</td>\n",
       "      <td>0.048</td>\n",
       "      <td>5.114</td>\n",
       "      <td>101</td>\n",
       "      <td>1028</td>\n",
       "      <td>1</td>\n",
       "    </tr>\n",
       "    <tr>\n",
       "      <th>2</th>\n",
       "      <td>0.06</td>\n",
       "      <td>0.00</td>\n",
       "      <td>0.71</td>\n",
       "      <td>0.0</td>\n",
       "      <td>1.23</td>\n",
       "      <td>0.19</td>\n",
       "      <td>0.19</td>\n",
       "      <td>0.12</td>\n",
       "      <td>0.64</td>\n",
       "      <td>0.25</td>\n",
       "      <td>...</td>\n",
       "      <td>0.01</td>\n",
       "      <td>0.143</td>\n",
       "      <td>0.0</td>\n",
       "      <td>0.276</td>\n",
       "      <td>0.184</td>\n",
       "      <td>0.010</td>\n",
       "      <td>9.821</td>\n",
       "      <td>485</td>\n",
       "      <td>2259</td>\n",
       "      <td>1</td>\n",
       "    </tr>\n",
       "    <tr>\n",
       "      <th>3</th>\n",
       "      <td>0.00</td>\n",
       "      <td>0.00</td>\n",
       "      <td>0.00</td>\n",
       "      <td>0.0</td>\n",
       "      <td>0.63</td>\n",
       "      <td>0.00</td>\n",
       "      <td>0.31</td>\n",
       "      <td>0.63</td>\n",
       "      <td>0.31</td>\n",
       "      <td>0.63</td>\n",
       "      <td>...</td>\n",
       "      <td>0.00</td>\n",
       "      <td>0.137</td>\n",
       "      <td>0.0</td>\n",
       "      <td>0.137</td>\n",
       "      <td>0.000</td>\n",
       "      <td>0.000</td>\n",
       "      <td>3.537</td>\n",
       "      <td>40</td>\n",
       "      <td>191</td>\n",
       "      <td>1</td>\n",
       "    </tr>\n",
       "    <tr>\n",
       "      <th>4</th>\n",
       "      <td>0.00</td>\n",
       "      <td>0.00</td>\n",
       "      <td>0.00</td>\n",
       "      <td>0.0</td>\n",
       "      <td>0.63</td>\n",
       "      <td>0.00</td>\n",
       "      <td>0.31</td>\n",
       "      <td>0.63</td>\n",
       "      <td>0.31</td>\n",
       "      <td>0.63</td>\n",
       "      <td>...</td>\n",
       "      <td>0.00</td>\n",
       "      <td>0.135</td>\n",
       "      <td>0.0</td>\n",
       "      <td>0.135</td>\n",
       "      <td>0.000</td>\n",
       "      <td>0.000</td>\n",
       "      <td>3.537</td>\n",
       "      <td>40</td>\n",
       "      <td>191</td>\n",
       "      <td>1</td>\n",
       "    </tr>\n",
       "    <tr>\n",
       "      <th>5</th>\n",
       "      <td>0.00</td>\n",
       "      <td>0.00</td>\n",
       "      <td>0.00</td>\n",
       "      <td>0.0</td>\n",
       "      <td>1.85</td>\n",
       "      <td>0.00</td>\n",
       "      <td>0.00</td>\n",
       "      <td>1.85</td>\n",
       "      <td>0.00</td>\n",
       "      <td>0.00</td>\n",
       "      <td>...</td>\n",
       "      <td>0.00</td>\n",
       "      <td>0.223</td>\n",
       "      <td>0.0</td>\n",
       "      <td>0.000</td>\n",
       "      <td>0.000</td>\n",
       "      <td>0.000</td>\n",
       "      <td>3.000</td>\n",
       "      <td>15</td>\n",
       "      <td>54</td>\n",
       "      <td>1</td>\n",
       "    </tr>\n",
       "    <tr>\n",
       "      <th>6</th>\n",
       "      <td>0.00</td>\n",
       "      <td>0.00</td>\n",
       "      <td>0.00</td>\n",
       "      <td>0.0</td>\n",
       "      <td>1.92</td>\n",
       "      <td>0.00</td>\n",
       "      <td>0.00</td>\n",
       "      <td>0.00</td>\n",
       "      <td>0.00</td>\n",
       "      <td>0.64</td>\n",
       "      <td>...</td>\n",
       "      <td>0.00</td>\n",
       "      <td>0.054</td>\n",
       "      <td>0.0</td>\n",
       "      <td>0.164</td>\n",
       "      <td>0.054</td>\n",
       "      <td>0.000</td>\n",
       "      <td>1.671</td>\n",
       "      <td>4</td>\n",
       "      <td>112</td>\n",
       "      <td>1</td>\n",
       "    </tr>\n",
       "    <tr>\n",
       "      <th>7</th>\n",
       "      <td>0.00</td>\n",
       "      <td>0.00</td>\n",
       "      <td>0.00</td>\n",
       "      <td>0.0</td>\n",
       "      <td>1.88</td>\n",
       "      <td>0.00</td>\n",
       "      <td>0.00</td>\n",
       "      <td>1.88</td>\n",
       "      <td>0.00</td>\n",
       "      <td>0.00</td>\n",
       "      <td>...</td>\n",
       "      <td>0.00</td>\n",
       "      <td>0.206</td>\n",
       "      <td>0.0</td>\n",
       "      <td>0.000</td>\n",
       "      <td>0.000</td>\n",
       "      <td>0.000</td>\n",
       "      <td>2.450</td>\n",
       "      <td>11</td>\n",
       "      <td>49</td>\n",
       "      <td>1</td>\n",
       "    </tr>\n",
       "    <tr>\n",
       "      <th>8</th>\n",
       "      <td>0.15</td>\n",
       "      <td>0.00</td>\n",
       "      <td>0.46</td>\n",
       "      <td>0.0</td>\n",
       "      <td>0.61</td>\n",
       "      <td>0.00</td>\n",
       "      <td>0.30</td>\n",
       "      <td>0.00</td>\n",
       "      <td>0.92</td>\n",
       "      <td>0.76</td>\n",
       "      <td>...</td>\n",
       "      <td>0.00</td>\n",
       "      <td>0.271</td>\n",
       "      <td>0.0</td>\n",
       "      <td>0.181</td>\n",
       "      <td>0.203</td>\n",
       "      <td>0.022</td>\n",
       "      <td>9.744</td>\n",
       "      <td>445</td>\n",
       "      <td>1257</td>\n",
       "      <td>1</td>\n",
       "    </tr>\n",
       "    <tr>\n",
       "      <th>9</th>\n",
       "      <td>0.06</td>\n",
       "      <td>0.12</td>\n",
       "      <td>0.77</td>\n",
       "      <td>0.0</td>\n",
       "      <td>0.19</td>\n",
       "      <td>0.32</td>\n",
       "      <td>0.38</td>\n",
       "      <td>0.00</td>\n",
       "      <td>0.06</td>\n",
       "      <td>0.00</td>\n",
       "      <td>...</td>\n",
       "      <td>0.04</td>\n",
       "      <td>0.030</td>\n",
       "      <td>0.0</td>\n",
       "      <td>0.244</td>\n",
       "      <td>0.081</td>\n",
       "      <td>0.000</td>\n",
       "      <td>1.729</td>\n",
       "      <td>43</td>\n",
       "      <td>749</td>\n",
       "      <td>1</td>\n",
       "    </tr>\n",
       "  </tbody>\n",
       "</table>\n",
       "<p>10 rows × 58 columns</p>\n",
       "</div>"
      ],
      "text/plain": [
       "     0     1     2    3     4     5     6     7     8     9  ...    48     49  \\\n",
       "0  0.00  0.64  0.64  0.0  0.32  0.00  0.00  0.00  0.00  0.00 ...  0.00  0.000   \n",
       "1  0.21  0.28  0.50  0.0  0.14  0.28  0.21  0.07  0.00  0.94 ...  0.00  0.132   \n",
       "2  0.06  0.00  0.71  0.0  1.23  0.19  0.19  0.12  0.64  0.25 ...  0.01  0.143   \n",
       "3  0.00  0.00  0.00  0.0  0.63  0.00  0.31  0.63  0.31  0.63 ...  0.00  0.137   \n",
       "4  0.00  0.00  0.00  0.0  0.63  0.00  0.31  0.63  0.31  0.63 ...  0.00  0.135   \n",
       "5  0.00  0.00  0.00  0.0  1.85  0.00  0.00  1.85  0.00  0.00 ...  0.00  0.223   \n",
       "6  0.00  0.00  0.00  0.0  1.92  0.00  0.00  0.00  0.00  0.64 ...  0.00  0.054   \n",
       "7  0.00  0.00  0.00  0.0  1.88  0.00  0.00  1.88  0.00  0.00 ...  0.00  0.206   \n",
       "8  0.15  0.00  0.46  0.0  0.61  0.00  0.30  0.00  0.92  0.76 ...  0.00  0.271   \n",
       "9  0.06  0.12  0.77  0.0  0.19  0.32  0.38  0.00  0.06  0.00 ...  0.04  0.030   \n",
       "\n",
       "    50     51     52     53     54   55    56  57  \n",
       "0  0.0  0.778  0.000  0.000  3.756   61   278   1  \n",
       "1  0.0  0.372  0.180  0.048  5.114  101  1028   1  \n",
       "2  0.0  0.276  0.184  0.010  9.821  485  2259   1  \n",
       "3  0.0  0.137  0.000  0.000  3.537   40   191   1  \n",
       "4  0.0  0.135  0.000  0.000  3.537   40   191   1  \n",
       "5  0.0  0.000  0.000  0.000  3.000   15    54   1  \n",
       "6  0.0  0.164  0.054  0.000  1.671    4   112   1  \n",
       "7  0.0  0.000  0.000  0.000  2.450   11    49   1  \n",
       "8  0.0  0.181  0.203  0.022  9.744  445  1257   1  \n",
       "9  0.0  0.244  0.081  0.000  1.729   43   749   1  \n",
       "\n",
       "[10 rows x 58 columns]"
      ]
     },
     "execution_count": 2,
     "metadata": {},
     "output_type": "execute_result"
    }
   ],
   "source": [
    "df = pd.read_csv('spambase.data',delim_whitespace=False,header=None)\n",
    "df.head(10)"
   ]
  },
  {
   "cell_type": "markdown",
   "metadata": {},
   "source": [
    "#### Switching non-spam labels from 0 to -1"
   ]
  },
  {
   "cell_type": "code",
   "execution_count": 3,
   "metadata": {
    "collapsed": true
   },
   "outputs": [],
   "source": [
    "for row in range(df.shape[0]):\n",
    "    if df.at[row,57] == 0:\n",
    "        df.at[row,57] = -1"
   ]
  },
  {
   "cell_type": "markdown",
   "metadata": {},
   "source": [
    "#### Normalisation of data"
   ]
  },
  {
   "cell_type": "code",
   "execution_count": 4,
   "metadata": {
    "collapsed": true
   },
   "outputs": [],
   "source": [
    "all_data = df.as_matrix()\n",
    "features = all_data[:,:-1]\n",
    "labels = all_data[:,-1]\n",
    "mu = np.mean(features,axis=0)\n",
    "var = features.var(axis=0)\n",
    "normalised = (features-mu)/np.sqrt(var)"
   ]
  },
  {
   "cell_type": "code",
   "execution_count": 5,
   "metadata": {
    "collapsed": true
   },
   "outputs": [],
   "source": [
    "# don't forget to add a column of ones!\n",
    "constant_coefficient = np.ones((labels.shape[0],1))"
   ]
  },
  {
   "cell_type": "code",
   "execution_count": 6,
   "metadata": {
    "collapsed": true
   },
   "outputs": [],
   "source": [
    "data = np.concatenate((constant_coefficient,normalised,labels.reshape((labels.shape[0],1))),axis=-1)"
   ]
  },
  {
   "cell_type": "markdown",
   "metadata": {},
   "source": [
    "#### Shuffle and split data"
   ]
  },
  {
   "cell_type": "code",
   "execution_count": 7,
   "metadata": {
    "collapsed": true
   },
   "outputs": [],
   "source": [
    "from sklearn.utils import shuffle\n",
    "data = shuffle(data,random_state=1338)\n",
    "\n",
    "N = data.shape[0]\n",
    "split = 0.2\n",
    "y_train = data[int(split*N):, -1]\n",
    "X_train = data[int(split*N):, :-1]\n",
    "\n",
    "y_test = data[:int(split*N), -1]\n",
    "X_test = data[:int(split*N), :-1]"
   ]
  },
  {
   "cell_type": "markdown",
   "metadata": {},
   "source": [
    "### The actual Logistic Regression classifier"
   ]
  },
  {
   "cell_type": "code",
   "execution_count": 8,
   "metadata": {
    "collapsed": true
   },
   "outputs": [],
   "source": [
    "class LogisticRegression:\n",
    "    \n",
    "    def calc_prob(self,y,Beta,x):\n",
    "        return 1 / (1 + exp(-y * np.dot(Beta.T, x)))\n",
    "    \n",
    "    def train(self,X_train,y_train,iterations=5):\n",
    "        self.X_train = X_train\n",
    "        self.y_train = y_train\n",
    "        self.Beta = np.mean(self.X_train,axis=0)\n",
    "        delta = 0.01\n",
    "        P = np.full(self.X_train.shape[0],0.5)\n",
    "        for iteration in range(iterations):\n",
    "            for row in range(self.X_train.shape[0]):\n",
    "                P[row] = self.calc_prob(self.y_train[row],self.Beta,self.X_train[row,:])\n",
    "            sum_corrections = np.sum((self.y_train.reshape((self.y_train.shape[0],1))*self.X_train*(1-P.reshape((P.shape[0],1)))),axis=0)\n",
    "            self.Beta = self.Beta + (delta*sum_corrections)\n",
    "            #delta = delta / 10\n",
    "            \n",
    "    def predict(self,X_test,y_test):\n",
    "        self.X_test = X_test\n",
    "        self.y_test = y_test\n",
    "        self.test_rows = y_test.shape[0]\n",
    "        predictions = []\n",
    "        for row in range(X_test.shape[0]):\n",
    "            pos_prob = self.calc_prob(1,self.Beta,X_test[row,:])\n",
    "            neg_prob = 1 - pos_prob\n",
    "            if pos_prob >= neg_prob:\n",
    "                predictions.append(1)\n",
    "            else:\n",
    "                predictions.append(-1)\n",
    "        self.pred_array = np.array(predictions)\n",
    "        \n",
    "    def error_rate(self):\n",
    "        bools = np.equal(self.pred_array,self.y_test.flatten())\n",
    "        correct = np.sum(bools)\n",
    "        return (self.test_rows-correct)/self.test_rows\n",
    "        #return pred\n",
    "        \n",
    "    def changelabels(self,arrtochange):\n",
    "        \"\"\"in labels, changes all positive numbers to 0s and all negative numbers to 1s\"\"\"\n",
    "        result = np.zeros((arrtochange.size))\n",
    "        for i in range(arrtochange.size):\n",
    "            if arrtochange[i] >= 0:\n",
    "                result[i] = 0\n",
    "            else:\n",
    "                result[i] = 1\n",
    "        return result\n",
    "    \n",
    "    def confusion_matrix(self):\n",
    "        preds = self.changelabels(self.pred_array).flatten()\n",
    "        testlabels = self.y_test\n",
    "        changedtestlabels = self.changelabels(testlabels)\n",
    "        mtrx = np.zeros((2,2))\n",
    "        for i in range(self.test_rows):\n",
    "            mtrx[int(changedtestlabels[i]),int(preds[i])] += 1\n",
    "        return mtrx"
   ]
  },
  {
   "cell_type": "markdown",
   "metadata": {},
   "source": [
    "### Spam classifier"
   ]
  },
  {
   "cell_type": "markdown",
   "metadata": {},
   "source": [
    "#### Testing up to 20 iterations"
   ]
  },
  {
   "cell_type": "code",
   "execution_count": 9,
   "metadata": {},
   "outputs": [
    {
     "name": "stdout",
     "output_type": "stream",
     "text": [
      "Error rate for 1 iterations = 0.113043478261\n",
      "Success rate for 1 iterations = 0.886956521739\n",
      "[[ 314.   68.]\n",
      " [  36.  502.]]\n",
      "Error rate for 2 iterations = 0.101086956522\n",
      "Success rate for 2 iterations = 0.898913043478\n",
      "[[ 321.   61.]\n",
      " [  32.  506.]]\n",
      "Error rate for 3 iterations = 0.0989130434783\n",
      "Success rate for 3 iterations = 0.901086956522\n",
      "[[ 322.   60.]\n",
      " [  31.  507.]]\n",
      "Error rate for 4 iterations = 0.095652173913\n",
      "Success rate for 4 iterations = 0.904347826087\n",
      "[[ 326.   56.]\n",
      " [  32.  506.]]\n",
      "Error rate for 5 iterations = 0.0880434782609\n",
      "Success rate for 5 iterations = 0.911956521739\n",
      "[[ 333.   49.]\n",
      " [  32.  506.]]\n",
      "Error rate for 6 iterations = 0.0923913043478\n",
      "Success rate for 6 iterations = 0.907608695652\n",
      "[[ 334.   48.]\n",
      " [  37.  501.]]\n",
      "Error rate for 7 iterations = 0.0869565217391\n",
      "Success rate for 7 iterations = 0.913043478261\n",
      "[[ 340.   42.]\n",
      " [  38.  500.]]\n",
      "Error rate for 8 iterations = 0.0902173913043\n",
      "Success rate for 8 iterations = 0.909782608696\n",
      "[[ 334.   48.]\n",
      " [  35.  503.]]\n",
      "Error rate for 9 iterations = 0.0858695652174\n",
      "Success rate for 9 iterations = 0.914130434783\n",
      "[[ 342.   40.]\n",
      " [  39.  499.]]\n",
      "Error rate for 10 iterations = 0.0880434782609\n",
      "Success rate for 10 iterations = 0.911956521739\n",
      "[[ 333.   49.]\n",
      " [  32.  506.]]\n",
      "Error rate for 11 iterations = 0.0891304347826\n",
      "Success rate for 11 iterations = 0.910869565217\n",
      "[[ 339.   43.]\n",
      " [  39.  499.]]\n",
      "Error rate for 12 iterations = 0.0902173913043\n",
      "Success rate for 12 iterations = 0.909782608696\n",
      "[[ 330.   52.]\n",
      " [  31.  507.]]\n",
      "Error rate for 13 iterations = 0.11847826087\n",
      "Success rate for 13 iterations = 0.88152173913\n",
      "[[ 334.   48.]\n",
      " [  61.  477.]]\n",
      "Error rate for 14 iterations = 0.0923913043478\n",
      "Success rate for 14 iterations = 0.907608695652\n",
      "[[ 331.   51.]\n",
      " [  34.  504.]]\n",
      "Error rate for 15 iterations = 0.1\n",
      "Success rate for 15 iterations = 0.9\n",
      "[[ 326.   56.]\n",
      " [  36.  502.]]\n",
      "Error rate for 16 iterations = 0.102173913043\n",
      "Success rate for 16 iterations = 0.897826086957\n",
      "[[ 335.   47.]\n",
      " [  47.  491.]]\n",
      "Error rate for 17 iterations = 0.122826086957\n",
      "Success rate for 17 iterations = 0.877173913043\n",
      "[[ 302.   80.]\n",
      " [  33.  505.]]\n",
      "Error rate for 18 iterations = 0.125\n",
      "Success rate for 18 iterations = 0.875\n",
      "[[ 347.   35.]\n",
      " [  80.  458.]]\n",
      "Error rate for 19 iterations = 0.122826086957\n",
      "Success rate for 19 iterations = 0.877173913043\n",
      "[[ 291.   91.]\n",
      " [  22.  516.]]\n",
      "Error rate for 20 iterations = 0.139130434783\n",
      "Success rate for 20 iterations = 0.860869565217\n",
      "[[ 357.   25.]\n",
      " [ 103.  435.]]\n",
      "Lowest error rate at 9 iterations with error rate of 0.0858695652174\n"
     ]
    }
   ],
   "source": [
    "iterations = list(range(1,21))\n",
    "errors = []\n",
    "for iteration in iterations:\n",
    "    logreg = LogisticRegression()\n",
    "    logreg.train(X_train,y_train,iterations=iteration)\n",
    "    logreg.predict(X_test,y_test)\n",
    "    errors.append(logreg.error_rate())\n",
    "    print(\"Error rate for\",iteration,\"iterations =\",logreg.error_rate())\n",
    "    print(\"Success rate for\",iteration,\"iterations =\",1-logreg.error_rate())\n",
    "    print(logreg.confusion_matrix())\n",
    "    \n",
    "print(\"Lowest error rate at\",iterations[np.argmin(np.array(errors))],\"iterations with error rate of\",errors[np.argmin(np.array(errors))])"
   ]
  },
  {
   "cell_type": "code",
   "execution_count": 10,
   "metadata": {},
   "outputs": [
    {
     "data": {
      "text/plain": [
       "[<matplotlib.lines.Line2D at 0x150a2d3748>]"
      ]
     },
     "execution_count": 10,
     "metadata": {},
     "output_type": "execute_result"
    },
    {
     "data": {
      "image/png": "[encoded data removed]",
      "text/plain": [
       "<matplotlib.figure.Figure at 0x150a2d3780>"
      ]
     },
     "metadata": {},
     "output_type": "display_data"
    }
   ],
   "source": [
    "import matplotlib.pyplot as plt\n",
    "import seaborn as sns\n",
    "%matplotlib inline\n",
    "\n",
    "plt.xticks(iterations)\n",
    "plt.plot(iterations, [100*e for e in errors], 'bo-')"
   ]
  },
  {
   "cell_type": "markdown",
   "metadata": {},
   "source": [
    "### Classification for and, or, xor"
   ]
  },
  {
   "cell_type": "code",
   "execution_count": 11,
   "metadata": {
    "collapsed": true
   },
   "outputs": [],
   "source": [
    "# again not forgetting to add the constant coefficient at the start\n",
    "# here we replace 0 with -1 for the labels\n",
    "and_ = np.array([[1,0,0,-1],[1,0,1,-1],[1,1,0,-1],[1,1,1,1]])\n",
    "or_ = np.array([[1,0,0,-1],[1,0,1,1],[1,1,0,1],[1,1,1,1]])\n",
    "xor_ = np.array([[1,0,0,-1],[1,0,1,1],[1,1,0,1],[1,1,1,-1]])"
   ]
  },
  {
   "cell_type": "code",
   "execution_count": 12,
   "metadata": {},
   "outputs": [
    {
     "name": "stdout",
     "output_type": "stream",
     "text": [
      "Error rate for and with 1 iteration = 0.75\n",
      "[[ 1.  0.]\n",
      " [ 3.  0.]]\n",
      "Error rate for and with 100 iterations = 0.0\n",
      "[[ 1.  0.]\n",
      " [ 0.  3.]]\n"
     ]
    }
   ],
   "source": [
    "and_test = LogisticRegression()\n",
    "and_test.train(and_[:,:-1],and_[:,-1],iterations=1)\n",
    "and_test.predict(and_[:,:-1],and_[:,-1])\n",
    "print(\"Error rate for and with 1 iteration =\",and_test.error_rate())\n",
    "print(and_test.confusion_matrix())\n",
    "\n",
    "and_test = LogisticRegression()\n",
    "and_test.train(and_[:,:-1],and_[:,-1],iterations=100)\n",
    "and_test.predict(and_[:,:-1],and_[:,-1])\n",
    "print(\"Error rate for and with 100 iterations =\",and_test.error_rate())\n",
    "print(and_test.confusion_matrix())"
   ]
  },
  {
   "cell_type": "code",
   "execution_count": 13,
   "metadata": {},
   "outputs": [
    {
     "name": "stdout",
     "output_type": "stream",
     "text": [
      "Error rate for or with 1 iteration = 0.25\n",
      "[[ 3.  0.]\n",
      " [ 1.  0.]]\n",
      "Error rate for or with 500 iterations = 0.0\n",
      "[[ 3.  0.]\n",
      " [ 0.  1.]]\n"
     ]
    }
   ],
   "source": [
    "or_test = LogisticRegression()\n",
    "or_test.train(or_[:,:-1],or_[:,-1],iterations=1)\n",
    "or_test.predict(or_[:,:-1],or_[:,-1])\n",
    "print(\"Error rate for or with 1 iteration =\",or_test.error_rate())\n",
    "print(or_test.confusion_matrix())\n",
    "\n",
    "or_test = LogisticRegression()\n",
    "or_test.train(or_[:,:-1],or_[:,-1],iterations=500)\n",
    "or_test.predict(or_[:,:-1],or_[:,-1])\n",
    "print(\"Error rate for or with 500 iterations =\",or_test.error_rate())\n",
    "print(or_test.confusion_matrix())"
   ]
  },
  {
   "cell_type": "code",
   "execution_count": 14,
   "metadata": {},
   "outputs": [
    {
     "name": "stdout",
     "output_type": "stream",
     "text": [
      "Error rate for xor with 1 iteration = 0.5\n",
      "[[ 2.  0.]\n",
      " [ 2.  0.]]\n",
      "Error rate for xor with 300 iterations = 0.25\n",
      "[[ 2.  0.]\n",
      " [ 1.  1.]]\n"
     ]
    }
   ],
   "source": [
    "xor_test = LogisticRegression()\n",
    "xor_test.train(xor_[:,:-1],xor_[:,-1],iterations=1)\n",
    "xor_test.predict(xor_[:,:-1],xor_[:,-1])\n",
    "print(\"Error rate for xor with 1 iteration =\",xor_test.error_rate())\n",
    "print(xor_test.confusion_matrix())\n",
    "\n",
    "# tested up to more than 1000 iterations and we don't get a better result than a 25% error rate\n",
    "xor_test = LogisticRegression()\n",
    "xor_test.train(xor_[:,:-1],xor_[:,-1],iterations=300)\n",
    "xor_test.predict(xor_[:,:-1],xor_[:,-1])\n",
    "print(\"Error rate for xor with 300 iterations =\",xor_test.error_rate())\n",
    "print(xor_test.confusion_matrix())"
   ]
  },
  {
   "cell_type": "code",
   "execution_count": null,
   "metadata": {
    "collapsed": true
   },
   "outputs": [],
   "source": []
  }
 ],
 "metadata": {
  "kernelspec": {
   "display_name": "Python 3",
   "language": "python",
   "name": "python3"
  },
  "language_info": {
   "codemirror_mode": {
    "name": "ipython",
    "version": 3
   },
   "file_extension": ".py",
   "mimetype": "text/x-python",
   "name": "python",
   "nbconvert_exporter": "python",
   "pygments_lexer": "ipython3",
   "version": "3.5.0"
  },
  "toc": {
   "nav_menu": {},
   "number_sections": true,
   "sideBar": true,
   "skip_h1_title": false,
   "toc_cell": false,
   "toc_position": {},
   "toc_section_display": "block",
   "toc_window_display": false
  }
 },
 "nbformat": 4,
 "nbformat_minor": 2
}

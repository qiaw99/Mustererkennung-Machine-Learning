{
 "cells": [
  {
   "cell_type": "markdown",
   "metadata": {},
   "source": [
    "# Übung 3 - Gauß-Klassifikator"
   ]
  },
  {
   "cell_type": "code",
   "execution_count": 19,
   "metadata": {
    "collapsed": true
   },
   "outputs": [],
   "source": [
    "import numpy as np\n",
    "from numpy.linalg import pinv, cond, norm\n",
    "from math import pi, e, pow, sqrt\n",
    "from random import randint"
   ]
  },
  {
   "cell_type": "markdown",
   "metadata": {},
   "source": [
    "### Loading the training sets"
   ]
  },
  {
   "cell_type": "code",
   "execution_count": 20,
   "metadata": {
    "collapsed": true
   },
   "outputs": [],
   "source": [
    "three = np.loadtxt('train3',delimiter=',')\n",
    "five = np.loadtxt('train5',delimiter=',')\n",
    "seven = np.loadtxt('train7',delimiter=',')\n",
    "eight = np.loadtxt('train8',delimiter=',')"
   ]
  },
  {
   "cell_type": "markdown",
   "metadata": {},
   "source": [
    "### Loading and combining the test sets for the various matchups"
   ]
  },
  {
   "cell_type": "code",
   "execution_count": 21,
   "metadata": {
    "collapsed": true
   },
   "outputs": [],
   "source": [
    "testset = np.loadtxt('zip.test')\n",
    "\n",
    "testlist = []\n",
    "totest = [3,5,7,8]\n",
    "\n",
    "for i in totest:\n",
    "    testlist.append(testset[testset[:,0] == i])\n",
    "    \n",
    "### set with 3 and 5\n",
    "left = np.concatenate(((np.full((testlist[0].shape[0],1),0)),testlist[0][:,1:]),axis=1)\n",
    "right = np.concatenate(((np.full((testlist[1].shape[0],1),1)),testlist[1][:,1:]),axis=1)\n",
    "threefive_test = np.concatenate((left,right),axis=0)\n",
    "\n",
    "### set with 3 and 7\n",
    "left = np.concatenate(((np.full((testlist[0].shape[0],1),0)),testlist[0][:,1:]),axis=1)\n",
    "right = np.concatenate(((np.full((testlist[2].shape[0],1),1)),testlist[2][:,1:]),axis=1)\n",
    "threeseven_test = np.concatenate((left,right),axis=0)\n",
    "\n",
    "### set with 3 and 8\n",
    "left = np.concatenate(((np.full((testlist[0].shape[0],1),0)),testlist[0][:,1:]),axis=1)\n",
    "right = np.concatenate(((np.full((testlist[3].shape[0],1),1)),testlist[3][:,1:]),axis=1)\n",
    "threeeight_test = np.concatenate((left,right),axis=0)\n",
    "\n",
    "### set with 5 and 7\n",
    "left = np.concatenate(((np.full((testlist[1].shape[0],1),0)),testlist[1][:,1:]),axis=1)\n",
    "right = np.concatenate(((np.full((testlist[2].shape[0],1),1)),testlist[2][:,1:]),axis=1)\n",
    "fiveseven_test = np.concatenate((left,right),axis=0)\n",
    "\n",
    "### set with 5 and 8\n",
    "left = np.concatenate(((np.full((testlist[1].shape[0],1),0)),testlist[1][:,1:]),axis=1)\n",
    "right = np.concatenate(((np.full((testlist[3].shape[0],1),1)),testlist[3][:,1:]),axis=1)\n",
    "fiveeight_test = np.concatenate((left,right),axis=0)\n",
    "\n",
    "### set with 8 and 5\n",
    "left = np.concatenate(((np.full((testlist[3].shape[0],1),0)),testlist[3][:,1:]),axis=1)\n",
    "right = np.concatenate(((np.full((testlist[1].shape[0],1),1)),testlist[1][:,1:]),axis=1)\n",
    "eightfive_test = np.concatenate((left,right),axis=0)\n",
    "\n",
    "### set with 7 and 8\n",
    "left = np.concatenate(((np.full((testlist[2].shape[0],1),0)),testlist[2][:,1:]),axis=1)\n",
    "right = np.concatenate(((np.full((testlist[3].shape[0],1),1)),testlist[3][:,1:]),axis=1)\n",
    "seveneight_test = np.concatenate((left,right),axis=0)"
   ]
  },
  {
   "cell_type": "markdown",
   "metadata": {},
   "source": [
    "### Our Gauß Classifier Class"
   ]
  },
  {
   "cell_type": "code",
   "execution_count": 22,
   "metadata": {
    "collapsed": true
   },
   "outputs": [],
   "source": [
    "class GaussClassifier:\n",
    "    \n",
    "    def train(self,X1,X2):\n",
    "        \"\"\"calculates and saves values for mu and Sigma, as well as the 'corrected' vector values\"\"\"\n",
    "        self.X1_mu = self.calc_mu(X1)\n",
    "        self.X1_centered = self.center(X1, self.X1_mu)\n",
    "        self.X1_Sigma = self.calc_Sigma(self.X1_centered, self.X1_mu)\n",
    "        self.X2_mu = self.calc_mu(X2)\n",
    "        self.X2_centered = self.center(X2, self.X2_mu)\n",
    "        self.X2_Sigma = self.calc_Sigma(self.X2_centered, self.X2_mu)\n",
    "        \n",
    "    def calc_mu(self,X):\n",
    "        \"\"\"calculates mu\"\"\"\n",
    "        return np.mean(X,axis=0,dtype=np.float64)\n",
    "    \n",
    "    def center(self,X,mu):\n",
    "        \"\"\"'corrects' all data points by subtracting mu from each row\"\"\"\n",
    "        return np.subtract(X,mu)\n",
    "    \n",
    "    \"\"\"def calc_Sigma(self,X,mu):\n",
    "        return (1/X.shape[0]) * np.dot(X,X.T)\"\"\"\n",
    "    \n",
    "    def calc_Sigma(self,X,mu):\n",
    "        \"\"\"calculates Sigma\"\"\"\n",
    "        return (1/X.shape[0]) * np.dot(X.T,X)\n",
    "    \n",
    "    def calc_prob(self,mu,Sigma,testset):\n",
    "        \"\"\"calculates the probability that each row is in the given class (defined by its mu and Sigma)\"\"\"\n",
    "        result = np.ones(testset.shape[0])\n",
    "        for i in range(testset.shape[0]):\n",
    "            determinant = sqrt(norm(2 * pi * Sigma))\n",
    "            centered = np.subtract(testset[i],mu)\n",
    "            power = (-0.5) * (np.dot(np.dot(centered.T,pinv(Sigma)),centered))\n",
    "            result[i] = (1/determinant) * pow(e,power)\n",
    "            #result[i] = pow(e,power)\n",
    "        return result\n",
    "            \n",
    "    def predict(self,testset):\n",
    "        \"\"\"the actual prediction process\n",
    "        we included a random predictor because some rows deliver 0s for both probabilities, which favoured the first named class\"\"\"\n",
    "        self.X_test = testset[:,1:]\n",
    "        self.y_test = testset[:,0]\n",
    "        self.X1_pred = self.calc_prob(self.X1_mu,self.X1_Sigma,self.X_test)\n",
    "        self.X2_pred = self.calc_prob(self.X2_mu,self.X2_Sigma,self.X_test)\n",
    "        self.prediction = np.ones(testset.shape[0])\n",
    "        for i in range(testset.shape[0]):\n",
    "            if self.X1_pred[i] > self.X2_pred[i]:\n",
    "                self.prediction[i] = 0\n",
    "            elif self.X1_pred[i] < self.X2_pred[i]:\n",
    "                self.prediction[i] = 1\n",
    "            else:\n",
    "                self.prediction[i] = randint(0,1)\n",
    "        return self.prediction\n",
    "    \n",
    "    def error_rate(self):\n",
    "        \"\"\"calculates the error rate of the prediction\"\"\"\n",
    "        pred = self.prediction\n",
    "        testlabels = self.y_test\n",
    "        datacount = pred.shape[0]\n",
    "        bools = np.equal(testlabels,pred)\n",
    "        correct = np.sum(bools)\n",
    "        return (datacount-correct)/datacount\n",
    "        #return pred\n",
    "    \n",
    "    def confusion_matrix(self):\n",
    "        \"\"\"gives out the confusion matrix of the prediction\"\"\"\n",
    "        preds = self.prediction\n",
    "        testlabels = self.y_test\n",
    "        size = testlabels.size\n",
    "        mtrx = np.zeros((2,2))\n",
    "        for i in range(0,size):\n",
    "            mtrx[int(testlabels[i]),int(preds[i])] += 1\n",
    "        return mtrx"
   ]
  },
  {
   "cell_type": "markdown",
   "metadata": {},
   "source": [
    "### 3 vs 5"
   ]
  },
  {
   "cell_type": "code",
   "execution_count": 23,
   "metadata": {},
   "outputs": [
    {
     "name": "stdout",
     "output_type": "stream",
     "text": [
      "error rate: 0.0766871165644\n"
     ]
    },
    {
     "data": {
      "text/plain": [
       "array([[149,  17],\n",
       "       [  8, 152]], dtype=uint16)"
      ]
     },
     "execution_count": 23,
     "metadata": {},
     "output_type": "execute_result"
    }
   ],
   "source": [
    "threefive = GaussClassifier()\n",
    "threefive.train(three,five)\n",
    "threefive.predict(threefive_test)\n",
    "print(\"error rate:\",threefive.error_rate())\n",
    "threefive.confusion_matrix().astype('uint16')"
   ]
  },
  {
   "cell_type": "markdown",
   "metadata": {},
   "source": [
    "### 3 vs 7"
   ]
  },
  {
   "cell_type": "code",
   "execution_count": 24,
   "metadata": {},
   "outputs": [
    {
     "name": "stdout",
     "output_type": "stream",
     "text": [
      "error rate: 0.0702875399361\n"
     ]
    },
    {
     "data": {
      "text/plain": [
       "array([[160,   6],\n",
       "       [ 16, 131]], dtype=uint16)"
      ]
     },
     "execution_count": 24,
     "metadata": {},
     "output_type": "execute_result"
    }
   ],
   "source": [
    "threeseven = GaussClassifier()\n",
    "threeseven.train(three,seven)\n",
    "threeseven.predict(threeseven_test)\n",
    "print(\"error rate:\",threeseven.error_rate())\n",
    "threeseven.confusion_matrix().astype('uint16')"
   ]
  },
  {
   "cell_type": "markdown",
   "metadata": {},
   "source": [
    "### 3 vs 8"
   ]
  },
  {
   "cell_type": "code",
   "execution_count": 25,
   "metadata": {},
   "outputs": [
    {
     "name": "stdout",
     "output_type": "stream",
     "text": [
      "error rate: 0.120481927711\n"
     ]
    },
    {
     "data": {
      "text/plain": [
       "array([[151,  15],\n",
       "       [ 25, 141]], dtype=uint16)"
      ]
     },
     "execution_count": 25,
     "metadata": {},
     "output_type": "execute_result"
    }
   ],
   "source": [
    "threeeight = GaussClassifier()\n",
    "threeeight.train(three,eight)\n",
    "threeeight.predict(threeeight_test)\n",
    "print(\"error rate:\",threeeight.error_rate())\n",
    "threeeight.confusion_matrix().astype('uint16')"
   ]
  },
  {
   "cell_type": "markdown",
   "metadata": {},
   "source": [
    "### 5 vs 7"
   ]
  },
  {
   "cell_type": "code",
   "execution_count": 26,
   "metadata": {},
   "outputs": [
    {
     "name": "stdout",
     "output_type": "stream",
     "text": [
      "error rate: 0.0553745928339\n"
     ]
    },
    {
     "data": {
      "text/plain": [
       "array([[154,   6],\n",
       "       [ 11, 136]], dtype=uint16)"
      ]
     },
     "execution_count": 26,
     "metadata": {},
     "output_type": "execute_result"
    }
   ],
   "source": [
    "fiveseven = GaussClassifier()\n",
    "fiveseven.train(five,seven)\n",
    "fiveseven.predict(fiveseven_test)\n",
    "print(\"error rate:\",fiveseven.error_rate())\n",
    "fiveseven.confusion_matrix().astype('uint16')"
   ]
  },
  {
   "cell_type": "markdown",
   "metadata": {},
   "source": [
    "### 5 vs 8"
   ]
  },
  {
   "cell_type": "code",
   "execution_count": 27,
   "metadata": {},
   "outputs": [
    {
     "name": "stdout",
     "output_type": "stream",
     "text": [
      "error rate: 0.0858895705521\n"
     ]
    },
    {
     "data": {
      "text/plain": [
       "array([[153,   7],\n",
       "       [ 21, 145]], dtype=uint16)"
      ]
     },
     "execution_count": 27,
     "metadata": {},
     "output_type": "execute_result"
    }
   ],
   "source": [
    "fiveeight = GaussClassifier()\n",
    "fiveeight.train(five,eight)\n",
    "fiveeight.predict(fiveeight_test)\n",
    "print(\"error rate:\",fiveeight.error_rate())\n",
    "fiveeight.confusion_matrix().astype('uint16')"
   ]
  },
  {
   "cell_type": "markdown",
   "metadata": {},
   "source": [
    "### 8 vs 5\n",
    "\n",
    "Note the differences between the two confusion matrices, as a result of the randomised classification when p(x) for both classes results in 0. Prior to the randomisation, there was a marked bias towards the class that was named first."
   ]
  },
  {
   "cell_type": "code",
   "execution_count": 28,
   "metadata": {},
   "outputs": [
    {
     "name": "stdout",
     "output_type": "stream",
     "text": [
      "error rate: 0.0736196319018\n"
     ]
    },
    {
     "data": {
      "text/plain": [
       "array([[150,  16],\n",
       "       [  8, 152]], dtype=uint16)"
      ]
     },
     "execution_count": 28,
     "metadata": {},
     "output_type": "execute_result"
    }
   ],
   "source": [
    "eightfive = GaussClassifier()\n",
    "eightfive.train(eight,five)\n",
    "eightfive.predict(eightfive_test)\n",
    "print(\"error rate:\",eightfive.error_rate())\n",
    "eightfive.confusion_matrix().astype('uint16')"
   ]
  },
  {
   "attachments": {
    "Screenshot%202017-11-03%2021.05.24.png": {
     "image/png": "[encoded data removed]"
    }
   },
   "cell_type": "markdown",
   "metadata": {},
   "source": [
    "For comparison, here were the results for 5vs8 and 8vs5 before the randomised classification was implemented:\n",
    "\n",
    "![Screenshot%202017-11-03%2021.05.24.png](attachment:Screenshot%202017-11-03%2021.05.24.png)"
   ]
  },
  {
   "cell_type": "markdown",
   "metadata": {},
   "source": [
    "### 7 vs 8"
   ]
  },
  {
   "cell_type": "code",
   "execution_count": 29,
   "metadata": {},
   "outputs": [
    {
     "name": "stdout",
     "output_type": "stream",
     "text": [
      "error rate: 0.115015974441\n"
     ]
    },
    {
     "data": {
      "text/plain": [
       "array([[128,  19],\n",
       "       [ 17, 149]], dtype=uint16)"
      ]
     },
     "execution_count": 29,
     "metadata": {},
     "output_type": "execute_result"
    }
   ],
   "source": [
    "seveneight = GaussClassifier()\n",
    "seveneight.train(seven,eight)\n",
    "seveneight.predict(seveneight_test)\n",
    "print(\"error rate:\",seveneight.error_rate())\n",
    "seveneight.confusion_matrix().astype('uint16')"
   ]
  },
  {
   "cell_type": "code",
   "execution_count": null,
   "metadata": {
    "collapsed": true
   },
   "outputs": [],
   "source": []
  }
 ],
 "metadata": {
  "kernelspec": {
   "display_name": "Python 3",
   "language": "python",
   "name": "python3"
  },
  "language_info": {
   "codemirror_mode": {
    "name": "ipython",
    "version": 3
   },
   "file_extension": ".py",
   "mimetype": "text/x-python",
   "name": "python",
   "nbconvert_exporter": "python",
   "pygments_lexer": "ipython3",
   "version": "3.5.0"
  }
 },
 "nbformat": 4,
 "nbformat_minor": 2
}

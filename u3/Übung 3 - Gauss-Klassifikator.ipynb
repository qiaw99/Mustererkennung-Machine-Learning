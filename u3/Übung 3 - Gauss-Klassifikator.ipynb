{
 "cells": [
  {
   "cell_type": "markdown",
   "metadata": {},
   "source": [
    "# Übung 2: Gauss-Klassifikator - Rainier Robles & Valentin Wolf"
   ]
  },
  {
   "cell_type": "code",
   "execution_count": 1,
   "metadata": {
    "collapsed": true
   },
   "outputs": [],
   "source": [
    "import numpy as np\n",
    "import pandas as pd\n",
    "import matplotlib.pyplot as plt\n",
    "import seaborn as sns\n",
    "%matplotlib inline"
   ]
  },
  {
   "cell_type": "markdown",
   "metadata": {},
   "source": [
    "### Import & visualise the data"
   ]
  },
  {
   "cell_type": "code",
   "execution_count": 2,
   "metadata": {
    "collapsed": true
   },
   "outputs": [],
   "source": [
    "train = pd.read_table('zip.train', delim_whitespace=True,header=None)\n",
    "test = pd.read_table('zip.test', delim_whitespace=True,header=None)"
   ]
  },
  {
   "cell_type": "code",
   "execution_count": 3,
   "metadata": {},
   "outputs": [
    {
     "data": {
      "text/html": [
       "<div>\n",
       "<style>\n",
       "    .dataframe thead tr:only-child th {\n",
       "        text-align: right;\n",
       "    }\n",
       "\n",
       "    .dataframe thead th {\n",
       "        text-align: left;\n",
       "    }\n",
       "\n",
       "    .dataframe tbody tr th {\n",
       "        vertical-align: top;\n",
       "    }\n",
       "</style>\n",
       "<table border=\"1\" class=\"dataframe\">\n",
       "  <thead>\n",
       "    <tr style=\"text-align: right;\">\n",
       "      <th></th>\n",
       "      <th>0</th>\n",
       "      <th>1</th>\n",
       "      <th>2</th>\n",
       "      <th>3</th>\n",
       "      <th>4</th>\n",
       "      <th>5</th>\n",
       "      <th>6</th>\n",
       "      <th>7</th>\n",
       "      <th>8</th>\n",
       "      <th>9</th>\n",
       "      <th>...</th>\n",
       "      <th>247</th>\n",
       "      <th>248</th>\n",
       "      <th>249</th>\n",
       "      <th>250</th>\n",
       "      <th>251</th>\n",
       "      <th>252</th>\n",
       "      <th>253</th>\n",
       "      <th>254</th>\n",
       "      <th>255</th>\n",
       "      <th>256</th>\n",
       "    </tr>\n",
       "  </thead>\n",
       "  <tbody>\n",
       "    <tr>\n",
       "      <th>0</th>\n",
       "      <td>6.0</td>\n",
       "      <td>-1.0</td>\n",
       "      <td>-1.0</td>\n",
       "      <td>-1.0</td>\n",
       "      <td>-1.000</td>\n",
       "      <td>-1.000</td>\n",
       "      <td>-1.000</td>\n",
       "      <td>-1.000</td>\n",
       "      <td>-0.631</td>\n",
       "      <td>0.862</td>\n",
       "      <td>...</td>\n",
       "      <td>0.304</td>\n",
       "      <td>0.823</td>\n",
       "      <td>1.000</td>\n",
       "      <td>0.482</td>\n",
       "      <td>-0.474</td>\n",
       "      <td>-0.991</td>\n",
       "      <td>-1.000</td>\n",
       "      <td>-1.000</td>\n",
       "      <td>-1.000</td>\n",
       "      <td>-1.0</td>\n",
       "    </tr>\n",
       "    <tr>\n",
       "      <th>1</th>\n",
       "      <td>5.0</td>\n",
       "      <td>-1.0</td>\n",
       "      <td>-1.0</td>\n",
       "      <td>-1.0</td>\n",
       "      <td>-0.813</td>\n",
       "      <td>-0.671</td>\n",
       "      <td>-0.809</td>\n",
       "      <td>-0.887</td>\n",
       "      <td>-0.671</td>\n",
       "      <td>-0.853</td>\n",
       "      <td>...</td>\n",
       "      <td>-0.671</td>\n",
       "      <td>-0.671</td>\n",
       "      <td>-0.033</td>\n",
       "      <td>0.761</td>\n",
       "      <td>0.762</td>\n",
       "      <td>0.126</td>\n",
       "      <td>-0.095</td>\n",
       "      <td>-0.671</td>\n",
       "      <td>-0.828</td>\n",
       "      <td>-1.0</td>\n",
       "    </tr>\n",
       "    <tr>\n",
       "      <th>2</th>\n",
       "      <td>4.0</td>\n",
       "      <td>-1.0</td>\n",
       "      <td>-1.0</td>\n",
       "      <td>-1.0</td>\n",
       "      <td>-1.000</td>\n",
       "      <td>-1.000</td>\n",
       "      <td>-1.000</td>\n",
       "      <td>-1.000</td>\n",
       "      <td>-1.000</td>\n",
       "      <td>-1.000</td>\n",
       "      <td>...</td>\n",
       "      <td>-1.000</td>\n",
       "      <td>-1.000</td>\n",
       "      <td>-1.000</td>\n",
       "      <td>-0.109</td>\n",
       "      <td>1.000</td>\n",
       "      <td>-0.179</td>\n",
       "      <td>-1.000</td>\n",
       "      <td>-1.000</td>\n",
       "      <td>-1.000</td>\n",
       "      <td>-1.0</td>\n",
       "    </tr>\n",
       "  </tbody>\n",
       "</table>\n",
       "<p>3 rows × 257 columns</p>\n",
       "</div>"
      ],
      "text/plain": [
       "   0    1    2    3      4      5      6      7      8      9   ...     247  \\\n",
       "0  6.0 -1.0 -1.0 -1.0 -1.000 -1.000 -1.000 -1.000 -0.631  0.862 ...   0.304   \n",
       "1  5.0 -1.0 -1.0 -1.0 -0.813 -0.671 -0.809 -0.887 -0.671 -0.853 ...  -0.671   \n",
       "2  4.0 -1.0 -1.0 -1.0 -1.000 -1.000 -1.000 -1.000 -1.000 -1.000 ...  -1.000   \n",
       "\n",
       "     248    249    250    251    252    253    254    255  256  \n",
       "0  0.823  1.000  0.482 -0.474 -0.991 -1.000 -1.000 -1.000 -1.0  \n",
       "1 -0.671 -0.033  0.761  0.762  0.126 -0.095 -0.671 -0.828 -1.0  \n",
       "2 -1.000 -1.000 -0.109  1.000 -0.179 -1.000 -1.000 -1.000 -1.0  \n",
       "\n",
       "[3 rows x 257 columns]"
      ]
     },
     "execution_count": 3,
     "metadata": {},
     "output_type": "execute_result"
    }
   ],
   "source": [
    "train.head(3)"
   ]
  },
  {
   "cell_type": "code",
   "execution_count": 4,
   "metadata": {
    "collapsed": true
   },
   "outputs": [],
   "source": [
    "#train = train[(train[0]==7)|(train[0]==8)]\n",
    "#test = test[(test[0]==7)|(test[0]==8)]\n",
    "#split labels y from data X\n",
    "y_train = train[0].as_matrix()\n",
    "y_test = test[0].as_matrix()\n",
    "X_train = train.drop(0, axis=1).as_matrix()\n",
    "X_test = test.drop(0, axis=1).as_matrix()"
   ]
  },
  {
   "cell_type": "code",
   "execution_count": 5,
   "metadata": {},
   "outputs": [
    {
     "data": {
      "text/plain": [
       "(-0.5, 15.5, 15.5, -0.5)"
      ]
     },
     "execution_count": 5,
     "metadata": {},
     "output_type": "execute_result"
    },
    {
     "data": {
      "image/png": "[encoded data removed]",
      "text/plain": [
       "<matplotlib.figure.Figure at 0x10c666828>"
      ]
     },
     "metadata": {},
     "output_type": "display_data"
    }
   ],
   "source": [
    "img = X_train[0,:].reshape(16,16)\n",
    "im = plt.imshow(img, cmap='Greys')\n",
    "plt.axis('off')"
   ]
  },
  {
   "cell_type": "code",
   "execution_count": 6,
   "metadata": {
    "collapsed": true
   },
   "outputs": [],
   "source": [
    "def is_invertible(X):\n",
    "    return np.linalg.cond(X) < 1 / np.spacing(1)"
   ]
  },
  {
   "cell_type": "markdown",
   "metadata": {},
   "source": [
    "### Define the Classifier"
   ]
  },
  {
   "cell_type": "code",
   "execution_count": 7,
   "metadata": {
    "collapsed": true
   },
   "outputs": [],
   "source": [
    "class Classifier(object):\n",
    "    def error_rate(self,truth, pred):\n",
    "        \"\"\"gets two vectors, returns (correct classified / total classified)\"\"\"\n",
    "        amount = truth.shape[0]\n",
    "        wrong = np.count_nonzero(truth - pred)\n",
    "        return wrong/amount\n",
    "    \n",
    "    def accuracy(self,truth,pred):\n",
    "        return np.mean(truth == pred)\n",
    "    \n",
    "def confused_matrix(x,y,percentage=False):\n",
    "    assert(x.shape == y.shape)\n",
    "    num_entries = x.shape[0]\n",
    "    matrix = np.zeros((10,10))\n",
    "    for i in range(num_entries):\n",
    "        matrix[int(x[i]),int(y[i])] += 1\n",
    "    if percentage==True: \n",
    "        matrix /= np.sum(matrix,axis=1)\n",
    "    return matrix\n"
   ]
  },
  {
   "cell_type": "code",
   "execution_count": 8,
   "metadata": {
    "collapsed": true
   },
   "outputs": [],
   "source": [
    "class GaussClassifier(Classifier):\n",
    "    def fit(self,X,y):\n",
    "        self.classes = np.unique(y)\n",
    "        classes_count = len(self.classes)\n",
    "        features = X.shape[1]\n",
    "        self.centers = np.zeros((classes_count,features))\n",
    "        self.pinv_covs = np.zeros((classes_count,features,features))\n",
    "        self.dets = np.zeros(classes_count)\n",
    "        \n",
    "        \n",
    "        for i in range(classes_count):\n",
    "            cls = self.classes[i]\n",
    "            X_class = X[y == cls]\n",
    "            N = X_class.shape[0]\n",
    "            self.centers[i] = np.mean(X_class,axis=0)\n",
    "            X_class -= self.centers[i]\n",
    "            cov = 1/N * np.sum((X_class[...,None] * X_class[:,None]),axis=0) \n",
    "            #https://stackoverflow.com/questions/40413000/column-by-row-multiplication-in-numpy\n",
    "            self.pinv_covs[i] = np.linalg.pinv(cov)\n",
    "            \n",
    "            self.dets[i] = 1/np.sqrt(np.linalg.norm((2*np.pi)*cov))\n",
    "            \n",
    "            \n",
    "    def predict(self,X):\n",
    "        classes_count = len(self.classes)\n",
    "        scores = np.zeros((X.shape[0],classes_count))\n",
    "\n",
    "        for i in range(X.shape[0]):\n",
    "            for j in range(classes_count):\n",
    "                Xi_centered = X[i] - self.centers[j]\n",
    "                expo = (-0.5)*np.dot(np.dot(Xi_centered.T,self.pinv_covs[j]),Xi_centered)\n",
    "                scores[i,j] = self.dets[j] * np.exp(expo)\n",
    "                \n",
    "        best_scores = np.argmax(scores,axis=1)\n",
    "        # np.argmax gives us the index of our predicted label in classes\n",
    "        # so the actual label is in self.classes[index]\n",
    "        f = lambda x: self.classes[x]\n",
    "        labels = np.fromiter((f(xi) for xi in best_scores), best_scores.dtype)\n",
    "        \n",
    "        return labels "
   ]
  },
  {
   "cell_type": "code",
   "execution_count": 32,
   "metadata": {},
   "outputs": [
    {
     "data": {
      "text/plain": [
       "(256, 256)"
      ]
     },
     "execution_count": 32,
     "metadata": {},
     "output_type": "execute_result"
    }
   ],
   "source": [
    "class_center = np.mean(X_test[y_test == 0],axis=0)\n",
    "X_class = X_test[y_test == 0] - class_center\n",
    "(X_class - class_center).T.dot((X_class - class_center)).shape"
   ]
  },
  {
   "cell_type": "code",
   "execution_count": 33,
   "metadata": {},
   "outputs": [
    {
     "data": {
      "text/plain": [
       "0.03125414468315825"
      ]
     },
     "execution_count": 33,
     "metadata": {},
     "output_type": "execute_result"
    }
   ],
   "source": [
    "#cov = (X_class[...,None] * X_class[:,None])\n",
    "cov2 = np.sum((X_class[...,None] * X_class[:,None]),axis=0) / 359\n",
    "np.cov(X_train[y_train==0].T,bias=1).mean()"
   ]
  },
  {
   "cell_type": "code",
   "execution_count": 34,
   "metadata": {},
   "outputs": [
    {
     "data": {
      "text/plain": [
       "0.035931547930312065"
      ]
     },
     "execution_count": 34,
     "metadata": {},
     "output_type": "execute_result"
    }
   ],
   "source": [
    "cov2.mean()"
   ]
  },
  {
   "cell_type": "markdown",
   "metadata": {},
   "source": [
    "# Fit & All vs All Predict"
   ]
  },
  {
   "cell_type": "code",
   "execution_count": 20,
   "metadata": {
    "collapsed": true
   },
   "outputs": [],
   "source": [
    "classifier = GaussClassifier()\n",
    "\n",
    "classifier.fit(X_train, y_train)"
   ]
  },
  {
   "cell_type": "code",
   "execution_count": 21,
   "metadata": {},
   "outputs": [
    {
     "name": "stderr",
     "output_type": "stream",
     "text": [
      "/Library/Frameworks/Python.framework/Versions/3.5/lib/python3.5/site-packages/ipykernel_launcher.py:33: RuntimeWarning: overflow encountered in exp\n"
     ]
    }
   ],
   "source": [
    "pred = classifier.predict(X_test)"
   ]
  },
  {
   "cell_type": "code",
   "execution_count": 22,
   "metadata": {},
   "outputs": [
    {
     "name": "stdout",
     "output_type": "stream",
     "text": [
      "Accuracy: 0.84405 \n",
      "Error rate: 0.15595\n"
     ]
    }
   ],
   "source": [
    "print('Accuracy:', round(classifier.accuracy(y_test,pred),5),\n",
    "      '\\nError rate:', round(classifier.error_rate(y_test,pred),5))"
   ]
  },
  {
   "cell_type": "code",
   "execution_count": 23,
   "metadata": {},
   "outputs": [
    {
     "data": {
      "text/plain": [
       "<matplotlib.axes._subplots.AxesSubplot at 0x10c4606a0>"
      ]
     },
     "execution_count": 23,
     "metadata": {},
     "output_type": "execute_result"
    },
    {
     "data": {
      "image/png": "[encoded data removed]",
      "text/plain": [
       "<matplotlib.figure.Figure at 0x1041fdb00>"
      ]
     },
     "metadata": {},
     "output_type": "display_data"
    }
   ],
   "source": [
    "x = confused_matrix(y_test,pred)\n",
    "dims = (8, 6)\n",
    "fig, ax = plt.subplots(figsize=dims)\n",
    "sns.heatmap(ax=ax,data=x, annot=True, fmt=\"g\", cmap='Greys')"
   ]
  },
  {
   "cell_type": "code",
   "execution_count": 15,
   "metadata": {},
   "outputs": [
    {
     "data": {
      "text/plain": [
       "<matplotlib.axes._subplots.AxesSubplot at 0x10bf0c1d0>"
      ]
     },
     "execution_count": 15,
     "metadata": {},
     "output_type": "execute_result"
    },
    {
     "data": {
      "image/png": "[encoded data removed]",
      "text/plain": [
       "<matplotlib.figure.Figure at 0x102dae3c8>"
      ]
     },
     "metadata": {},
     "output_type": "display_data"
    }
   ],
   "source": [
    "x = confused_matrix(y_test,pred,percentage=True)\n",
    "dims = (8, 6)\n",
    "fig, ax = plt.subplots(figsize=dims)\n",
    "sns.heatmap(ax=ax,data=np.round(x,3), annot=True, fmt=\"g\", cmap='Greys')"
   ]
  },
  {
   "cell_type": "markdown",
   "metadata": {},
   "source": [
    "# 1 vs. 1 Prediction"
   ]
  },
  {
   "cell_type": "code",
   "execution_count": 16,
   "metadata": {},
   "outputs": [
    {
     "name": "stdout",
     "output_type": "stream",
     "text": [
      "3 vs. 5 Accuracy: 0.9233 Error rate: 0.0767\n",
      "3 vs. 7 Accuracy: 0.9297 Error rate: 0.0703\n",
      "3 vs. 8 Accuracy: 0.8434 Error rate: 0.1566\n",
      "5 vs. 7 Accuracy: 0.9316 Error rate: 0.0684\n",
      "5 vs. 8 Accuracy: 0.8742 Error rate: 0.1258\n",
      "7 vs. 8 Accuracy: 0.8371 Error rate: 0.1629\n"
     ]
    }
   ],
   "source": [
    "array = [3,5,7,8] #range(10)\n",
    "\n",
    "for i in array:\n",
    "    for j in array:\n",
    "        if i >= j:\n",
    "            continue\n",
    "        X_tr = X_train[(y_train==i)|(y_train==j)]\n",
    "        y_tr = y_train[(y_train==i)|(y_train==j)]\n",
    "        X_te = X_test[(y_test==i)|(y_test==j)]\n",
    "        y_te = y_test[(y_test==i)|(y_test==j)]\n",
    "        \n",
    "        classifier = GaussClassifier()\n",
    "\n",
    "        classifier.fit(X_tr, y_tr)\n",
    "        \n",
    "        pred = classifier.predict(X_te)\n",
    "        \n",
    "        print(i, 'vs.', j, \n",
    "              'Accuracy:', round(classifier.accuracy(y_te,pred),4), \n",
    "              'Error rate:', round(classifier.error_rate(y_te,pred),4))"
   ]
  }
 ],
 "metadata": {
  "kernelspec": {
   "display_name": "Python 3",
   "language": "python",
   "name": "python3"
  },
  "language_info": {
   "codemirror_mode": {
    "name": "ipython",
    "version": 3
   },
   "file_extension": ".py",
   "mimetype": "text/x-python",
   "name": "python",
   "nbconvert_exporter": "python",
   "pygments_lexer": "ipython3",
   "version": "3.5.0"
  }
 },
 "nbformat": 4,
 "nbformat_minor": 1
}

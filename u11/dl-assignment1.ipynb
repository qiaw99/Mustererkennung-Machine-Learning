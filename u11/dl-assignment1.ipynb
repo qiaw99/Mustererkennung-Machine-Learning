{
 "cells": [
  {
   "cell_type": "code",
   "execution_count": 1,
   "metadata": {
    "ExecuteTime": {
     "end_time": "2018-01-12T14:02:46.981830Z",
     "start_time": "2018-01-12T14:02:46.743612Z"
    }
   },
   "outputs": [
    {
     "data": {
      "text/plain": [
       "'0.3.0.post4'"
      ]
     },
     "execution_count": 1,
     "metadata": {},
     "output_type": "execute_result"
    }
   ],
   "source": [
    "import torch\n",
    "torch.__version__"
   ]
  },
  {
   "cell_type": "markdown",
   "metadata": {},
   "source": [
    "# Assignment 1\n",
    "\n",
    "Fill in the code and then print to PDF to send for marking.\n",
    "\n",
    "## A first look at PyTorch\n",
    "\n",
    "\n",
    "We will now take a look at a first concrete example of a neural network, which makes use of the Python library PyTorch to learn to classify fashion articles. Unless you already have experience with PyTorch or similar libraries, you will not understand everything about this first example right away. You probably haven't even installed Pytorch yet. Don't worry, that is perfectly fine. We will do all that below.\n",
    "\n",
    "The problem we are trying to solve here is to classify grayscale images of fashion articles (28 pixels by 28 pixels), into their 10 categories. The dataset we will use is the Fashion-MNIST dataset, a dropin replacement of MNIST which is a classic dataset in the machine learning community, which has been around for almost as long as the field itself and has been very intensively studied. It's a set of 60,000 training images, plus 10,000 test images. You can think of \"solving\" Fashion-MNIST or MNIST as the \"Hello World\" of deep learning --- it's what you do to verify that your algorithms are working as expected. As you become a machine learning practitioner, you will see MNIST come up over and over again, in scientific papers, blog posts, and so on.\n",
    "\n",
    "The Fashion-MNIST and MNIST datasets comes as standard datasets in PyTorch's `torchvision` library, as subclasses of `torch.utils.data.Dataset` which makes it convinent to use as we will see.\n",
    "\n",
    "Our images are encoded as `PIL.Image.Image` objects, and the labels are simply an array of integers, ranging from 0 to 9.  There is a one-to-one correspondence between the images and the labels.\n",
    "\n",
    "Before training, we will transform our data by first converting it to a `Tensor` and then  normalizing it so that all image values have mean 0.5 and standard deviation of 1, by composing these operations as `transforms` function to the datasets:"
   ]
  },
  {
   "cell_type": "code",
   "execution_count": 2,
   "metadata": {
    "ExecuteTime": {
     "end_time": "2018-01-12T14:03:21.729623Z",
     "start_time": "2018-01-12T14:02:50.869801Z"
    }
   },
   "outputs": [
    {
     "name": "stdout",
     "output_type": "stream",
     "text": [
      "Downloading http://fashion-mnist.s3-website.eu-central-1.amazonaws.com/train-images-idx3-ubyte.gz\n",
      "Downloading http://fashion-mnist.s3-website.eu-central-1.amazonaws.com/train-labels-idx1-ubyte.gz\n",
      "Downloading http://fashion-mnist.s3-website.eu-central-1.amazonaws.com/t10k-images-idx3-ubyte.gz\n",
      "Downloading http://fashion-mnist.s3-website.eu-central-1.amazonaws.com/t10k-labels-idx1-ubyte.gz\n",
      "Processing...\n",
      "Done!\n"
     ]
    }
   ],
   "source": [
    "from torchvision import datasets, transforms\n",
    "\n",
    "trans = transforms.Compose([transforms.ToTensor(), transforms.Normalize((0.5,), (1.0,))])\n",
    "\n",
    "train_dataset = datasets.FashionMNIST('data', transform=trans, train=True, download=True)\n",
    "test_dataset = datasets.FashionMNIST('data', transform=trans, train=False, download=True)"
   ]
  },
  {
   "cell_type": "markdown",
   "metadata": {},
   "source": [
    "`train_dataset` forms the \"training set\", the data that the model will learn from. The model will then be tested on the \"test set\", `test_dataset`. \n",
    "\n",
    "Let's have a look at the training data:"
   ]
  },
  {
   "cell_type": "code",
   "execution_count": 3,
   "metadata": {
    "ExecuteTime": {
     "end_time": "2018-01-12T14:05:22.629741Z",
     "start_time": "2018-01-12T14:05:22.625755Z"
    }
   },
   "outputs": [
    {
     "data": {
      "text/plain": [
       "60000"
      ]
     },
     "execution_count": 3,
     "metadata": {},
     "output_type": "execute_result"
    }
   ],
   "source": [
    "len(train_dataset)"
   ]
  },
  {
   "cell_type": "code",
   "execution_count": 4,
   "metadata": {
    "ExecuteTime": {
     "end_time": "2018-01-12T14:05:23.408835Z",
     "start_time": "2018-01-12T14:05:23.027254Z"
    }
   },
   "outputs": [
    {
     "data": {
      "text/plain": [
       "<matplotlib.image.AxesImage at 0x10cdbc048>"
      ]
     },
     "execution_count": 4,
     "metadata": {},
     "output_type": "execute_result"
    },
    {
     "data": {
      "image/png": "[encoded data removed]",
      "text/plain": [
       "<matplotlib.figure.Figure at 0x1061aa898>"
      ]
     },
     "metadata": {},
     "output_type": "display_data"
    }
   ],
   "source": [
    "%matplotlib inline\n",
    "import matplotlib.pyplot as plt\n",
    "\n",
    "plt.imshow(train_dataset.train_data[0], cmap='gray')"
   ]
  },
  {
   "cell_type": "code",
   "execution_count": 1,
   "metadata": {
    "ExecuteTime": {
     "end_time": "2018-05-08T11:31:37.212295Z",
     "start_time": "2018-05-08T11:31:37.160362Z"
    }
   },
   "outputs": [
    {
     "ename": "NameError",
     "evalue": "name 'train_dataset' is not defined",
     "output_type": "error",
     "traceback": [
      "\u001b[0;31m---------------------------------------------------------------------------\u001b[0m",
      "\u001b[0;31mNameError\u001b[0m                                 Traceback (most recent call last)",
      "\u001b[0;32m<ipython-input-1-2b90a3dd145b>\u001b[0m in \u001b[0;36m<module>\u001b[0;34m()\u001b[0m\n\u001b[0;32m----> 1\u001b[0;31m \u001b[0mtrain_dataset\u001b[0m\u001b[0;34m.\u001b[0m\u001b[0mtrain_labels\u001b[0m\u001b[0;34m[\u001b[0m\u001b[0;36m0\u001b[0m\u001b[0;34m]\u001b[0m\u001b[0;34m\u001b[0m\u001b[0m\n\u001b[0m",
      "\u001b[0;31mNameError\u001b[0m: name 'train_dataset' is not defined"
     ]
    }
   ],
   "source": [
    "train_dataset.train_labels[0]"
   ]
  },
  {
   "cell_type": "code",
   "execution_count": null,
   "metadata": {
    "collapsed": true
   },
   "outputs": [],
   "source": [
    "train_dataset.train_data[0]"
   ]
  },
  {
   "cell_type": "markdown",
   "metadata": {},
   "source": [
    "Let's have a look at the test data:"
   ]
  },
  {
   "cell_type": "code",
   "execution_count": 6,
   "metadata": {
    "ExecuteTime": {
     "end_time": "2018-01-12T14:05:27.853183Z",
     "start_time": "2018-01-12T14:05:27.849044Z"
    }
   },
   "outputs": [
    {
     "data": {
      "text/plain": [
       "10000"
      ]
     },
     "execution_count": 6,
     "metadata": {},
     "output_type": "execute_result"
    }
   ],
   "source": [
    "len(test_dataset)"
   ]
  },
  {
   "cell_type": "code",
   "execution_count": 7,
   "metadata": {
    "ExecuteTime": {
     "end_time": "2018-01-12T14:05:28.550736Z",
     "start_time": "2018-01-12T14:05:28.401468Z"
    }
   },
   "outputs": [
    {
     "data": {
      "text/plain": [
       "<matplotlib.image.AxesImage at 0x10d0c5f28>"
      ]
     },
     "execution_count": 7,
     "metadata": {},
     "output_type": "execute_result"
    },
    {
     "data": {
      "image/png": "[encoded data removed]",
      "text/plain": [
       "<matplotlib.figure.Figure at 0x10cff7668>"
      ]
     },
     "metadata": {},
     "output_type": "display_data"
    }
   ],
   "source": [
    "plt.imshow(test_dataset.test_data[15], cmap='gray')"
   ]
  },
  {
   "cell_type": "code",
   "execution_count": 8,
   "metadata": {
    "ExecuteTime": {
     "end_time": "2018-01-12T14:05:29.357361Z",
     "start_time": "2018-01-12T14:05:29.353453Z"
    }
   },
   "outputs": [
    {
     "data": {
      "text/plain": [
       "1"
      ]
     },
     "execution_count": 8,
     "metadata": {},
     "output_type": "execute_result"
    }
   ],
   "source": [
    "test_dataset.test_labels[15]"
   ]
  },
  {
   "cell_type": "markdown",
   "metadata": {},
   "source": [
    "Our workflow will be as follow: first we will present our neural network with the training data, `train_dataset` via the `DataLoader` iterator. The network will then learn to associate images and labels. Finally, we will ask the network to produce predictions for `test_dataset`, and we will verify if these predictions match the test labels.\n",
    "\n",
    "Let's build our network --- again, remember that you aren't supposed to understand everything about this example just yet."
   ]
  },
  {
   "cell_type": "code",
   "execution_count": 9,
   "metadata": {
    "ExecuteTime": {
     "end_time": "2018-01-12T14:05:30.654264Z",
     "start_time": "2018-01-12T14:05:30.641442Z"
    },
    "collapsed": true
   },
   "outputs": [],
   "source": [
    "import torch.nn as nn\n",
    "import torch.nn.functional as F\n",
    "\n",
    "class Net(nn.Module):\n",
    "    def __init__(self):\n",
    "        super(Net, self).__init__()\n",
    "        self.fc1 = nn.Linear(28*28, 512)\n",
    "        self.fc2 = nn.Linear(512, 10)\n",
    "\n",
    "    def forward(self, x):\n",
    "        x = x.view(-1, 28*28)\n",
    "        x = F.relu(self.fc1(x))\n",
    "        x = self.fc2(x)\n",
    "        return F.log_softmax(x)"
   ]
  },
  {
   "cell_type": "code",
   "execution_count": 10,
   "metadata": {
    "ExecuteTime": {
     "end_time": "2018-01-12T14:05:31.314224Z",
     "start_time": "2018-01-12T14:05:31.307290Z"
    },
    "collapsed": true
   },
   "outputs": [],
   "source": [
    "model = Net()\n",
    "if torch.cuda.is_available():\n",
    "    model.cuda()"
   ]
  },
  {
   "cell_type": "markdown",
   "metadata": {},
   "source": [
    "The core building block of neural networks is the \"layer\", a data-processing module which you can conceive as a \"filter\" for data. Some data comes in, and comes out in a more useful form. Precisely, layers extract _representations_ out of the data fed into them --- hopefully  representations that are more meaningful for the problem at hand. Most of deep learning really consists of chaining together simple layers  which will implement a form of progressive \"data distillation\". A deep learning model is like a sieve for data processing, made of a  succession of increasingly refined data filters --- the \"layers\".\n",
    "\n",
    "Here our network consists of a sequence of two `Linear` layers, which are densely-connected (also called \"fully-connected\") neural layers.  The output (and last) layer is a 10-way \"softmax\" layer, which means it will return an array of 10 probability scores (summing to 1). Each  score will be the probability that the current article image belongs to one of our 10 classes.\n",
    "\n",
    "To make our network ready for training, we need to pick three more things:\n",
    "\n",
    "* An optimizer: this is the mechanism through which the network will update itself based on the data it sees and its loss function.\n",
    "* A loss function: the is how the network will be able to measure how good a job it is doing on its training data, and thus how it will be  able to steer itself in the right direction.\n",
    "* Metrics to monitor during training and testing. Here we will only care about accuracy (the fraction of the images that were correctly classified).\n",
    "\n",
    "The exact purpose of the loss function and the optimizer will be made clear throughout the next lectures and homeworks. Lets start with the optimizer:"
   ]
  },
  {
   "cell_type": "code",
   "execution_count": 11,
   "metadata": {
    "ExecuteTime": {
     "end_time": "2018-01-12T14:05:33.140804Z",
     "start_time": "2018-01-12T14:05:33.137193Z"
    },
    "collapsed": true
   },
   "outputs": [],
   "source": [
    "import torch.optim as optim\n",
    "\n",
    "optimizer = optim.SGD(model.parameters(), lr=0.01, momentum=0.5)"
   ]
  },
  {
   "cell_type": "code",
   "execution_count": 12,
   "metadata": {
    "ExecuteTime": {
     "end_time": "2018-01-12T14:05:33.711163Z",
     "start_time": "2018-01-12T14:05:33.705596Z"
    },
    "collapsed": true
   },
   "outputs": [],
   "source": [
    "kwargs = {'num_workers': 1, 'pin_memory': True} if torch.cuda.is_available() else {}\n",
    "train_loader = torch.utils.data.DataLoader(train_dataset,\n",
    "                                           batch_size=128, \n",
    "                                           shuffle=True,\n",
    "                                           **kwargs)\n",
    "test_loader = torch.utils.data.DataLoader(test_dataset,\n",
    "                                          batch_size=128,\n",
    "                                          shuffle=False,\n",
    "                                          **kwargs)"
   ]
  },
  {
   "cell_type": "markdown",
   "metadata": {},
   "source": [
    "We are now ready to train our network, meaning, we \"fit\" the model to its training data, which in PyTorch is done via a `train()`  helper which typically contains the loss we wish to minimize and looks like this: "
   ]
  },
  {
   "cell_type": "code",
   "execution_count": 13,
   "metadata": {
    "ExecuteTime": {
     "end_time": "2018-01-12T14:05:37.022388Z",
     "start_time": "2018-01-12T14:05:37.001231Z"
    },
    "collapsed": true
   },
   "outputs": [],
   "source": [
    "from torch.autograd import Variable\n",
    "\n",
    "def train(epoch):\n",
    "    model.train()\n",
    "    \n",
    "    for batch_idx, (data, target) in enumerate(train_loader):\n",
    "        if torch.cuda.is_available():\n",
    "            data, target = data.cuda(), target.cuda()\n",
    "        data, target = Variable(data), Variable(target)\n",
    "\n",
    "        optimizer.zero_grad()\n",
    "        \n",
    "        output = model(data)\n",
    "        \n",
    "        loss = F.nll_loss(output, target)\n",
    "        loss.backward()\n",
    "        \n",
    "        optimizer.step()\n",
    "        \n",
    "        if batch_idx % 10 == 0:\n",
    "            print('Train Epoch: {} [{}/{} ({:.0f}%)]\\tLoss: {:.6f}'.format(\n",
    "                epoch, batch_idx * len(data), len(train_loader.dataset),\n",
    "                100. * batch_idx / len(train_loader), loss.data[0]))"
   ]
  },
  {
   "cell_type": "markdown",
   "metadata": {},
   "source": [
    "The quantity being displayed during training in the above helper is: the \"loss\" of the network over the training data. Let us write a `test()` helper which will print out the accuracy metric of the network over the test data:"
   ]
  },
  {
   "cell_type": "code",
   "execution_count": 14,
   "metadata": {
    "ExecuteTime": {
     "end_time": "2018-01-12T14:05:38.249080Z",
     "start_time": "2018-01-12T14:05:38.233263Z"
    },
    "collapsed": true
   },
   "outputs": [],
   "source": [
    "def test():\n",
    "    model.eval()\n",
    "    \n",
    "    test_loss = 0\n",
    "    correct = 0\n",
    "    for data, target in test_loader:\n",
    "        if torch.cuda.is_available():\n",
    "            data, target = data.cuda(), target.cuda()\n",
    "        data, target = Variable(data, volatile=True), Variable(target)\n",
    "        output = model(data)\n",
    "        test_loss += F.nll_loss(output, target, size_average=False).data[0] # sum up batch loss\n",
    "        pred = output.data.max(1, keepdim=True)[1] # get the index of the max log-probability\n",
    "        correct += pred.eq(target.data.view_as(pred)).cpu().sum()\n",
    "\n",
    "    test_loss /= len(test_loader.dataset)\n",
    "    print('\\nTest set: Average loss: {:.4f}, Accuracy: {}/{} ({:.0f}%)\\n'.format(\n",
    "        test_loss, correct, len(test_loader.dataset),\n",
    "        100. * correct / len(test_loader.dataset)))"
   ]
  },
  {
   "cell_type": "markdown",
   "metadata": {},
   "source": [
    "Now let us  train the network for 5 epochs and print the test set accuracy at the end of each epoch:"
   ]
  },
  {
   "cell_type": "code",
   "execution_count": 15,
   "metadata": {
    "ExecuteTime": {
     "end_time": "2018-01-12T14:06:14.556652Z",
     "start_time": "2018-01-12T14:05:39.230536Z"
    }
   },
   "outputs": [
    {
     "name": "stderr",
     "output_type": "stream",
     "text": [
      "/Library/Frameworks/Python.framework/Versions/3.5/lib/python3.5/site-packages/ipykernel_launcher.py:14: UserWarning: Implicit dimension choice for log_softmax has been deprecated. Change the call to include dim=X as an argument.\n",
      "  \n"
     ]
    },
    {
     "name": "stdout",
     "output_type": "stream",
     "text": [
      "Train Epoch: 1 [0/60000 (0%)]\tLoss: 2.312649\n",
      "Train Epoch: 1 [1280/60000 (2%)]\tLoss: 2.203849\n",
      "Train Epoch: 1 [2560/60000 (4%)]\tLoss: 2.102406\n",
      "Train Epoch: 1 [3840/60000 (6%)]\tLoss: 1.968619\n",
      "Train Epoch: 1 [5120/60000 (9%)]\tLoss: 1.863094\n",
      "Train Epoch: 1 [6400/60000 (11%)]\tLoss: 1.719783\n",
      "Train Epoch: 1 [7680/60000 (13%)]\tLoss: 1.655484\n",
      "Train Epoch: 1 [8960/60000 (15%)]\tLoss: 1.581791\n",
      "Train Epoch: 1 [10240/60000 (17%)]\tLoss: 1.470022\n",
      "Train Epoch: 1 [11520/60000 (19%)]\tLoss: 1.434871\n",
      "Train Epoch: 1 [12800/60000 (21%)]\tLoss: 1.255092\n",
      "Train Epoch: 1 [14080/60000 (23%)]\tLoss: 1.194115\n",
      "Train Epoch: 1 [15360/60000 (26%)]\tLoss: 1.329170\n",
      "Train Epoch: 1 [16640/60000 (28%)]\tLoss: 1.167275\n",
      "Train Epoch: 1 [17920/60000 (30%)]\tLoss: 1.015199\n",
      "Train Epoch: 1 [19200/60000 (32%)]\tLoss: 1.085723\n",
      "Train Epoch: 1 [20480/60000 (34%)]\tLoss: 1.036617\n",
      "Train Epoch: 1 [21760/60000 (36%)]\tLoss: 1.079313\n",
      "Train Epoch: 1 [23040/60000 (38%)]\tLoss: 0.888740\n",
      "Train Epoch: 1 [24320/60000 (41%)]\tLoss: 0.962205\n",
      "Train Epoch: 1 [25600/60000 (43%)]\tLoss: 0.957816\n",
      "Train Epoch: 1 [26880/60000 (45%)]\tLoss: 0.874356\n",
      "Train Epoch: 1 [28160/60000 (47%)]\tLoss: 0.896225\n",
      "Train Epoch: 1 [29440/60000 (49%)]\tLoss: 0.837007\n",
      "Train Epoch: 1 [30720/60000 (51%)]\tLoss: 0.820618\n",
      "Train Epoch: 1 [32000/60000 (53%)]\tLoss: 0.909066\n",
      "Train Epoch: 1 [33280/60000 (55%)]\tLoss: 0.900420\n",
      "Train Epoch: 1 [34560/60000 (58%)]\tLoss: 0.832400\n",
      "Train Epoch: 1 [35840/60000 (60%)]\tLoss: 0.756418\n",
      "Train Epoch: 1 [37120/60000 (62%)]\tLoss: 0.813475\n",
      "Train Epoch: 1 [38400/60000 (64%)]\tLoss: 0.793174\n",
      "Train Epoch: 1 [39680/60000 (66%)]\tLoss: 0.799911\n",
      "Train Epoch: 1 [40960/60000 (68%)]\tLoss: 0.651532\n",
      "Train Epoch: 1 [42240/60000 (70%)]\tLoss: 0.900069\n",
      "Train Epoch: 1 [43520/60000 (72%)]\tLoss: 0.783791\n",
      "Train Epoch: 1 [44800/60000 (75%)]\tLoss: 0.772637\n",
      "Train Epoch: 1 [46080/60000 (77%)]\tLoss: 0.968905\n",
      "Train Epoch: 1 [47360/60000 (79%)]\tLoss: 0.701396\n",
      "Train Epoch: 1 [48640/60000 (81%)]\tLoss: 0.663201\n",
      "Train Epoch: 1 [49920/60000 (83%)]\tLoss: 0.779630\n",
      "Train Epoch: 1 [51200/60000 (85%)]\tLoss: 0.666109\n",
      "Train Epoch: 1 [52480/60000 (87%)]\tLoss: 0.706841\n",
      "Train Epoch: 1 [53760/60000 (90%)]\tLoss: 0.704718\n",
      "Train Epoch: 1 [55040/60000 (92%)]\tLoss: 0.738942\n",
      "Train Epoch: 1 [56320/60000 (94%)]\tLoss: 0.715284\n",
      "Train Epoch: 1 [57600/60000 (96%)]\tLoss: 0.583816\n",
      "Train Epoch: 1 [58880/60000 (98%)]\tLoss: 0.794310\n",
      "\n",
      "Test set: Average loss: 0.7041, Accuracy: 7541/10000 (75%)\n",
      "\n",
      "Train Epoch: 2 [0/60000 (0%)]\tLoss: 0.766586\n",
      "Train Epoch: 2 [1280/60000 (2%)]\tLoss: 0.642357\n",
      "Train Epoch: 2 [2560/60000 (4%)]\tLoss: 0.663677\n",
      "Train Epoch: 2 [3840/60000 (6%)]\tLoss: 0.692198\n",
      "Train Epoch: 2 [5120/60000 (9%)]\tLoss: 0.608397\n",
      "Train Epoch: 2 [6400/60000 (11%)]\tLoss: 0.654178\n",
      "Train Epoch: 2 [7680/60000 (13%)]\tLoss: 0.780681\n",
      "Train Epoch: 2 [8960/60000 (15%)]\tLoss: 0.697819\n",
      "Train Epoch: 2 [10240/60000 (17%)]\tLoss: 0.571780\n",
      "Train Epoch: 2 [11520/60000 (19%)]\tLoss: 0.744742\n",
      "Train Epoch: 2 [12800/60000 (21%)]\tLoss: 0.536746\n",
      "Train Epoch: 2 [14080/60000 (23%)]\tLoss: 0.680634\n",
      "Train Epoch: 2 [15360/60000 (26%)]\tLoss: 0.608262\n",
      "Train Epoch: 2 [16640/60000 (28%)]\tLoss: 0.634371\n",
      "Train Epoch: 2 [17920/60000 (30%)]\tLoss: 0.645150\n",
      "Train Epoch: 2 [19200/60000 (32%)]\tLoss: 0.707339\n",
      "Train Epoch: 2 [20480/60000 (34%)]\tLoss: 0.697169\n",
      "Train Epoch: 2 [21760/60000 (36%)]\tLoss: 0.711736\n",
      "Train Epoch: 2 [23040/60000 (38%)]\tLoss: 0.789701\n",
      "Train Epoch: 2 [24320/60000 (41%)]\tLoss: 0.654737\n",
      "Train Epoch: 2 [25600/60000 (43%)]\tLoss: 0.692487\n",
      "Train Epoch: 2 [26880/60000 (45%)]\tLoss: 0.608014\n",
      "Train Epoch: 2 [28160/60000 (47%)]\tLoss: 0.505207\n",
      "Train Epoch: 2 [29440/60000 (49%)]\tLoss: 0.525636\n",
      "Train Epoch: 2 [30720/60000 (51%)]\tLoss: 0.613541\n",
      "Train Epoch: 2 [32000/60000 (53%)]\tLoss: 0.628697\n",
      "Train Epoch: 2 [33280/60000 (55%)]\tLoss: 0.540170\n",
      "Train Epoch: 2 [34560/60000 (58%)]\tLoss: 0.615609\n",
      "Train Epoch: 2 [35840/60000 (60%)]\tLoss: 0.527154\n",
      "Train Epoch: 2 [37120/60000 (62%)]\tLoss: 0.640425\n",
      "Train Epoch: 2 [38400/60000 (64%)]\tLoss: 0.668400\n",
      "Train Epoch: 2 [39680/60000 (66%)]\tLoss: 0.669947\n",
      "Train Epoch: 2 [40960/60000 (68%)]\tLoss: 0.526475\n",
      "Train Epoch: 2 [42240/60000 (70%)]\tLoss: 0.516868\n",
      "Train Epoch: 2 [43520/60000 (72%)]\tLoss: 0.551351\n",
      "Train Epoch: 2 [44800/60000 (75%)]\tLoss: 0.493193\n",
      "Train Epoch: 2 [46080/60000 (77%)]\tLoss: 0.626914\n",
      "Train Epoch: 2 [47360/60000 (79%)]\tLoss: 0.594019\n",
      "Train Epoch: 2 [48640/60000 (81%)]\tLoss: 0.747377\n",
      "Train Epoch: 2 [49920/60000 (83%)]\tLoss: 0.664379\n",
      "Train Epoch: 2 [51200/60000 (85%)]\tLoss: 0.760001\n",
      "Train Epoch: 2 [52480/60000 (87%)]\tLoss: 0.592854\n",
      "Train Epoch: 2 [53760/60000 (90%)]\tLoss: 0.562199\n",
      "Train Epoch: 2 [55040/60000 (92%)]\tLoss: 0.694777\n",
      "Train Epoch: 2 [56320/60000 (94%)]\tLoss: 0.632304\n",
      "Train Epoch: 2 [57600/60000 (96%)]\tLoss: 0.532569\n",
      "Train Epoch: 2 [58880/60000 (98%)]\tLoss: 0.597770\n",
      "\n",
      "Test set: Average loss: 0.5977, Accuracy: 7886/10000 (79%)\n",
      "\n",
      "Train Epoch: 3 [0/60000 (0%)]\tLoss: 0.526600\n",
      "Train Epoch: 3 [1280/60000 (2%)]\tLoss: 0.485904\n",
      "Train Epoch: 3 [2560/60000 (4%)]\tLoss: 0.545836\n",
      "Train Epoch: 3 [3840/60000 (6%)]\tLoss: 0.539124\n",
      "Train Epoch: 3 [5120/60000 (9%)]\tLoss: 0.563432\n",
      "Train Epoch: 3 [6400/60000 (11%)]\tLoss: 0.674482\n",
      "Train Epoch: 3 [7680/60000 (13%)]\tLoss: 0.594150\n",
      "Train Epoch: 3 [8960/60000 (15%)]\tLoss: 0.617456\n",
      "Train Epoch: 3 [10240/60000 (17%)]\tLoss: 0.577989\n",
      "Train Epoch: 3 [11520/60000 (19%)]\tLoss: 0.539914\n",
      "Train Epoch: 3 [12800/60000 (21%)]\tLoss: 0.551883\n",
      "Train Epoch: 3 [14080/60000 (23%)]\tLoss: 0.545543\n",
      "Train Epoch: 3 [15360/60000 (26%)]\tLoss: 0.534361\n",
      "Train Epoch: 3 [16640/60000 (28%)]\tLoss: 0.472314\n",
      "Train Epoch: 3 [17920/60000 (30%)]\tLoss: 0.596001\n",
      "Train Epoch: 3 [19200/60000 (32%)]\tLoss: 0.572123\n",
      "Train Epoch: 3 [20480/60000 (34%)]\tLoss: 0.597926\n",
      "Train Epoch: 3 [21760/60000 (36%)]\tLoss: 0.717200\n",
      "Train Epoch: 3 [23040/60000 (38%)]\tLoss: 0.456059\n",
      "Train Epoch: 3 [24320/60000 (41%)]\tLoss: 0.504538\n",
      "Train Epoch: 3 [25600/60000 (43%)]\tLoss: 0.579585\n",
      "Train Epoch: 3 [26880/60000 (45%)]\tLoss: 0.572884\n",
      "Train Epoch: 3 [28160/60000 (47%)]\tLoss: 0.425573\n",
      "Train Epoch: 3 [29440/60000 (49%)]\tLoss: 0.599488\n",
      "Train Epoch: 3 [30720/60000 (51%)]\tLoss: 0.745163\n",
      "Train Epoch: 3 [32000/60000 (53%)]\tLoss: 0.520714\n",
      "Train Epoch: 3 [33280/60000 (55%)]\tLoss: 0.534790\n",
      "Train Epoch: 3 [34560/60000 (58%)]\tLoss: 0.477727\n",
      "Train Epoch: 3 [35840/60000 (60%)]\tLoss: 0.574511\n",
      "Train Epoch: 3 [37120/60000 (62%)]\tLoss: 0.554099\n",
      "Train Epoch: 3 [38400/60000 (64%)]\tLoss: 0.562997\n",
      "Train Epoch: 3 [39680/60000 (66%)]\tLoss: 0.597744\n",
      "Train Epoch: 3 [40960/60000 (68%)]\tLoss: 0.659439\n",
      "Train Epoch: 3 [42240/60000 (70%)]\tLoss: 0.564293\n",
      "Train Epoch: 3 [43520/60000 (72%)]\tLoss: 0.569331\n",
      "Train Epoch: 3 [44800/60000 (75%)]\tLoss: 0.590216\n",
      "Train Epoch: 3 [46080/60000 (77%)]\tLoss: 0.517557\n",
      "Train Epoch: 3 [47360/60000 (79%)]\tLoss: 0.527801\n",
      "Train Epoch: 3 [48640/60000 (81%)]\tLoss: 0.457845\n",
      "Train Epoch: 3 [49920/60000 (83%)]\tLoss: 0.496090\n",
      "Train Epoch: 3 [51200/60000 (85%)]\tLoss: 0.475179\n",
      "Train Epoch: 3 [52480/60000 (87%)]\tLoss: 0.622993\n",
      "Train Epoch: 3 [53760/60000 (90%)]\tLoss: 0.435548\n",
      "Train Epoch: 3 [55040/60000 (92%)]\tLoss: 0.497219\n",
      "Train Epoch: 3 [56320/60000 (94%)]\tLoss: 0.576409\n",
      "Train Epoch: 3 [57600/60000 (96%)]\tLoss: 0.545139\n",
      "Train Epoch: 3 [58880/60000 (98%)]\tLoss: 0.495100\n",
      "\n",
      "Test set: Average loss: 0.5499, Accuracy: 8055/10000 (81%)\n",
      "\n",
      "Train Epoch: 4 [0/60000 (0%)]\tLoss: 0.500848\n",
      "Train Epoch: 4 [1280/60000 (2%)]\tLoss: 0.514147\n",
      "Train Epoch: 4 [2560/60000 (4%)]\tLoss: 0.399584\n",
      "Train Epoch: 4 [3840/60000 (6%)]\tLoss: 0.488147\n",
      "Train Epoch: 4 [5120/60000 (9%)]\tLoss: 0.526590\n",
      "Train Epoch: 4 [6400/60000 (11%)]\tLoss: 0.509748\n",
      "Train Epoch: 4 [7680/60000 (13%)]\tLoss: 0.520138\n",
      "Train Epoch: 4 [8960/60000 (15%)]\tLoss: 0.466325\n",
      "Train Epoch: 4 [10240/60000 (17%)]\tLoss: 0.512761\n",
      "Train Epoch: 4 [11520/60000 (19%)]\tLoss: 0.453668\n",
      "Train Epoch: 4 [12800/60000 (21%)]\tLoss: 0.529006\n",
      "Train Epoch: 4 [14080/60000 (23%)]\tLoss: 0.647526\n",
      "Train Epoch: 4 [15360/60000 (26%)]\tLoss: 0.523829\n",
      "Train Epoch: 4 [16640/60000 (28%)]\tLoss: 0.548313\n",
      "Train Epoch: 4 [17920/60000 (30%)]\tLoss: 0.407025\n",
      "Train Epoch: 4 [19200/60000 (32%)]\tLoss: 0.556429\n",
      "Train Epoch: 4 [20480/60000 (34%)]\tLoss: 0.623838\n",
      "Train Epoch: 4 [21760/60000 (36%)]\tLoss: 0.481315\n",
      "Train Epoch: 4 [23040/60000 (38%)]\tLoss: 0.624163\n",
      "Train Epoch: 4 [24320/60000 (41%)]\tLoss: 0.514823\n",
      "Train Epoch: 4 [25600/60000 (43%)]\tLoss: 0.545102\n",
      "Train Epoch: 4 [26880/60000 (45%)]\tLoss: 0.368401\n"
     ]
    },
    {
     "name": "stdout",
     "output_type": "stream",
     "text": [
      "Train Epoch: 4 [28160/60000 (47%)]\tLoss: 0.520870\n",
      "Train Epoch: 4 [29440/60000 (49%)]\tLoss: 0.487541\n",
      "Train Epoch: 4 [30720/60000 (51%)]\tLoss: 0.401477\n",
      "Train Epoch: 4 [32000/60000 (53%)]\tLoss: 0.516928\n",
      "Train Epoch: 4 [33280/60000 (55%)]\tLoss: 0.605887\n",
      "Train Epoch: 4 [34560/60000 (58%)]\tLoss: 0.584341\n",
      "Train Epoch: 4 [35840/60000 (60%)]\tLoss: 0.521096\n",
      "Train Epoch: 4 [37120/60000 (62%)]\tLoss: 0.509951\n",
      "Train Epoch: 4 [38400/60000 (64%)]\tLoss: 0.420728\n",
      "Train Epoch: 4 [39680/60000 (66%)]\tLoss: 0.495663\n",
      "Train Epoch: 4 [40960/60000 (68%)]\tLoss: 0.470801\n",
      "Train Epoch: 4 [42240/60000 (70%)]\tLoss: 0.557294\n",
      "Train Epoch: 4 [43520/60000 (72%)]\tLoss: 0.459838\n",
      "Train Epoch: 4 [44800/60000 (75%)]\tLoss: 0.480527\n",
      "Train Epoch: 4 [46080/60000 (77%)]\tLoss: 0.408365\n",
      "Train Epoch: 4 [47360/60000 (79%)]\tLoss: 0.540321\n",
      "Train Epoch: 4 [48640/60000 (81%)]\tLoss: 0.429234\n",
      "Train Epoch: 4 [49920/60000 (83%)]\tLoss: 0.563185\n",
      "Train Epoch: 4 [51200/60000 (85%)]\tLoss: 0.489698\n",
      "Train Epoch: 4 [52480/60000 (87%)]\tLoss: 0.565026\n",
      "Train Epoch: 4 [53760/60000 (90%)]\tLoss: 0.398776\n",
      "Train Epoch: 4 [55040/60000 (92%)]\tLoss: 0.641715\n",
      "Train Epoch: 4 [56320/60000 (94%)]\tLoss: 0.449987\n",
      "Train Epoch: 4 [57600/60000 (96%)]\tLoss: 0.623091\n",
      "Train Epoch: 4 [58880/60000 (98%)]\tLoss: 0.625708\n",
      "\n",
      "Test set: Average loss: 0.5207, Accuracy: 8128/10000 (81%)\n",
      "\n",
      "Train Epoch: 5 [0/60000 (0%)]\tLoss: 0.516884\n",
      "Train Epoch: 5 [1280/60000 (2%)]\tLoss: 0.481860\n",
      "Train Epoch: 5 [2560/60000 (4%)]\tLoss: 0.460560\n",
      "Train Epoch: 5 [3840/60000 (6%)]\tLoss: 0.481344\n",
      "Train Epoch: 5 [5120/60000 (9%)]\tLoss: 0.422805\n",
      "Train Epoch: 5 [6400/60000 (11%)]\tLoss: 0.431299\n",
      "Train Epoch: 5 [7680/60000 (13%)]\tLoss: 0.577604\n",
      "Train Epoch: 5 [8960/60000 (15%)]\tLoss: 0.633182\n",
      "Train Epoch: 5 [10240/60000 (17%)]\tLoss: 0.454174\n",
      "Train Epoch: 5 [11520/60000 (19%)]\tLoss: 0.531239\n",
      "Train Epoch: 5 [12800/60000 (21%)]\tLoss: 0.551691\n",
      "Train Epoch: 5 [14080/60000 (23%)]\tLoss: 0.593626\n",
      "Train Epoch: 5 [15360/60000 (26%)]\tLoss: 0.621907\n",
      "Train Epoch: 5 [16640/60000 (28%)]\tLoss: 0.430472\n",
      "Train Epoch: 5 [17920/60000 (30%)]\tLoss: 0.479802\n",
      "Train Epoch: 5 [19200/60000 (32%)]\tLoss: 0.562128\n",
      "Train Epoch: 5 [20480/60000 (34%)]\tLoss: 0.477606\n",
      "Train Epoch: 5 [21760/60000 (36%)]\tLoss: 0.497770\n",
      "Train Epoch: 5 [23040/60000 (38%)]\tLoss: 0.381407\n",
      "Train Epoch: 5 [24320/60000 (41%)]\tLoss: 0.397106\n",
      "Train Epoch: 5 [25600/60000 (43%)]\tLoss: 0.522678\n",
      "Train Epoch: 5 [26880/60000 (45%)]\tLoss: 0.725539\n",
      "Train Epoch: 5 [28160/60000 (47%)]\tLoss: 0.477393\n",
      "Train Epoch: 5 [29440/60000 (49%)]\tLoss: 0.502593\n",
      "Train Epoch: 5 [30720/60000 (51%)]\tLoss: 0.497442\n",
      "Train Epoch: 5 [32000/60000 (53%)]\tLoss: 0.457539\n",
      "Train Epoch: 5 [33280/60000 (55%)]\tLoss: 0.478459\n",
      "Train Epoch: 5 [34560/60000 (58%)]\tLoss: 0.522385\n",
      "Train Epoch: 5 [35840/60000 (60%)]\tLoss: 0.435107\n",
      "Train Epoch: 5 [37120/60000 (62%)]\tLoss: 0.431258\n",
      "Train Epoch: 5 [38400/60000 (64%)]\tLoss: 0.416353\n",
      "Train Epoch: 5 [39680/60000 (66%)]\tLoss: 0.405167\n",
      "Train Epoch: 5 [40960/60000 (68%)]\tLoss: 0.360983\n",
      "Train Epoch: 5 [42240/60000 (70%)]\tLoss: 0.450830\n",
      "Train Epoch: 5 [43520/60000 (72%)]\tLoss: 0.434991\n",
      "Train Epoch: 5 [44800/60000 (75%)]\tLoss: 0.649693\n",
      "Train Epoch: 5 [46080/60000 (77%)]\tLoss: 0.390475\n",
      "Train Epoch: 5 [47360/60000 (79%)]\tLoss: 0.453185\n",
      "Train Epoch: 5 [48640/60000 (81%)]\tLoss: 0.492001\n",
      "Train Epoch: 5 [49920/60000 (83%)]\tLoss: 0.440310\n",
      "Train Epoch: 5 [51200/60000 (85%)]\tLoss: 0.674209\n",
      "Train Epoch: 5 [52480/60000 (87%)]\tLoss: 0.539168\n",
      "Train Epoch: 5 [53760/60000 (90%)]\tLoss: 0.527020\n",
      "Train Epoch: 5 [55040/60000 (92%)]\tLoss: 0.525351\n",
      "Train Epoch: 5 [56320/60000 (94%)]\tLoss: 0.509451\n",
      "Train Epoch: 5 [57600/60000 (96%)]\tLoss: 0.404836\n",
      "Train Epoch: 5 [58880/60000 (98%)]\tLoss: 0.454801\n",
      "\n",
      "Test set: Average loss: 0.5016, Accuracy: 8215/10000 (82%)\n",
      "\n"
     ]
    }
   ],
   "source": [
    "for epoch in range(1, 5 + 1):\n",
    "    train(epoch)\n",
    "    test()"
   ]
  },
  {
   "cell_type": "markdown",
   "metadata": {},
   "source": [
    "Our test set accuracy turns out to be 84% --- that's quite a bit lower than the training set accuracy.  This gap between training accuracy and test accuracy is an example of \"overfitting\",  the fact that machine learning models tend to perform worse on new data than on their training data.  Overfitting will be a central topic in machine learning and deep learning in particular.\n",
    "\n",
    "This concludes our very first example --- you just saw how we could build and a train a neural network to classify clothing articles, in less than 30 or so lines of Python code.\n",
    "\n",
    "## Assignment\n",
    "\n",
    "In this assignment we will try to get some intuition on the hyperparameters associated with the optimizer. Optimization hyperparameters have a large influence on the quality of solutions found by optimization\n",
    "algorithms for deep neural networks. The optimization algorithms we will look at have many hyperparameters:\n",
    "\n",
    "* $\\alpha_0$ the initial step size\n",
    "* the step decay scheme\n",
    "* $\\beta_0$ the initial momentum value\n",
    "* the momentum schedule\n",
    "* ...\n",
    "\n",
    "In this assignment we will concentrate on the the step size and the step decay scheme.\n",
    "\n",
    "### Fixed Model\n",
    "\n",
    "We will work with the following fixed model for the CIFAR-10 data:"
   ]
  },
  {
   "cell_type": "code",
   "execution_count": 127,
   "metadata": {
    "ExecuteTime": {
     "end_time": "2018-01-20T21:57:48.153044Z",
     "start_time": "2018-01-20T21:57:48.120450Z"
    },
    "collapsed": true
   },
   "outputs": [],
   "source": [
    "cfg = {\n",
    "    'VGG11': [64, 'M', 128, 'M', 256, 256, 'M', 512, 512, 'M', 512, 512, 'M']\n",
    "}\n",
    "\n",
    "class VGG11(nn.Module):\n",
    "    def __init__(self):\n",
    "        super(VGG11, self).__init__()\n",
    "        self.features = self._make_layers(cfg['VGG11'])\n",
    "        self.classifier = nn.Linear(512, 10)\n",
    "\n",
    "    def forward(self, x):\n",
    "        x = self.features(x)\n",
    "        x = x.view(x.size(0), -1)\n",
    "        return self.classifier(x)\n",
    "    \n",
    "    def _make_layers(self, cfg):\n",
    "        layers = []\n",
    "        in_channels = 3\n",
    "        for x in cfg:\n",
    "            if x == 'M':\n",
    "                layers += [nn.MaxPool2d(kernel_size=2, stride=2)]\n",
    "            else:\n",
    "                layers += [nn.Conv2d(in_channels, x, kernel_size=3, padding=1),\n",
    "                           nn.BatchNorm2d(x),\n",
    "                           nn.ReLU(inplace=True)]\n",
    "                in_channels = x\n",
    "        layers += [nn.AvgPool2d(kernel_size=1, stride=1)]\n",
    "        return nn.Sequential(*layers)"
   ]
  },
  {
   "cell_type": "code",
   "execution_count": 128,
   "metadata": {
    "ExecuteTime": {
     "end_time": "2018-01-20T21:57:49.030268Z",
     "start_time": "2018-01-20T21:57:48.940707Z"
    },
    "collapsed": true
   },
   "outputs": [],
   "source": [
    "model = VGG11()\n",
    "if torch.cuda.is_available():\n",
    "    model.cuda()"
   ]
  },
  {
   "cell_type": "markdown",
   "metadata": {},
   "source": [
    "### Task 1\n",
    "\n",
    "Load the CIFAR-10 dataset with some appropriate `batch_size` and transform it to a `Tensor` and normalize it using:"
   ]
  },
  {
   "cell_type": "code",
   "execution_count": 59,
   "metadata": {
    "ExecuteTime": {
     "end_time": "2018-01-19T18:28:29.997196Z",
     "start_time": "2018-01-19T18:28:29.993012Z"
    },
    "collapsed": true
   },
   "outputs": [],
   "source": [
    "normalize = transforms.Normalize(mean=[0.485, 0.456, 0.406],\n",
    "                                 std=[0.229, 0.224, 0.225])\n",
    "transform = transforms.Compose(\n",
    "    [transforms.ToTensor(),\n",
    "     normalize])"
   ]
  },
  {
   "cell_type": "code",
   "execution_count": 82,
   "metadata": {
    "ExecuteTime": {
     "end_time": "2018-01-19T18:47:27.070001Z",
     "start_time": "2018-01-19T18:47:24.985872Z"
    }
   },
   "outputs": [
    {
     "name": "stdout",
     "output_type": "stream",
     "text": [
      "Files already downloaded and verified\n",
      "Files already downloaded and verified\n"
     ]
    }
   ],
   "source": [
    "### YOUR CODE HERE ###\n",
    "\n",
    "CIFAR_train = datasets.CIFAR10('data',download=True, transform=transform, train=True)\n",
    "CIFAR_test = datasets.CIFAR10('data',download=True, transform=transform, train=False)"
   ]
  },
  {
   "cell_type": "code",
   "execution_count": 107,
   "metadata": {
    "ExecuteTime": {
     "end_time": "2018-01-19T19:13:23.239153Z",
     "start_time": "2018-01-19T19:13:23.226868Z"
    }
   },
   "outputs": [
    {
     "ename": "TypeError",
     "evalue": "__init__() missing 2 required positional arguments: 'batch_size' and 'drop_last'",
     "output_type": "error",
     "traceback": [
      "\u001b[0;31m---------------------------------------------------------------------------\u001b[0m",
      "\u001b[0;31mTypeError\u001b[0m                                 Traceback (most recent call last)",
      "\u001b[0;32m<ipython-input-107-a945a1370513>\u001b[0m in \u001b[0;36m<module>\u001b[0;34m()\u001b[0m\n\u001b[1;32m      3\u001b[0m                                            \u001b[0mbatch_size\u001b[0m\u001b[0;34m=\u001b[0m\u001b[0;36m32\u001b[0m\u001b[0;34m,\u001b[0m\u001b[0;34m\u001b[0m\u001b[0m\n\u001b[1;32m      4\u001b[0m                                            \u001b[0mshuffle\u001b[0m\u001b[0;34m=\u001b[0m\u001b[0;32mFalse\u001b[0m\u001b[0;34m,\u001b[0m\u001b[0;34m\u001b[0m\u001b[0m\n\u001b[0;32m----> 5\u001b[0;31m                                            \u001b[0msampler\u001b[0m\u001b[0;34m=\u001b[0m\u001b[0mtorch\u001b[0m\u001b[0;34m.\u001b[0m\u001b[0mutils\u001b[0m\u001b[0;34m.\u001b[0m\u001b[0mdata\u001b[0m\u001b[0;34m.\u001b[0m\u001b[0msampler\u001b[0m\u001b[0;34m.\u001b[0m\u001b[0mBatchSampler\u001b[0m\u001b[0;34m(\u001b[0m\u001b[0mlist\u001b[0m\u001b[0;34m(\u001b[0m\u001b[0mrange\u001b[0m\u001b[0;34m(\u001b[0m\u001b[0;36m4\u001b[0m\u001b[0;34m*\u001b[0m\u001b[0;36m1024\u001b[0m\u001b[0;34m)\u001b[0m\u001b[0;34m)\u001b[0m\u001b[0;34m)\u001b[0m\u001b[0;34m,\u001b[0m\u001b[0;34m\u001b[0m\u001b[0m\n\u001b[0m\u001b[1;32m      6\u001b[0m                                            **kwargs)\n\u001b[1;32m      7\u001b[0m test_loader = torch.utils.data.DataLoader(CIFAR_test,\n",
      "\u001b[0;31mTypeError\u001b[0m: __init__() missing 2 required positional arguments: 'batch_size' and 'drop_last'"
     ]
    }
   ],
   "source": [
    "kwargs = {'num_workers': 1, 'pin_memory': True} if torch.cuda.is_available() else {'num_workers': 16}\n",
    "train_loader = torch.utils.data.DataLoader(CIFAR_train,\n",
    "                                           batch_size=32, \n",
    "                                           shuffle=False,\n",
    "                                           sampler=torch.utils.data.sampler.SubsetRandomSampler(list(range(4*1024))),\n",
    "                                           **kwargs)\n",
    "test_loader = torch.utils.data.DataLoader(CIFAR_test,\n",
    "                                          batch_size=16,\n",
    "                                          shuffle=False,\n",
    "                                          sampler=torch.utils.data.sampler.SubsetRandomSampler(list(range(2*128))),\n",
    "                                          **kwargs)"
   ]
  },
  {
   "cell_type": "markdown",
   "metadata": {},
   "source": [
    "### Task 2\n",
    "\n",
    "Next we want to train the network by minimizing the `CrossEntropyLoss` for `50` epochs using the `SGD` and `Adam` optimizer using their default parameters and plot the validation accuracy and test accuracy over the course of the training."
   ]
  },
  {
   "cell_type": "code",
   "execution_count": 102,
   "metadata": {
    "ExecuteTime": {
     "end_time": "2018-01-19T19:04:34.974671Z",
     "start_time": "2018-01-19T19:04:34.912834Z"
    },
    "collapsed": true
   },
   "outputs": [],
   "source": [
    "optimizer = optim.Adam(model.parameters(),lr=0.001)\n",
    "criterion = nn.CrossEntropyLoss()\n",
    "def train(epoch):\n",
    "    model.train()\n",
    "    \n",
    "    for batch_idx, (data, target) in enumerate(train_loader):\n",
    "        if torch.cuda.is_available():\n",
    "            data, target = data.cuda(), target.cuda()\n",
    "        data, target = Variable(data), Variable(target)\n",
    "\n",
    "        optimizer.zero_grad()\n",
    "        \n",
    "        output = model(data)\n",
    "        \n",
    "        loss = criterion(output, target)\n",
    "        loss.backward()\n",
    "        optimizer.step()\n",
    "        \n",
    "        if batch_idx % 10 == 0:\n",
    "            print('Train Epoch: {} [{}/{} ({:.0f}%)]\\tLoss: {:.6f}'.format(\n",
    "                epoch, batch_idx * len(data), 4*1024,\n",
    "                100. * batch_idx / len(train_loader), loss.data[0]))\n",
    "            \n",
    "def test():\n",
    "    model.eval()\n",
    "    \n",
    "    test_loss = 0\n",
    "    correct = 0\n",
    "    for data, target in test_loader:\n",
    "        if torch.cuda.is_available():\n",
    "            data, target = data.cuda(), target.cuda()\n",
    "        data, target = Variable(data, volatile=True), Variable(target)\n",
    "        output = model(data)\n",
    "        test_loss += criterion(output, target).data[0] # sum up batch loss\n",
    "        pred = output.data.max(1, keepdim=True)[1] # get the index of the max log-probability\n",
    "        correct += pred.eq(target.data.view_as(pred)).cpu().sum()\n",
    "\n",
    "    test_loss /= len(test_loader.dataset)\n",
    "    print('\\nTest set: Average loss: {:.4f}, Accuracy: {}/{} ({:.0f}%)\\n'.format(\n",
    "        test_loss, correct, 2*128,\n",
    "        100. * correct / 2*128))"
   ]
  },
  {
   "cell_type": "code",
   "execution_count": 104,
   "metadata": {
    "ExecuteTime": {
     "end_time": "2018-01-19T19:12:19.552699Z",
     "start_time": "2018-01-19T19:04:43.852576Z"
    }
   },
   "outputs": [
    {
     "name": "stdout",
     "output_type": "stream",
     "text": [
      "Train Epoch: 1 [0/4096 (0%)]\tLoss: 2.219313\n",
      "Train Epoch: 1 [320/4096 (8%)]\tLoss: 1.476289\n",
      "Train Epoch: 1 [640/4096 (16%)]\tLoss: 2.025711\n",
      "Train Epoch: 1 [960/4096 (23%)]\tLoss: 1.690868\n",
      "Train Epoch: 1 [1280/4096 (31%)]\tLoss: 1.423154\n",
      "Train Epoch: 1 [1600/4096 (39%)]\tLoss: 2.141390\n",
      "Train Epoch: 1 [1920/4096 (47%)]\tLoss: 1.581337\n",
      "Train Epoch: 1 [2240/4096 (55%)]\tLoss: 2.227865\n",
      "Train Epoch: 1 [2560/4096 (62%)]\tLoss: 1.602215\n",
      "Train Epoch: 1 [2880/4096 (70%)]\tLoss: 1.484336\n",
      "Train Epoch: 1 [3200/4096 (78%)]\tLoss: 2.034958\n",
      "Train Epoch: 1 [3520/4096 (86%)]\tLoss: 1.617825\n",
      "Train Epoch: 1 [3840/4096 (94%)]\tLoss: 1.420125\n",
      "\n",
      "Test set: Average loss: 0.0028, Accuracy: 102/10000 (652800%)\n",
      "\n",
      "Train Epoch: 2 [0/4096 (0%)]\tLoss: 1.454084\n",
      "Train Epoch: 2 [320/4096 (8%)]\tLoss: 1.364363\n",
      "Train Epoch: 2 [640/4096 (16%)]\tLoss: 1.161226\n",
      "Train Epoch: 2 [960/4096 (23%)]\tLoss: 2.079358\n",
      "Train Epoch: 2 [1280/4096 (31%)]\tLoss: 1.809796\n",
      "Train Epoch: 2 [1600/4096 (39%)]\tLoss: 1.366488\n",
      "Train Epoch: 2 [1920/4096 (47%)]\tLoss: 1.646534\n",
      "Train Epoch: 2 [2240/4096 (55%)]\tLoss: 1.772534\n",
      "Train Epoch: 2 [2560/4096 (62%)]\tLoss: 1.860620\n",
      "Train Epoch: 2 [2880/4096 (70%)]\tLoss: 1.558840\n",
      "Train Epoch: 2 [3200/4096 (78%)]\tLoss: 1.391396\n",
      "Train Epoch: 2 [3520/4096 (86%)]\tLoss: 1.493966\n",
      "Train Epoch: 2 [3840/4096 (94%)]\tLoss: 1.229250\n",
      "\n",
      "Test set: Average loss: 0.0030, Accuracy: 112/10000 (716800%)\n",
      "\n",
      "Train Epoch: 3 [0/4096 (0%)]\tLoss: 1.371361\n",
      "Train Epoch: 3 [320/4096 (8%)]\tLoss: 2.666215\n",
      "Train Epoch: 3 [640/4096 (16%)]\tLoss: 1.398060\n",
      "Train Epoch: 3 [960/4096 (23%)]\tLoss: 1.460051\n",
      "Train Epoch: 3 [1280/4096 (31%)]\tLoss: 1.699098\n",
      "Train Epoch: 3 [1600/4096 (39%)]\tLoss: 1.546422\n",
      "Train Epoch: 3 [1920/4096 (47%)]\tLoss: 1.463247\n",
      "Train Epoch: 3 [2240/4096 (55%)]\tLoss: 1.412762\n",
      "Train Epoch: 3 [2560/4096 (62%)]\tLoss: 1.422388\n",
      "Train Epoch: 3 [2880/4096 (70%)]\tLoss: 1.458382\n",
      "Train Epoch: 3 [3200/4096 (78%)]\tLoss: 1.928708\n",
      "Train Epoch: 3 [3520/4096 (86%)]\tLoss: 2.010583\n",
      "Train Epoch: 3 [3840/4096 (94%)]\tLoss: 1.623997\n",
      "\n",
      "Test set: Average loss: 0.0030, Accuracy: 102/10000 (652800%)\n",
      "\n",
      "Train Epoch: 4 [0/4096 (0%)]\tLoss: 1.893373\n",
      "Train Epoch: 4 [320/4096 (8%)]\tLoss: 1.367936\n",
      "Train Epoch: 4 [640/4096 (16%)]\tLoss: 2.028828\n",
      "Train Epoch: 4 [960/4096 (23%)]\tLoss: 1.477666\n",
      "Train Epoch: 4 [1280/4096 (31%)]\tLoss: 1.492835\n",
      "Train Epoch: 4 [1600/4096 (39%)]\tLoss: 1.065168\n",
      "Train Epoch: 4 [1920/4096 (47%)]\tLoss: 1.605219\n",
      "Train Epoch: 4 [2240/4096 (55%)]\tLoss: 1.600913\n",
      "Train Epoch: 4 [2560/4096 (62%)]\tLoss: 1.500521\n",
      "Train Epoch: 4 [2880/4096 (70%)]\tLoss: 1.083558\n",
      "Train Epoch: 4 [3200/4096 (78%)]\tLoss: 1.248129\n",
      "Train Epoch: 4 [3520/4096 (86%)]\tLoss: 1.866123\n",
      "Train Epoch: 4 [3840/4096 (94%)]\tLoss: 1.250697\n",
      "\n",
      "Test set: Average loss: 0.0029, Accuracy: 105/10000 (672000%)\n",
      "\n",
      "Train Epoch: 5 [0/4096 (0%)]\tLoss: 1.788572\n",
      "Train Epoch: 5 [320/4096 (8%)]\tLoss: 1.696387\n",
      "Train Epoch: 5 [640/4096 (16%)]\tLoss: 1.377377\n",
      "Train Epoch: 5 [960/4096 (23%)]\tLoss: 1.388227\n",
      "Train Epoch: 5 [1280/4096 (31%)]\tLoss: 0.889981\n",
      "Train Epoch: 5 [1600/4096 (39%)]\tLoss: 1.769670\n",
      "Train Epoch: 5 [1920/4096 (47%)]\tLoss: 0.986741\n",
      "Train Epoch: 5 [2240/4096 (55%)]\tLoss: 1.678506\n",
      "Train Epoch: 5 [2560/4096 (62%)]\tLoss: 1.507361\n",
      "Train Epoch: 5 [2880/4096 (70%)]\tLoss: 2.083449\n",
      "Train Epoch: 5 [3200/4096 (78%)]\tLoss: 1.387393\n",
      "Train Epoch: 5 [3520/4096 (86%)]\tLoss: 1.025717\n",
      "Train Epoch: 5 [3840/4096 (94%)]\tLoss: 1.074451\n",
      "\n",
      "Test set: Average loss: 0.0024, Accuracy: 123/10000 (787200%)\n",
      "\n"
     ]
    }
   ],
   "source": [
    "optimizer = optim.Adam(model.parameters(),lr=0.001)\n",
    "criterion = nn.CrossEntropyLoss()\n",
    "\n",
    "for epoch in range(1, 5 + 1):\n",
    "    train(epoch)\n",
    "    test()"
   ]
  },
  {
   "cell_type": "code",
   "execution_count": 108,
   "metadata": {
    "ExecuteTime": {
     "end_time": "2018-01-19T19:58:49.346038Z",
     "start_time": "2018-01-19T19:54:00.632325Z"
    }
   },
   "outputs": [
    {
     "name": "stdout",
     "output_type": "stream",
     "text": [
      "Train Epoch: 1 [0/4096 (0%)]\tLoss: 1.061143\n",
      "Train Epoch: 1 [320/4096 (8%)]\tLoss: 15.219403\n",
      "Train Epoch: 1 [640/4096 (16%)]\tLoss: 25.253990\n",
      "Train Epoch: 1 [960/4096 (23%)]\tLoss: 22.465025\n",
      "Train Epoch: 1 [1280/4096 (31%)]\tLoss: 22.064503\n",
      "Train Epoch: 1 [1600/4096 (39%)]\tLoss: 10.278015\n",
      "Train Epoch: 1 [1920/4096 (47%)]\tLoss: 13.989035\n",
      "Train Epoch: 1 [2240/4096 (55%)]\tLoss: 16.387102\n",
      "Train Epoch: 1 [2560/4096 (62%)]\tLoss: 10.798111\n",
      "Train Epoch: 1 [2880/4096 (70%)]\tLoss: 10.702368\n",
      "Train Epoch: 1 [3200/4096 (78%)]\tLoss: 12.500554\n",
      "Train Epoch: 1 [3520/4096 (86%)]\tLoss: 3.188299\n",
      "Train Epoch: 1 [3840/4096 (94%)]\tLoss: 5.369475\n",
      "\n",
      "Test set: Average loss: 0.0065, Accuracy: 105/10000 (672000%)\n",
      "\n",
      "Train Epoch: 2 [0/4096 (0%)]\tLoss: 3.493046\n",
      "Train Epoch: 2 [320/4096 (8%)]\tLoss: 10.130626\n",
      "Train Epoch: 2 [640/4096 (16%)]\tLoss: 6.760785\n",
      "Train Epoch: 2 [960/4096 (23%)]\tLoss: 8.780539\n",
      "Train Epoch: 2 [1280/4096 (31%)]\tLoss: 4.866037\n",
      "Train Epoch: 2 [1600/4096 (39%)]\tLoss: 5.329214\n",
      "Train Epoch: 2 [1920/4096 (47%)]\tLoss: 9.256300\n",
      "Train Epoch: 2 [2240/4096 (55%)]\tLoss: 14.469133\n",
      "Train Epoch: 2 [2560/4096 (62%)]\tLoss: 7.528844\n",
      "Train Epoch: 2 [2880/4096 (70%)]\tLoss: 10.943717\n",
      "Train Epoch: 2 [3200/4096 (78%)]\tLoss: 3.093493\n",
      "Train Epoch: 2 [3520/4096 (86%)]\tLoss: 5.157684\n",
      "Train Epoch: 2 [3840/4096 (94%)]\tLoss: 1.867126\n",
      "\n",
      "Test set: Average loss: 0.0092, Accuracy: 101/10000 (646400%)\n",
      "\n",
      "Train Epoch: 3 [0/4096 (0%)]\tLoss: 4.492406\n",
      "Train Epoch: 3 [320/4096 (8%)]\tLoss: 5.744805\n",
      "Train Epoch: 3 [640/4096 (16%)]\tLoss: 13.132820\n",
      "Train Epoch: 3 [960/4096 (23%)]\tLoss: 4.037558\n",
      "Train Epoch: 3 [1280/4096 (31%)]\tLoss: 13.804266\n",
      "Train Epoch: 3 [1600/4096 (39%)]\tLoss: 10.893745\n",
      "Train Epoch: 3 [1920/4096 (47%)]\tLoss: 10.225611\n",
      "Train Epoch: 3 [2240/4096 (55%)]\tLoss: 10.652910\n",
      "Train Epoch: 3 [2560/4096 (62%)]\tLoss: 2.780152\n",
      "Train Epoch: 3 [2880/4096 (70%)]\tLoss: 8.515247\n",
      "Train Epoch: 3 [3200/4096 (78%)]\tLoss: 6.728642\n"
     ]
    },
    {
     "name": "stderr",
     "output_type": "stream",
     "text": [
      "Process Process-776:\n",
      "Process Process-772:\n",
      "Process Process-771:\n",
      "Process Process-775:\n",
      "Process Process-774:\n",
      "Process Process-770:\n",
      "Process Process-767:\n",
      "Process Process-765:\n",
      "Process Process-778:\n",
      "Process Process-768:\n",
      "Process Process-780:\n",
      "Process Process-769:\n",
      "Process Process-766:\n",
      "Process Process-777:\n",
      "Process Process-779:\n",
      "Process Process-773:\n",
      "Traceback (most recent call last):\n",
      "Traceback (most recent call last):\n",
      "Traceback (most recent call last):\n",
      "Traceback (most recent call last):\n",
      "Traceback (most recent call last):\n",
      "Traceback (most recent call last):\n",
      "Traceback (most recent call last):\n",
      "Traceback (most recent call last):\n",
      "Traceback (most recent call last):\n",
      "Traceback (most recent call last):\n",
      "Traceback (most recent call last):\n",
      "Traceback (most recent call last):\n",
      "Traceback (most recent call last):\n",
      "Traceback (most recent call last):\n",
      "Traceback (most recent call last):\n",
      "  File \"/Library/Frameworks/Python.framework/Versions/3.5/lib/python3.5/multiprocessing/process.py\", line 254, in _bootstrap\n",
      "    self.run()\n",
      "Traceback (most recent call last):\n",
      "  File \"/Library/Frameworks/Python.framework/Versions/3.5/lib/python3.5/multiprocessing/process.py\", line 254, in _bootstrap\n",
      "    self.run()\n",
      "  File \"/Library/Frameworks/Python.framework/Versions/3.5/lib/python3.5/multiprocessing/process.py\", line 254, in _bootstrap\n",
      "    self.run()\n",
      "  File \"/Library/Frameworks/Python.framework/Versions/3.5/lib/python3.5/multiprocessing/process.py\", line 254, in _bootstrap\n",
      "    self.run()\n",
      "  File \"/Library/Frameworks/Python.framework/Versions/3.5/lib/python3.5/multiprocessing/process.py\", line 254, in _bootstrap\n",
      "    self.run()\n",
      "  File \"/Library/Frameworks/Python.framework/Versions/3.5/lib/python3.5/multiprocessing/process.py\", line 254, in _bootstrap\n",
      "    self.run()\n",
      "  File \"/Library/Frameworks/Python.framework/Versions/3.5/lib/python3.5/multiprocessing/process.py\", line 93, in run\n",
      "    self._target(*self._args, **self._kwargs)\n",
      "  File \"/Library/Frameworks/Python.framework/Versions/3.5/lib/python3.5/multiprocessing/process.py\", line 254, in _bootstrap\n",
      "    self.run()\n",
      "  File \"/Library/Frameworks/Python.framework/Versions/3.5/lib/python3.5/multiprocessing/process.py\", line 254, in _bootstrap\n",
      "    self.run()\n",
      "  File \"/Library/Frameworks/Python.framework/Versions/3.5/lib/python3.5/multiprocessing/process.py\", line 254, in _bootstrap\n",
      "    self.run()\n",
      "  File \"/Library/Frameworks/Python.framework/Versions/3.5/lib/python3.5/multiprocessing/process.py\", line 254, in _bootstrap\n",
      "    self.run()\n",
      "  File \"/Library/Frameworks/Python.framework/Versions/3.5/lib/python3.5/multiprocessing/process.py\", line 254, in _bootstrap\n",
      "    self.run()\n",
      "  File \"/Library/Frameworks/Python.framework/Versions/3.5/lib/python3.5/multiprocessing/process.py\", line 254, in _bootstrap\n",
      "    self.run()\n",
      "  File \"/Library/Frameworks/Python.framework/Versions/3.5/lib/python3.5/multiprocessing/process.py\", line 254, in _bootstrap\n",
      "    self.run()\n",
      "  File \"/Library/Frameworks/Python.framework/Versions/3.5/lib/python3.5/multiprocessing/process.py\", line 93, in run\n",
      "    self._target(*self._args, **self._kwargs)\n",
      "  File \"/Library/Frameworks/Python.framework/Versions/3.5/lib/python3.5/multiprocessing/process.py\", line 254, in _bootstrap\n",
      "    self.run()\n",
      "  File \"/Library/Frameworks/Python.framework/Versions/3.5/lib/python3.5/multiprocessing/process.py\", line 254, in _bootstrap\n",
      "    self.run()\n",
      "  File \"/Library/Frameworks/Python.framework/Versions/3.5/lib/python3.5/multiprocessing/process.py\", line 93, in run\n",
      "    self._target(*self._args, **self._kwargs)\n",
      "  File \"/Library/Frameworks/Python.framework/Versions/3.5/lib/python3.5/multiprocessing/process.py\", line 93, in run\n",
      "    self._target(*self._args, **self._kwargs)\n",
      "  File \"/Library/Frameworks/Python.framework/Versions/3.5/lib/python3.5/multiprocessing/process.py\", line 93, in run\n",
      "    self._target(*self._args, **self._kwargs)\n",
      "  File \"/Library/Frameworks/Python.framework/Versions/3.5/lib/python3.5/multiprocessing/process.py\", line 254, in _bootstrap\n",
      "    self.run()\n",
      "  File \"/Library/Frameworks/Python.framework/Versions/3.5/lib/python3.5/multiprocessing/process.py\", line 93, in run\n",
      "    self._target(*self._args, **self._kwargs)\n",
      "  File \"/Library/Frameworks/Python.framework/Versions/3.5/lib/python3.5/site-packages/torch/utils/data/dataloader.py\", line 36, in _worker_loop\n",
      "    r = index_queue.get()\n",
      "  File \"/Library/Frameworks/Python.framework/Versions/3.5/lib/python3.5/multiprocessing/process.py\", line 93, in run\n",
      "    self._target(*self._args, **self._kwargs)\n",
      "  File \"/Library/Frameworks/Python.framework/Versions/3.5/lib/python3.5/multiprocessing/process.py\", line 93, in run\n",
      "    self._target(*self._args, **self._kwargs)\n",
      "  File \"/Library/Frameworks/Python.framework/Versions/3.5/lib/python3.5/multiprocessing/process.py\", line 93, in run\n",
      "    self._target(*self._args, **self._kwargs)\n",
      "  File \"/Library/Frameworks/Python.framework/Versions/3.5/lib/python3.5/multiprocessing/process.py\", line 93, in run\n",
      "    self._target(*self._args, **self._kwargs)\n",
      "  File \"/Library/Frameworks/Python.framework/Versions/3.5/lib/python3.5/multiprocessing/process.py\", line 93, in run\n",
      "    self._target(*self._args, **self._kwargs)\n",
      "  File \"/Library/Frameworks/Python.framework/Versions/3.5/lib/python3.5/multiprocessing/process.py\", line 93, in run\n",
      "    self._target(*self._args, **self._kwargs)\n",
      "  File \"/Library/Frameworks/Python.framework/Versions/3.5/lib/python3.5/site-packages/torch/utils/data/dataloader.py\", line 36, in _worker_loop\n",
      "    r = index_queue.get()\n",
      "  File \"/Library/Frameworks/Python.framework/Versions/3.5/lib/python3.5/multiprocessing/process.py\", line 93, in run\n",
      "    self._target(*self._args, **self._kwargs)\n",
      "  File \"/Library/Frameworks/Python.framework/Versions/3.5/lib/python3.5/multiprocessing/process.py\", line 93, in run\n",
      "    self._target(*self._args, **self._kwargs)\n",
      "  File \"/Library/Frameworks/Python.framework/Versions/3.5/lib/python3.5/multiprocessing/process.py\", line 93, in run\n",
      "    self._target(*self._args, **self._kwargs)\n",
      "  File \"/Library/Frameworks/Python.framework/Versions/3.5/lib/python3.5/site-packages/torch/utils/data/dataloader.py\", line 36, in _worker_loop\n",
      "    r = index_queue.get()\n",
      "  File \"/Library/Frameworks/Python.framework/Versions/3.5/lib/python3.5/site-packages/torch/utils/data/dataloader.py\", line 36, in _worker_loop\n",
      "    r = index_queue.get()\n",
      "  File \"/Library/Frameworks/Python.framework/Versions/3.5/lib/python3.5/site-packages/torch/utils/data/dataloader.py\", line 36, in _worker_loop\n",
      "    r = index_queue.get()\n",
      "  File \"/Library/Frameworks/Python.framework/Versions/3.5/lib/python3.5/multiprocessing/process.py\", line 93, in run\n",
      "    self._target(*self._args, **self._kwargs)\n",
      "  File \"/Library/Frameworks/Python.framework/Versions/3.5/lib/python3.5/site-packages/torch/utils/data/dataloader.py\", line 36, in _worker_loop\n",
      "    r = index_queue.get()\n",
      "  File \"/Library/Frameworks/Python.framework/Versions/3.5/lib/python3.5/multiprocessing/queues.py\", line 342, in get\n",
      "    with self._rlock:\n",
      "  File \"/Library/Frameworks/Python.framework/Versions/3.5/lib/python3.5/site-packages/torch/utils/data/dataloader.py\", line 36, in _worker_loop\n",
      "    r = index_queue.get()\n",
      "  File \"/Library/Frameworks/Python.framework/Versions/3.5/lib/python3.5/site-packages/torch/utils/data/dataloader.py\", line 36, in _worker_loop\n",
      "    r = index_queue.get()\n",
      "  File \"/Library/Frameworks/Python.framework/Versions/3.5/lib/python3.5/site-packages/torch/utils/data/dataloader.py\", line 36, in _worker_loop\n",
      "    r = index_queue.get()\n",
      "  File \"/Library/Frameworks/Python.framework/Versions/3.5/lib/python3.5/site-packages/torch/utils/data/dataloader.py\", line 36, in _worker_loop\n",
      "    r = index_queue.get()\n",
      "  File \"/Library/Frameworks/Python.framework/Versions/3.5/lib/python3.5/site-packages/torch/utils/data/dataloader.py\", line 36, in _worker_loop\n",
      "    r = index_queue.get()\n",
      "  File \"/Library/Frameworks/Python.framework/Versions/3.5/lib/python3.5/site-packages/torch/utils/data/dataloader.py\", line 36, in _worker_loop\n",
      "    r = index_queue.get()\n",
      "  File \"/Library/Frameworks/Python.framework/Versions/3.5/lib/python3.5/site-packages/torch/utils/data/dataloader.py\", line 36, in _worker_loop\n",
      "    r = index_queue.get()\n",
      "  File \"/Library/Frameworks/Python.framework/Versions/3.5/lib/python3.5/multiprocessing/queues.py\", line 342, in get\n",
      "    with self._rlock:\n"
     ]
    },
    {
     "name": "stderr",
     "output_type": "stream",
     "text": [
      "  File \"/Library/Frameworks/Python.framework/Versions/3.5/lib/python3.5/site-packages/torch/utils/data/dataloader.py\", line 36, in _worker_loop\n",
      "    r = index_queue.get()\n",
      "  File \"/Library/Frameworks/Python.framework/Versions/3.5/lib/python3.5/multiprocessing/queues.py\", line 342, in get\n",
      "    with self._rlock:\n",
      "  File \"/Library/Frameworks/Python.framework/Versions/3.5/lib/python3.5/site-packages/torch/utils/data/dataloader.py\", line 36, in _worker_loop\n",
      "    r = index_queue.get()\n",
      "  File \"/Library/Frameworks/Python.framework/Versions/3.5/lib/python3.5/site-packages/torch/utils/data/dataloader.py\", line 36, in _worker_loop\n",
      "    r = index_queue.get()\n",
      "  File \"/Library/Frameworks/Python.framework/Versions/3.5/lib/python3.5/multiprocessing/queues.py\", line 342, in get\n",
      "    with self._rlock:\n",
      "  File \"/Library/Frameworks/Python.framework/Versions/3.5/lib/python3.5/multiprocessing/queues.py\", line 342, in get\n",
      "    with self._rlock:\n",
      "  File \"/Library/Frameworks/Python.framework/Versions/3.5/lib/python3.5/multiprocessing/queues.py\", line 342, in get\n",
      "    with self._rlock:\n",
      "  File \"/Library/Frameworks/Python.framework/Versions/3.5/lib/python3.5/multiprocessing/queues.py\", line 342, in get\n",
      "    with self._rlock:\n",
      "  File \"/Library/Frameworks/Python.framework/Versions/3.5/lib/python3.5/multiprocessing/synchronize.py\", line 96, in __enter__\n",
      "    return self._semlock.__enter__()\n",
      "  File \"/Library/Frameworks/Python.framework/Versions/3.5/lib/python3.5/multiprocessing/queues.py\", line 342, in get\n",
      "    with self._rlock:\n",
      "  File \"/Library/Frameworks/Python.framework/Versions/3.5/lib/python3.5/multiprocessing/queues.py\", line 342, in get\n",
      "    with self._rlock:\n",
      "  File \"/Library/Frameworks/Python.framework/Versions/3.5/lib/python3.5/multiprocessing/synchronize.py\", line 96, in __enter__\n",
      "    return self._semlock.__enter__()\n",
      "  File \"/Library/Frameworks/Python.framework/Versions/3.5/lib/python3.5/multiprocessing/synchronize.py\", line 96, in __enter__\n",
      "    return self._semlock.__enter__()\n",
      "  File \"/Library/Frameworks/Python.framework/Versions/3.5/lib/python3.5/multiprocessing/queues.py\", line 342, in get\n",
      "    with self._rlock:\n",
      "  File \"/Library/Frameworks/Python.framework/Versions/3.5/lib/python3.5/multiprocessing/queues.py\", line 343, in get\n",
      "    res = self._reader.recv_bytes()\n",
      "  File \"/Library/Frameworks/Python.framework/Versions/3.5/lib/python3.5/multiprocessing/queues.py\", line 342, in get\n",
      "    with self._rlock:\n",
      "  File \"/Library/Frameworks/Python.framework/Versions/3.5/lib/python3.5/multiprocessing/queues.py\", line 342, in get\n",
      "    with self._rlock:\n",
      "  File \"/Library/Frameworks/Python.framework/Versions/3.5/lib/python3.5/multiprocessing/synchronize.py\", line 96, in __enter__\n",
      "    return self._semlock.__enter__()\n",
      "  File \"/Library/Frameworks/Python.framework/Versions/3.5/lib/python3.5/multiprocessing/queues.py\", line 342, in get\n",
      "    with self._rlock:\n",
      "  File \"/Library/Frameworks/Python.framework/Versions/3.5/lib/python3.5/multiprocessing/queues.py\", line 342, in get\n",
      "    with self._rlock:\n",
      "  File \"/Library/Frameworks/Python.framework/Versions/3.5/lib/python3.5/multiprocessing/queues.py\", line 342, in get\n",
      "    with self._rlock:\n",
      "  File \"/Library/Frameworks/Python.framework/Versions/3.5/lib/python3.5/multiprocessing/synchronize.py\", line 96, in __enter__\n",
      "    return self._semlock.__enter__()\n",
      "  File \"/Library/Frameworks/Python.framework/Versions/3.5/lib/python3.5/multiprocessing/synchronize.py\", line 96, in __enter__\n",
      "    return self._semlock.__enter__()\n",
      "KeyboardInterrupt\n",
      "  File \"/Library/Frameworks/Python.framework/Versions/3.5/lib/python3.5/multiprocessing/synchronize.py\", line 96, in __enter__\n",
      "    return self._semlock.__enter__()\n",
      "  File \"/Library/Frameworks/Python.framework/Versions/3.5/lib/python3.5/multiprocessing/synchronize.py\", line 96, in __enter__\n",
      "    return self._semlock.__enter__()\n",
      "  File \"/Library/Frameworks/Python.framework/Versions/3.5/lib/python3.5/multiprocessing/synchronize.py\", line 96, in __enter__\n",
      "    return self._semlock.__enter__()\n",
      "KeyboardInterrupt\n",
      "  File \"/Library/Frameworks/Python.framework/Versions/3.5/lib/python3.5/multiprocessing/synchronize.py\", line 96, in __enter__\n",
      "    return self._semlock.__enter__()\n",
      "KeyboardInterrupt\n",
      "  File \"/Library/Frameworks/Python.framework/Versions/3.5/lib/python3.5/multiprocessing/connection.py\", line 216, in recv_bytes\n",
      "    buf = self._recv_bytes(maxlength)\n",
      "  File \"/Library/Frameworks/Python.framework/Versions/3.5/lib/python3.5/multiprocessing/synchronize.py\", line 96, in __enter__\n",
      "    return self._semlock.__enter__()\n",
      "  File \"/Library/Frameworks/Python.framework/Versions/3.5/lib/python3.5/multiprocessing/synchronize.py\", line 96, in __enter__\n",
      "    return self._semlock.__enter__()\n",
      "KeyboardInterrupt\n",
      "KeyboardInterrupt\n",
      "  File \"/Library/Frameworks/Python.framework/Versions/3.5/lib/python3.5/multiprocessing/synchronize.py\", line 96, in __enter__\n",
      "    return self._semlock.__enter__()\n",
      "  File \"/Library/Frameworks/Python.framework/Versions/3.5/lib/python3.5/multiprocessing/synchronize.py\", line 96, in __enter__\n",
      "    return self._semlock.__enter__()\n",
      "  File \"/Library/Frameworks/Python.framework/Versions/3.5/lib/python3.5/multiprocessing/synchronize.py\", line 96, in __enter__\n",
      "    return self._semlock.__enter__()\n",
      "KeyboardInterrupt\n",
      "  File \"/Library/Frameworks/Python.framework/Versions/3.5/lib/python3.5/multiprocessing/connection.py\", line 407, in _recv_bytes\n",
      "    buf = self._recv(4)\n",
      "KeyboardInterrupt\n",
      "KeyboardInterrupt\n",
      "KeyboardInterrupt\n",
      "KeyboardInterrupt\n",
      "KeyboardInterrupt\n",
      "KeyboardInterrupt\n",
      "  File \"/Library/Frameworks/Python.framework/Versions/3.5/lib/python3.5/multiprocessing/connection.py\", line 379, in _recv\n",
      "    chunk = read(handle, remaining)\n",
      "KeyboardInterrupt\n",
      "KeyboardInterrupt\n",
      "KeyboardInterrupt\n",
      "KeyboardInterrupt\n"
     ]
    },
    {
     "ename": "KeyboardInterrupt",
     "evalue": "",
     "output_type": "error",
     "traceback": [
      "\u001b[0;31m---------------------------------------------------------------------------\u001b[0m",
      "\u001b[0;31mKeyboardInterrupt\u001b[0m                         Traceback (most recent call last)",
      "\u001b[0;32m<ipython-input-108-340a4dec418f>\u001b[0m in \u001b[0;36m<module>\u001b[0;34m()\u001b[0m\n\u001b[1;32m      3\u001b[0m \u001b[0;34m\u001b[0m\u001b[0m\n\u001b[1;32m      4\u001b[0m \u001b[0;32mfor\u001b[0m \u001b[0mepoch\u001b[0m \u001b[0;32min\u001b[0m \u001b[0mrange\u001b[0m\u001b[0;34m(\u001b[0m\u001b[0;36m1\u001b[0m\u001b[0;34m,\u001b[0m \u001b[0;36m5\u001b[0m \u001b[0;34m+\u001b[0m \u001b[0;36m1\u001b[0m\u001b[0;34m)\u001b[0m\u001b[0;34m:\u001b[0m\u001b[0;34m\u001b[0m\u001b[0m\n\u001b[0;32m----> 5\u001b[0;31m     \u001b[0mtrain\u001b[0m\u001b[0;34m(\u001b[0m\u001b[0mepoch\u001b[0m\u001b[0;34m)\u001b[0m\u001b[0;34m\u001b[0m\u001b[0m\n\u001b[0m\u001b[1;32m      6\u001b[0m     \u001b[0mtest\u001b[0m\u001b[0;34m(\u001b[0m\u001b[0;34m)\u001b[0m\u001b[0;34m\u001b[0m\u001b[0m\n",
      "\u001b[0;32m<ipython-input-102-4313688f26f1>\u001b[0m in \u001b[0;36mtrain\u001b[0;34m(epoch)\u001b[0m\n\u001b[1;32m     14\u001b[0m \u001b[0;34m\u001b[0m\u001b[0m\n\u001b[1;32m     15\u001b[0m         \u001b[0mloss\u001b[0m \u001b[0;34m=\u001b[0m \u001b[0mcriterion\u001b[0m\u001b[0;34m(\u001b[0m\u001b[0moutput\u001b[0m\u001b[0;34m,\u001b[0m \u001b[0mtarget\u001b[0m\u001b[0;34m)\u001b[0m\u001b[0;34m\u001b[0m\u001b[0m\n\u001b[0;32m---> 16\u001b[0;31m         \u001b[0mloss\u001b[0m\u001b[0;34m.\u001b[0m\u001b[0mbackward\u001b[0m\u001b[0;34m(\u001b[0m\u001b[0;34m)\u001b[0m\u001b[0;34m\u001b[0m\u001b[0m\n\u001b[0m\u001b[1;32m     17\u001b[0m \u001b[0;34m\u001b[0m\u001b[0m\n\u001b[1;32m     18\u001b[0m         \u001b[0moptimizer\u001b[0m\u001b[0;34m.\u001b[0m\u001b[0mstep\u001b[0m\u001b[0;34m(\u001b[0m\u001b[0;34m)\u001b[0m\u001b[0;34m\u001b[0m\u001b[0m\n",
      "\u001b[0;32m/Library/Frameworks/Python.framework/Versions/3.5/lib/python3.5/site-packages/torch/autograd/variable.py\u001b[0m in \u001b[0;36mbackward\u001b[0;34m(self, gradient, retain_graph, create_graph, retain_variables)\u001b[0m\n\u001b[1;32m    165\u001b[0m                 \u001b[0mVariable\u001b[0m\u001b[0;34m.\u001b[0m\u001b[0;34m\u001b[0m\u001b[0m\n\u001b[1;32m    166\u001b[0m         \"\"\"\n\u001b[0;32m--> 167\u001b[0;31m         \u001b[0mtorch\u001b[0m\u001b[0;34m.\u001b[0m\u001b[0mautograd\u001b[0m\u001b[0;34m.\u001b[0m\u001b[0mbackward\u001b[0m\u001b[0;34m(\u001b[0m\u001b[0mself\u001b[0m\u001b[0;34m,\u001b[0m \u001b[0mgradient\u001b[0m\u001b[0;34m,\u001b[0m \u001b[0mretain_graph\u001b[0m\u001b[0;34m,\u001b[0m \u001b[0mcreate_graph\u001b[0m\u001b[0;34m,\u001b[0m \u001b[0mretain_variables\u001b[0m\u001b[0;34m)\u001b[0m\u001b[0;34m\u001b[0m\u001b[0m\n\u001b[0m\u001b[1;32m    168\u001b[0m \u001b[0;34m\u001b[0m\u001b[0m\n\u001b[1;32m    169\u001b[0m     \u001b[0;32mdef\u001b[0m \u001b[0mregister_hook\u001b[0m\u001b[0;34m(\u001b[0m\u001b[0mself\u001b[0m\u001b[0;34m,\u001b[0m \u001b[0mhook\u001b[0m\u001b[0;34m)\u001b[0m\u001b[0;34m:\u001b[0m\u001b[0;34m\u001b[0m\u001b[0m\n",
      "\u001b[0;32m/Library/Frameworks/Python.framework/Versions/3.5/lib/python3.5/site-packages/torch/autograd/__init__.py\u001b[0m in \u001b[0;36mbackward\u001b[0;34m(variables, grad_variables, retain_graph, create_graph, retain_variables)\u001b[0m\n\u001b[1;32m     97\u001b[0m \u001b[0;34m\u001b[0m\u001b[0m\n\u001b[1;32m     98\u001b[0m     Variable._execution_engine.run_backward(\n\u001b[0;32m---> 99\u001b[0;31m         variables, grad_variables, retain_graph)\n\u001b[0m\u001b[1;32m    100\u001b[0m \u001b[0;34m\u001b[0m\u001b[0m\n\u001b[1;32m    101\u001b[0m \u001b[0;34m\u001b[0m\u001b[0m\n",
      "\u001b[0;31mKeyboardInterrupt\u001b[0m: "
     ]
    }
   ],
   "source": [
    "optimizer = optim.SGD(model.parameters(), lr=0.01, momentum=0.5)\n",
    "criterion = nn.CrossEntropyLoss()\n",
    "\n",
    "for epoch in range(1, 5 + 1):\n",
    "    train(epoch)\n",
    "    test()"
   ]
  },
  {
   "cell_type": "markdown",
   "metadata": {},
   "source": [
    "## Task 3\n",
    "\n",
    "Now implement decaying the learning rate using the `ReduceLROnPlateau` scheme in your training with $\\delta=0.9$ and plot the validation and test accuracy over the course of the training using the `SGD` and `Adam` optimizer. You will need to lookup the PyTorch API to figure out how to use this scheme."
   ]
  },
  {
   "cell_type": "code",
   "execution_count": 130,
   "metadata": {
    "ExecuteTime": {
     "end_time": "2018-01-20T21:58:12.525929Z",
     "start_time": "2018-01-20T21:58:12.518049Z"
    },
    "collapsed": true
   },
   "outputs": [],
   "source": [
    "n_train = 1024\n",
    "n_test = int(n_train * 0.125)\n",
    "\n",
    "kwargs = {'num_workers': 1, 'pin_memory': True} if torch.cuda.is_available() else {'num_workers': 16}\n",
    "train_loader = torch.utils.data.DataLoader(CIFAR_train,\n",
    "                                           batch_size=8,\n",
    "                                           shuffle=False,\n",
    "                                           sampler=torch.utils.data.sampler.SubsetRandomSampler(list(range(n_train))),\n",
    "                                           **kwargs)\n",
    "test_loader = torch.utils.data.DataLoader(CIFAR_test,\n",
    "                                          batch_size=8,\n",
    "                                          shuffle=False,\n",
    "                                          sampler=torch.utils.data.sampler.SubsetRandomSampler(list(range(n_test))),\n",
    "                                          **kwargs)"
   ]
  },
  {
   "cell_type": "code",
   "execution_count": 131,
   "metadata": {
    "ExecuteTime": {
     "end_time": "2018-01-20T22:01:07.490579Z",
     "start_time": "2018-01-20T21:58:15.128323Z"
    }
   },
   "outputs": [
    {
     "name": "stdout",
     "output_type": "stream",
     "text": [
      "Train Epoch: 1 [0/1024 (0%)]\tLoss: 2.223039\n",
      "Train Epoch: 1 [80/1024 (8%)]\tLoss: 2.511935\n",
      "Train Epoch: 1 [160/1024 (16%)]\tLoss: 2.411312\n",
      "Train Epoch: 1 [240/1024 (23%)]\tLoss: 2.328630\n",
      "Train Epoch: 1 [320/1024 (31%)]\tLoss: 2.163109\n",
      "Train Epoch: 1 [400/1024 (39%)]\tLoss: 2.613144\n",
      "Train Epoch: 1 [480/1024 (47%)]\tLoss: 2.507614\n",
      "Train Epoch: 1 [560/1024 (55%)]\tLoss: 1.971611\n",
      "Train Epoch: 1 [640/1024 (62%)]\tLoss: 1.903465\n",
      "Train Epoch: 1 [720/1024 (70%)]\tLoss: 2.195800\n",
      "Train Epoch: 1 [800/1024 (78%)]\tLoss: 2.130899\n",
      "Train Epoch: 1 [880/1024 (86%)]\tLoss: 1.743505\n",
      "Train Epoch: 1 [960/1024 (94%)]\tLoss: 2.262308\n",
      "\n",
      "Test set: Average loss: 0.0034, Accuracy: 41/128 (32%)\n",
      "\n",
      "Train Epoch: 2 [0/1024 (0%)]\tLoss: 2.181853\n",
      "Train Epoch: 2 [80/1024 (8%)]\tLoss: 2.318113\n",
      "Train Epoch: 2 [160/1024 (16%)]\tLoss: 1.818876\n",
      "Train Epoch: 2 [240/1024 (23%)]\tLoss: 2.216980\n",
      "Train Epoch: 2 [320/1024 (31%)]\tLoss: 2.124729\n",
      "Train Epoch: 2 [400/1024 (39%)]\tLoss: 2.010461\n",
      "Train Epoch: 2 [480/1024 (47%)]\tLoss: 2.066502\n",
      "Train Epoch: 2 [560/1024 (55%)]\tLoss: 2.638649\n",
      "Train Epoch: 2 [640/1024 (62%)]\tLoss: 2.122972\n",
      "Train Epoch: 2 [720/1024 (70%)]\tLoss: 2.203871\n",
      "Train Epoch: 2 [800/1024 (78%)]\tLoss: 2.069565\n",
      "Train Epoch: 2 [880/1024 (86%)]\tLoss: 1.794857\n",
      "Train Epoch: 2 [960/1024 (94%)]\tLoss: 2.725403\n",
      "\n",
      "Test set: Average loss: 0.0034, Accuracy: 19/128 (15%)\n",
      "\n",
      "Train Epoch: 3 [0/1024 (0%)]\tLoss: 2.409977\n",
      "Train Epoch: 3 [80/1024 (8%)]\tLoss: 2.561968\n",
      "Train Epoch: 3 [160/1024 (16%)]\tLoss: 2.339991\n",
      "Train Epoch: 3 [240/1024 (23%)]\tLoss: 1.537644\n",
      "Train Epoch: 3 [320/1024 (31%)]\tLoss: 1.495065\n",
      "Train Epoch: 3 [400/1024 (39%)]\tLoss: 2.125999\n",
      "Train Epoch: 3 [480/1024 (47%)]\tLoss: 2.320905\n",
      "Train Epoch: 3 [560/1024 (55%)]\tLoss: 1.827155\n",
      "Train Epoch: 3 [640/1024 (62%)]\tLoss: 2.209639\n",
      "Train Epoch: 3 [720/1024 (70%)]\tLoss: 1.994679\n",
      "Train Epoch: 3 [800/1024 (78%)]\tLoss: 2.330910\n",
      "Train Epoch: 3 [880/1024 (86%)]\tLoss: 1.890692\n",
      "Train Epoch: 3 [960/1024 (94%)]\tLoss: 2.047782\n",
      "\n",
      "Test set: Average loss: 0.0033, Accuracy: 21/128 (16%)\n",
      "\n",
      "Train Epoch: 4 [0/1024 (0%)]\tLoss: 1.832873\n",
      "Train Epoch: 4 [80/1024 (8%)]\tLoss: 2.299734\n",
      "Train Epoch: 4 [160/1024 (16%)]\tLoss: 2.101857\n",
      "Train Epoch: 4 [240/1024 (23%)]\tLoss: 1.832979\n",
      "Train Epoch: 4 [320/1024 (31%)]\tLoss: 2.043376\n",
      "Train Epoch: 4 [400/1024 (39%)]\tLoss: 2.091711\n",
      "Train Epoch: 4 [480/1024 (47%)]\tLoss: 2.237899\n",
      "Train Epoch: 4 [560/1024 (55%)]\tLoss: 2.240087\n",
      "Train Epoch: 4 [640/1024 (62%)]\tLoss: 2.459637\n",
      "Train Epoch: 4 [720/1024 (70%)]\tLoss: 2.278644\n",
      "Train Epoch: 4 [800/1024 (78%)]\tLoss: 2.428671\n",
      "Train Epoch: 4 [880/1024 (86%)]\tLoss: 1.873425\n",
      "Train Epoch: 4 [960/1024 (94%)]\tLoss: 2.475952\n",
      "\n",
      "Test set: Average loss: 0.0031, Accuracy: 34/128 (27%)\n",
      "\n",
      "Train Epoch: 5 [0/1024 (0%)]\tLoss: 2.219815\n",
      "Train Epoch: 5 [80/1024 (8%)]\tLoss: 2.277659\n",
      "Train Epoch: 5 [160/1024 (16%)]\tLoss: 1.990163\n",
      "Train Epoch: 5 [240/1024 (23%)]\tLoss: 1.898225\n",
      "Train Epoch: 5 [320/1024 (31%)]\tLoss: 2.411711\n",
      "Train Epoch: 5 [400/1024 (39%)]\tLoss: 3.285172\n",
      "Train Epoch: 5 [480/1024 (47%)]\tLoss: 2.146325\n",
      "Train Epoch: 5 [560/1024 (55%)]\tLoss: 2.117178\n",
      "Train Epoch: 5 [640/1024 (62%)]\tLoss: 1.863366\n",
      "Train Epoch: 5 [720/1024 (70%)]\tLoss: 1.898293\n",
      "Train Epoch: 5 [800/1024 (78%)]\tLoss: 1.873791\n",
      "Train Epoch: 5 [880/1024 (86%)]\tLoss: 1.778979\n",
      "Train Epoch: 5 [960/1024 (94%)]\tLoss: 1.907725\n",
      "\n",
      "Test set: Average loss: 0.0029, Accuracy: 49/128 (38%)\n",
      "\n"
     ]
    }
   ],
   "source": [
    "optimizer = optim.Adam(model.parameters(),lr=0.002)\n",
    "criterion = nn.CrossEntropyLoss()\n",
    "scheduler = torch.optim.lr_scheduler.ReduceLROnPlateau(optimizer, 'min',factor=0.9)\n",
    "\n",
    "def train(epoch):\n",
    "    model.train()\n",
    "    \n",
    "    for batch_idx, (data, target) in enumerate(train_loader):\n",
    "        if torch.cuda.is_available():\n",
    "            data, target = data.cuda(), target.cuda()\n",
    "        data, target = Variable(data), Variable(target)\n",
    "\n",
    "        optimizer.zero_grad()\n",
    "        \n",
    "        output = model(data)\n",
    "        \n",
    "        loss = criterion(output, target)\n",
    "        loss.backward()\n",
    "\n",
    "        optimizer.step()\n",
    "        \n",
    "        if batch_idx % 10 == 0:\n",
    "            print('Train Epoch: {} [{}/{} ({:.0f}%)]\\tLoss: {:.6f}'.format(\n",
    "                epoch, batch_idx * len(data), n_train,\n",
    "                100. * batch_idx / len(train_loader), loss.data[0]))\n",
    "            \n",
    "def test():\n",
    "    model.eval()\n",
    "    \n",
    "    test_loss = 0\n",
    "    correct = 0\n",
    "    for data, target in test_loader:\n",
    "        if torch.cuda.is_available():\n",
    "            data, target = data.cuda(), target.cuda()\n",
    "        data, target = Variable(data, volatile=True), Variable(target)\n",
    "        output = model(data)\n",
    "        test_loss += criterion(output, target).data[0] # sum up batch loss\n",
    "        pred = output.data.max(1, keepdim=True)[1] # get the index of the max log-probability\n",
    "        correct += pred.eq(target.data.view_as(pred)).cpu().sum()\n",
    "\n",
    "    test_loss /= len(test_loader.dataset)\n",
    "    print('\\nTest set: Average loss: {:.4f}, Accuracy: {}/{} ({:.0f}%)\\n'.format(\n",
    "        test_loss, correct, n_test,\n",
    "        100. * correct / n_test))\n",
    "    return test_loss\n",
    "\n",
    "for epoch in range(1, 5 + 1):\n",
    "    train(epoch)\n",
    "    loss = test()\n",
    "    scheduler.step(loss)"
   ]
  },
  {
   "cell_type": "markdown",
   "metadata": {},
   "source": [
    "### Task 4\n",
    "\n",
    "Finally we want to tune the initial step size or  learning rate for the `SGD` and `Adam` for the setup we have till now. \n",
    "\n",
    "One strategy is to distribute different learning rates between your fellow classmates and then communicate the best result and refine the learning rate this way till you collectively find the best parameter. This will require some coordination and communication which is what I actually want you do to. Some of your classmates will be confused or stuck, help them! Perhaps you will see some neat helper or good code abstraction, learn from it and apply it to your own code.\n",
    "\n",
    "Finally, plot the validation accuracy and test accuracy over the course of training for the best learning rate you found for both `SGD` and `Adam`."
   ]
  },
  {
   "cell_type": "code",
   "execution_count": 78,
   "metadata": {
    "ExecuteTime": {
     "end_time": "2018-01-19T18:46:45.426923Z",
     "start_time": "2018-01-19T18:46:45.424485Z"
    },
    "collapsed": true
   },
   "outputs": [],
   "source": [
    "### YOUR CODE HERE ###"
   ]
  }
 ],
 "metadata": {
  "kernelspec": {
   "display_name": "Python 3",
   "language": "python",
   "name": "python3"
  },
  "language_info": {
   "codemirror_mode": {
    "name": "ipython",
    "version": 3
   },
   "file_extension": ".py",
   "mimetype": "text/x-python",
   "name": "python",
   "nbconvert_exporter": "python",
   "pygments_lexer": "ipython3",
   "version": "3.5.0"
  },
  "toc": {
   "nav_menu": {},
   "number_sections": true,
   "sideBar": true,
   "skip_h1_title": false,
   "toc_cell": false,
   "toc_position": {},
   "toc_section_display": "block",
   "toc_window_display": false
  }
 },
 "nbformat": 4,
 "nbformat_minor": 2
}

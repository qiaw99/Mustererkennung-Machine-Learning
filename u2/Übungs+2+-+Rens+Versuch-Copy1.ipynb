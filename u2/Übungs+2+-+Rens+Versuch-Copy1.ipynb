{
 "cells": [
  {
   "cell_type": "markdown",
   "metadata": {},
   "source": [
    "# Übung 2: Lineare Regression - Rainier Robles & Valentin Wolf"
   ]
  },
  {
   "cell_type": "code",
   "execution_count": 18,
   "metadata": {
    "collapsed": true
   },
   "outputs": [],
   "source": [
    "import numpy as np\n",
    "from numpy.linalg import inv"
   ]
  },
  {
   "cell_type": "markdown",
   "metadata": {},
   "source": [
    "### Load the different training sets and prepare training sets for the various matchups"
   ]
  },
  {
   "cell_type": "code",
   "execution_count": 19,
   "metadata": {},
   "outputs": [],
   "source": [
    "trainlist = []\n",
    "trainsets = ['train3','train5','train7','train8']\n",
    "for trainset in trainsets:\n",
    "    trainlist.append(np.loadtxt(trainset,delimiter=','))\n",
    "    \n",
    "### set with 3 and 5\n",
    "left = np.concatenate(((np.full((trainlist[0].shape[0],1),1)),trainlist[0]),axis=1)\n",
    "right = np.concatenate(((np.full((trainlist[1].shape[0],1),-1)),trainlist[1]),axis=1)\n",
    "threefive = np.concatenate((left,right),axis=0)\n",
    "\n",
    "### set with 3 and 7\n",
    "left = np.concatenate(((np.full((trainlist[0].shape[0],1),1)),trainlist[0]),axis=1)\n",
    "right = np.concatenate(((np.full((trainlist[2].shape[0],1),-1)),trainlist[2]),axis=1)\n",
    "threeseven = np.concatenate((left,right),axis=0)\n",
    "\n",
    "### set with 3 and 8\n",
    "left = np.concatenate(((np.full((trainlist[0].shape[0],1),1)),trainlist[0]),axis=1)\n",
    "right = np.concatenate(((np.full((trainlist[3].shape[0],1),-1)),trainlist[3]),axis=1)\n",
    "threeeight = np.concatenate((left,right),axis=0)\n",
    "\n",
    "### set with 5 and 7\n",
    "left = np.concatenate(((np.full((trainlist[1].shape[0],1),1)),trainlist[1]),axis=1)\n",
    "right = np.concatenate(((np.full((trainlist[2].shape[0],1),-1)),trainlist[2]),axis=1)\n",
    "fiveseven = np.concatenate((left,right),axis=0)\n",
    "\n",
    "### set with 5 and 8\n",
    "left = np.concatenate(((np.full((trainlist[1].shape[0],1),1)),trainlist[1]),axis=1)\n",
    "right = np.concatenate(((np.full((trainlist[3].shape[0],1),-1)),trainlist[3]),axis=1)\n",
    "fiveeight = np.concatenate((left,right),axis=0)\n",
    "\n",
    "### set with 7 and 8\n",
    "left = np.concatenate(((np.full((trainlist[2].shape[0],1),1)),trainlist[2]),axis=1)\n",
    "right = np.concatenate(((np.full((trainlist[3].shape[0],1),-1)),trainlist[3]),axis=1)\n",
    "seveneight = np.concatenate((left,right),axis=0)"
   ]
  },
  {
   "cell_type": "markdown",
   "metadata": {},
   "source": [
    "### Load the test set and prepare test sets for the various matchups"
   ]
  },
  {
   "cell_type": "code",
   "execution_count": 20,
   "metadata": {},
   "outputs": [],
   "source": [
    "testset = np.loadtxt('zip.test')\n",
    "\n",
    "testlist = []\n",
    "totest = [3,5,7,8]\n",
    "\n",
    "for i in totest:\n",
    "    testlist.append(testset[testset[:,0] == i])\n",
    "    \n",
    "### set with 3 and 5\n",
    "left = np.concatenate(((np.full((testlist[0].shape[0],1),1)),testlist[0][:,1:]),axis=1)\n",
    "right = np.concatenate(((np.full((testlist[1].shape[0],1),-1)),testlist[1][:,1:]),axis=1)\n",
    "threefive_test = np.concatenate((left,right),axis=0)\n",
    "\n",
    "### set with 3 and 7\n",
    "left = np.concatenate(((np.full((testlist[0].shape[0],1),1)),testlist[0][:,1:]),axis=1)\n",
    "right = np.concatenate(((np.full((testlist[2].shape[0],1),-1)),testlist[2][:,1:]),axis=1)\n",
    "threeseven_test = np.concatenate((left,right),axis=0)\n",
    "\n",
    "### set with 3 and 8\n",
    "left = np.concatenate(((np.full((testlist[0].shape[0],1),1)),testlist[0][:,1:]),axis=1)\n",
    "right = np.concatenate(((np.full((testlist[3].shape[0],1),-1)),testlist[3][:,1:]),axis=1)\n",
    "threeeight_test = np.concatenate((left,right),axis=0)\n",
    "\n",
    "### set with 5 and 7\n",
    "left = np.concatenate(((np.full((testlist[1].shape[0],1),1)),testlist[1][:,1:]),axis=1)\n",
    "right = np.concatenate(((np.full((testlist[2].shape[0],1),-1)),testlist[2][:,1:]),axis=1)\n",
    "fiveseven_test = np.concatenate((left,right),axis=0)\n",
    "\n",
    "### set with 5 and 8\n",
    "left = np.concatenate(((np.full((testlist[1].shape[0],1),1)),testlist[1][:,1:]),axis=1)\n",
    "right = np.concatenate(((np.full((testlist[3].shape[0],1),-1)),testlist[3][:,1:]),axis=1)\n",
    "fiveeight_test = np.concatenate((left,right),axis=0)\n",
    "\n",
    "### set with 7 and 8\n",
    "left = np.concatenate(((np.full((testlist[2].shape[0],1),1)),testlist[2][:,1:]),axis=1)\n",
    "right = np.concatenate(((np.full((testlist[3].shape[0],1),-1)),testlist[3][:,1:]),axis=1)\n",
    "seveneight_test = np.concatenate((left,right),axis=0)"
   ]
  },
  {
   "cell_type": "code",
   "execution_count": 21,
   "metadata": {},
   "outputs": [
    {
     "data": {
      "text/plain": [
       "array([[-1., -1., -1., ..., -1., -1., -1.],\n",
       "       [-1., -1., -1., ..., -1., -1., -1.],\n",
       "       [-1., -1., -1., ..., -1., -1., -1.],\n",
       "       ..., \n",
       "       [-1., -1., -1., ..., -1., -1., -1.],\n",
       "       [-1., -1., -1., ..., -1., -1., -1.],\n",
       "       [-1., -1., -1., ..., -1., -1., -1.]])"
      ]
     },
     "execution_count": 21,
     "metadata": {},
     "output_type": "execute_result"
    }
   ],
   "source": [
    "trainlist[2]"
   ]
  },
  {
   "cell_type": "code",
   "execution_count": 22,
   "metadata": {
    "collapsed": true
   },
   "outputs": [],
   "source": [
    "class LinearRegression:\n",
    "    \n",
    "    def __init__(self):\n",
    "        pass\n",
    "    \n",
    "    def train(self,array):\n",
    "        \"\"\"takes training set and splits into X (data) and y (labels)\"\"\"\n",
    "        self.X = array[:,1:]\n",
    "        self.y = array[:,0]\n",
    "        self.beta = self.compute_beta()\n",
    "        \n",
    "    def pinv(self, X, increment=0.05):\n",
    "        \"\"\"attempts to invert a matrix, if not possible, then it tries again with a refactored matrix\"\"\"\n",
    "        I = np.eye(X.shape[0])\n",
    "        my_lambda = 0\n",
    "        X1 = X\n",
    "        while True:\n",
    "            try:\n",
    "                inv(X1)\n",
    "                break\n",
    "            except np.linalg.LinAlgError:\n",
    "                my_lambda += increment\n",
    "                X1 = np.add(X, np.multiply(I,my_lambda))\n",
    "        return inv(X1)\n",
    "        \n",
    "    def bigX(self,X):\n",
    "        \"\"\"returns array with first column filled with ones, and the rest filled with data from X\"\"\"\n",
    "        justones = np.ones((1,X.shape[0]))\n",
    "        result = np.concatenate((justones.T,X),axis=1)\n",
    "        return result\n",
    "    \n",
    "    def covariance_matrix(self,X):\n",
    "        \"\"\"returns the covariance matrix of X\"\"\"\n",
    "        return np.dot(X.T,X)\n",
    "    \n",
    "    def compute_beta(self):\n",
    "        \"\"\"finds beta given the training set and the label k to be tested\"\"\"\n",
    "        X1 = np.dot(self.pinv(self.covariance_matrix(self.bigX(self.X))),self.bigX(self.X).T)\n",
    "        return np.dot(X1,self.y)\n",
    "    \n",
    "    def changelabels(self,arrtochange):\n",
    "        \"\"\"in labels, changes all positive numbers to 0s and all negative numbers to 1s\"\"\"\n",
    "        result = np.zeros((arrtochange.size))\n",
    "        for i in range(0,arrtochange.size):\n",
    "            if arrtochange[i] >= 0:\n",
    "                result[i] = 0\n",
    "            else:\n",
    "                result[i] = 1\n",
    "        return result\n",
    "    \n",
    "    def predict(self,testset):\n",
    "        \"\"\"classifier for exactly two classes, gives values between -1 and +1\"\"\"\n",
    "        self.X_test = self.bigX(testset[:,1:])\n",
    "        self.y_test = testset[:,0]\n",
    "        self.prediction = np.sum(np.multiply(self.beta.T,self.X_test),axis=1)\n",
    "        return self.prediction\n",
    "    \n",
    "    def error_rate(self):\n",
    "        pred = self.changelabels(self.prediction)\n",
    "        testlabels = self.y_test\n",
    "        datacount = pred.shape[0]\n",
    "        bools = np.equal(self.changelabels(testlabels),pred.flatten())\n",
    "        correct = np.sum(bools)\n",
    "        return (datacount-correct)/datacount\n",
    "        #return pred\n",
    "    \n",
    "    def confusion_matrix(self):\n",
    "        preds = self.changelabels(self.prediction).flatten()\n",
    "        testlabels = self.y_test\n",
    "        changedtestlabels = self.changelabels(testlabels)\n",
    "        size = testlabels.size\n",
    "        mtrx = np.zeros((2,2))\n",
    "        for i in range(0,size):\n",
    "            mtrx[int(changedtestlabels[i]),int(preds[i])] += 1\n",
    "        return mtrx"
   ]
  },
  {
   "cell_type": "markdown",
   "metadata": {},
   "source": [
    "### 3 vs 5"
   ]
  },
  {
   "cell_type": "code",
   "execution_count": 23,
   "metadata": {},
   "outputs": [
    {
     "name": "stdout",
     "output_type": "stream",
     "text": [
      "3 vs 5 error rate = 0.0705521472393\n"
     ]
    },
    {
     "data": {
      "text/plain": [
       "array([[154,  12],\n",
       "       [ 11, 149]], dtype=uint16)"
      ]
     },
     "execution_count": 23,
     "metadata": {},
     "output_type": "execute_result"
    }
   ],
   "source": [
    "linreg35 = LinearRegression()\n",
    "linreg35.train(threefive)\n",
    "linreg35.predict(threefive_test)\n",
    "print(\"3 vs 5 error rate = \"+str(linreg35.error_rate()))\n",
    "linreg35.confusion_matrix().astype('uint16')"
   ]
  },
  {
   "cell_type": "markdown",
   "metadata": {},
   "source": [
    "### 3 vs 7"
   ]
  },
  {
   "cell_type": "code",
   "execution_count": 24,
   "metadata": {},
   "outputs": [
    {
     "name": "stdout",
     "output_type": "stream",
     "text": [
      "3 vs 7 error rate = 0.0255591054313\n"
     ]
    },
    {
     "data": {
      "text/plain": [
       "array([[161,   5],\n",
       "       [  3, 144]], dtype=uint16)"
      ]
     },
     "execution_count": 24,
     "metadata": {},
     "output_type": "execute_result"
    }
   ],
   "source": [
    "linreg37 = LinearRegression()\n",
    "linreg37.train(threeseven)\n",
    "linreg37.predict(threeseven_test)\n",
    "print(\"3 vs 7 error rate = \"+str(linreg37.error_rate()))\n",
    "linreg37.confusion_matrix().astype('uint16')"
   ]
  },
  {
   "cell_type": "markdown",
   "metadata": {},
   "source": [
    "### 3 vs 8"
   ]
  },
  {
   "cell_type": "code",
   "execution_count": 25,
   "metadata": {},
   "outputs": [
    {
     "name": "stdout",
     "output_type": "stream",
     "text": [
      "3 vs 8 error rate = 0.0481927710843\n"
     ]
    },
    {
     "data": {
      "text/plain": [
       "array([[156,  10],\n",
       "       [  6, 160]], dtype=uint16)"
      ]
     },
     "execution_count": 25,
     "metadata": {},
     "output_type": "execute_result"
    }
   ],
   "source": [
    "linreg38 = LinearRegression()\n",
    "linreg38.train(threeeight)\n",
    "linreg38.predict(threeeight_test)\n",
    "print(\"3 vs 8 error rate = \"+str(linreg38.error_rate()))\n",
    "linreg38.confusion_matrix().astype('uint16')"
   ]
  },
  {
   "cell_type": "markdown",
   "metadata": {},
   "source": [
    "### 5 vs 7"
   ]
  },
  {
   "cell_type": "code",
   "execution_count": 26,
   "metadata": {},
   "outputs": [
    {
     "name": "stdout",
     "output_type": "stream",
     "text": [
      "5 vs 7 error rate = 0.0162866449511\n"
     ]
    },
    {
     "data": {
      "text/plain": [
       "array([[157,   3],\n",
       "       [  2, 145]], dtype=uint16)"
      ]
     },
     "execution_count": 26,
     "metadata": {},
     "output_type": "execute_result"
    }
   ],
   "source": [
    "linreg57 = LinearRegression()\n",
    "linreg57.train(fiveseven)\n",
    "linreg57.predict(fiveseven_test)\n",
    "print(\"5 vs 7 error rate = \"+str(linreg57.error_rate()))\n",
    "linreg57.confusion_matrix().astype('uint16')"
   ]
  },
  {
   "cell_type": "markdown",
   "metadata": {},
   "source": [
    "### 5 vs 8"
   ]
  },
  {
   "cell_type": "code",
   "execution_count": 27,
   "metadata": {},
   "outputs": [
    {
     "name": "stdout",
     "output_type": "stream",
     "text": [
      "5 vs 8 error rate = 0.0368098159509\n"
     ]
    },
    {
     "data": {
      "text/plain": [
       "array([[154,   6],\n",
       "       [  6, 160]], dtype=uint16)"
      ]
     },
     "execution_count": 27,
     "metadata": {},
     "output_type": "execute_result"
    }
   ],
   "source": [
    "linreg58 = LinearRegression()\n",
    "linreg58.train(fiveeight)\n",
    "linreg58.predict(fiveeight_test)\n",
    "print(\"5 vs 8 error rate = \"+str(linreg58.error_rate()))\n",
    "linreg58.confusion_matrix().astype('uint16')"
   ]
  },
  {
   "cell_type": "markdown",
   "metadata": {},
   "source": [
    "### 7 vs 8"
   ]
  },
  {
   "cell_type": "code",
   "execution_count": 28,
   "metadata": {},
   "outputs": [
    {
     "data": {
      "text/plain": [
       "array([  3.88427020e+12,   3.88427020e+12,   3.88427020e+12,\n",
       "         3.88427020e+12,   3.88427020e+12,   3.88427020e+12,\n",
       "         3.88427020e+12,   3.88427020e+12,   3.88427020e+12,\n",
       "         3.88427020e+12])"
      ]
     },
     "execution_count": 28,
     "metadata": {},
     "output_type": "execute_result"
    }
   ],
   "source": [
    "linreg78 = LinearRegression()\n",
    "linreg78.train(seveneight)\n",
    "linreg78.predict(seveneight_test)[:10]"
   ]
  },
  {
   "cell_type": "code",
   "execution_count": 29,
   "metadata": {},
   "outputs": [
    {
     "name": "stdout",
     "output_type": "stream",
     "text": [
      "7 vs 8 error rate = 0.5303514377\n"
     ]
    },
    {
     "data": {
      "text/plain": [
       "array([[147,   0],\n",
       "       [166,   0]], dtype=uint16)"
      ]
     },
     "execution_count": 29,
     "metadata": {},
     "output_type": "execute_result"
    }
   ],
   "source": [
    "print(\"7 vs 8 error rate = \"+str(linreg78.error_rate()))\n",
    "linreg78.confusion_matrix().astype('uint16')"
   ]
  },
  {
   "cell_type": "code",
   "execution_count": 30,
   "metadata": {},
   "outputs": [
    {
     "data": {
      "text/plain": [
       "array([[ 1.  , -1.  , -0.99, ..., -1.  , -1.  , -1.  ],\n",
       "       [ 1.  , -1.  , -1.  , ..., -1.  , -1.  , -1.  ],\n",
       "       [ 1.  , -1.  , -1.  , ..., -1.  , -1.  , -1.  ],\n",
       "       ..., \n",
       "       [ 1.  , -1.  , -1.  , ..., -1.  , -1.  , -1.  ],\n",
       "       [ 1.  , -1.  , -1.  , ..., -1.  , -1.  , -1.  ],\n",
       "       [ 1.  , -1.  , -1.  , ..., -1.  , -1.  , -1.  ]])"
      ]
     },
     "execution_count": 30,
     "metadata": {},
     "output_type": "execute_result"
    }
   ],
   "source": [
    "linreg78.X_test"
   ]
  },
  {
   "cell_type": "code",
   "execution_count": 31,
   "metadata": {},
   "outputs": [
    {
     "data": {
      "text/plain": [
       "array([  3.08378652e+12,  -2.42522583e+01,   4.36608887e+00,\n",
       "        -6.03210449e+00,   3.46725464e+00,   1.34539795e+00,\n",
       "        -3.82171631e-01,   1.30364990e+00,  -4.58984375e-01,\n",
       "         1.40495300e+00])"
      ]
     },
     "execution_count": 31,
     "metadata": {},
     "output_type": "execute_result"
    }
   ],
   "source": [
    "linreg78.beta[:10]"
   ]
  },
  {
   "cell_type": "markdown",
   "metadata": {},
   "source": [
    "Wir wissen nicht warum hier alles als 8 klassifiziert wird, möglicherweise sind 7 und 8 zu ähnlich. Sehr verwirrend."
   ]
  }
 ],
 "metadata": {
  "kernelspec": {
   "display_name": "Python 3",
   "language": "python",
   "name": "python3"
  },
  "language_info": {
   "codemirror_mode": {
    "name": "ipython",
    "version": 3
   },
   "file_extension": ".py",
   "mimetype": "text/x-python",
   "name": "python",
   "nbconvert_exporter": "python",
   "pygments_lexer": "ipython3",
   "version": "3.5.0"
  }
 },
 "nbformat": 4,
 "nbformat_minor": 2
}

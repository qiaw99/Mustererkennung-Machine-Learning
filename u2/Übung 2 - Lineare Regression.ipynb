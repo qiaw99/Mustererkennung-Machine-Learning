{
 "cells": [
  {
   "cell_type": "markdown",
   "metadata": {},
   "source": [
    "# Übung 2: Lineare Regression - Rainier Robles & Valentin Wolf"
   ]
  },
  {
   "cell_type": "code",
   "execution_count": 1,
   "metadata": {
    "ExecuteTime": {
     "end_time": "2018-01-31T14:51:38.475800Z",
     "start_time": "2018-01-31T14:51:37.269204Z"
    },
    "collapsed": true
   },
   "outputs": [],
   "source": [
    "import numpy as np\n",
    "import pandas as pd\n",
    "import matplotlib.pyplot as plt\n",
    "import seaborn as sns\n",
    "%matplotlib inline"
   ]
  },
  {
   "cell_type": "markdown",
   "metadata": {},
   "source": [
    "### Import & visualise the data"
   ]
  },
  {
   "cell_type": "code",
   "execution_count": 2,
   "metadata": {
    "ExecuteTime": {
     "end_time": "2018-01-31T14:51:39.793951Z",
     "start_time": "2018-01-31T14:51:39.317390Z"
    },
    "collapsed": true
   },
   "outputs": [],
   "source": [
    "train = pd.read_table('zip.train', delim_whitespace=True,header=None)\n",
    "test = pd.read_table('zip.test', delim_whitespace=True,header=None)"
   ]
  },
  {
   "cell_type": "code",
   "execution_count": 3,
   "metadata": {
    "ExecuteTime": {
     "end_time": "2018-01-31T14:51:39.823182Z",
     "start_time": "2018-01-31T14:51:39.795625Z"
    }
   },
   "outputs": [
    {
     "data": {
      "text/html": [
       "<div>\n",
       "<style>\n",
       "    .dataframe thead tr:only-child th {\n",
       "        text-align: right;\n",
       "    }\n",
       "\n",
       "    .dataframe thead th {\n",
       "        text-align: left;\n",
       "    }\n",
       "\n",
       "    .dataframe tbody tr th {\n",
       "        vertical-align: top;\n",
       "    }\n",
       "</style>\n",
       "<table border=\"1\" class=\"dataframe\">\n",
       "  <thead>\n",
       "    <tr style=\"text-align: right;\">\n",
       "      <th></th>\n",
       "      <th>0</th>\n",
       "      <th>1</th>\n",
       "      <th>2</th>\n",
       "      <th>3</th>\n",
       "      <th>4</th>\n",
       "      <th>5</th>\n",
       "      <th>6</th>\n",
       "      <th>7</th>\n",
       "      <th>8</th>\n",
       "      <th>9</th>\n",
       "      <th>...</th>\n",
       "      <th>247</th>\n",
       "      <th>248</th>\n",
       "      <th>249</th>\n",
       "      <th>250</th>\n",
       "      <th>251</th>\n",
       "      <th>252</th>\n",
       "      <th>253</th>\n",
       "      <th>254</th>\n",
       "      <th>255</th>\n",
       "      <th>256</th>\n",
       "    </tr>\n",
       "  </thead>\n",
       "  <tbody>\n",
       "    <tr>\n",
       "      <th>0</th>\n",
       "      <td>6.0</td>\n",
       "      <td>-1.0</td>\n",
       "      <td>-1.0</td>\n",
       "      <td>-1.0</td>\n",
       "      <td>-1.000</td>\n",
       "      <td>-1.000</td>\n",
       "      <td>-1.000</td>\n",
       "      <td>-1.000</td>\n",
       "      <td>-0.631</td>\n",
       "      <td>0.862</td>\n",
       "      <td>...</td>\n",
       "      <td>0.304</td>\n",
       "      <td>0.823</td>\n",
       "      <td>1.000</td>\n",
       "      <td>0.482</td>\n",
       "      <td>-0.474</td>\n",
       "      <td>-0.991</td>\n",
       "      <td>-1.000</td>\n",
       "      <td>-1.000</td>\n",
       "      <td>-1.000</td>\n",
       "      <td>-1.0</td>\n",
       "    </tr>\n",
       "    <tr>\n",
       "      <th>1</th>\n",
       "      <td>5.0</td>\n",
       "      <td>-1.0</td>\n",
       "      <td>-1.0</td>\n",
       "      <td>-1.0</td>\n",
       "      <td>-0.813</td>\n",
       "      <td>-0.671</td>\n",
       "      <td>-0.809</td>\n",
       "      <td>-0.887</td>\n",
       "      <td>-0.671</td>\n",
       "      <td>-0.853</td>\n",
       "      <td>...</td>\n",
       "      <td>-0.671</td>\n",
       "      <td>-0.671</td>\n",
       "      <td>-0.033</td>\n",
       "      <td>0.761</td>\n",
       "      <td>0.762</td>\n",
       "      <td>0.126</td>\n",
       "      <td>-0.095</td>\n",
       "      <td>-0.671</td>\n",
       "      <td>-0.828</td>\n",
       "      <td>-1.0</td>\n",
       "    </tr>\n",
       "    <tr>\n",
       "      <th>2</th>\n",
       "      <td>4.0</td>\n",
       "      <td>-1.0</td>\n",
       "      <td>-1.0</td>\n",
       "      <td>-1.0</td>\n",
       "      <td>-1.000</td>\n",
       "      <td>-1.000</td>\n",
       "      <td>-1.000</td>\n",
       "      <td>-1.000</td>\n",
       "      <td>-1.000</td>\n",
       "      <td>-1.000</td>\n",
       "      <td>...</td>\n",
       "      <td>-1.000</td>\n",
       "      <td>-1.000</td>\n",
       "      <td>-1.000</td>\n",
       "      <td>-0.109</td>\n",
       "      <td>1.000</td>\n",
       "      <td>-0.179</td>\n",
       "      <td>-1.000</td>\n",
       "      <td>-1.000</td>\n",
       "      <td>-1.000</td>\n",
       "      <td>-1.0</td>\n",
       "    </tr>\n",
       "  </tbody>\n",
       "</table>\n",
       "<p>3 rows × 257 columns</p>\n",
       "</div>"
      ],
      "text/plain": [
       "   0    1    2    3      4      5      6      7      8      9   ...     247  \\\n",
       "0  6.0 -1.0 -1.0 -1.0 -1.000 -1.000 -1.000 -1.000 -0.631  0.862 ...   0.304   \n",
       "1  5.0 -1.0 -1.0 -1.0 -0.813 -0.671 -0.809 -0.887 -0.671 -0.853 ...  -0.671   \n",
       "2  4.0 -1.0 -1.0 -1.0 -1.000 -1.000 -1.000 -1.000 -1.000 -1.000 ...  -1.000   \n",
       "\n",
       "     248    249    250    251    252    253    254    255  256  \n",
       "0  0.823  1.000  0.482 -0.474 -0.991 -1.000 -1.000 -1.000 -1.0  \n",
       "1 -0.671 -0.033  0.761  0.762  0.126 -0.095 -0.671 -0.828 -1.0  \n",
       "2 -1.000 -1.000 -0.109  1.000 -0.179 -1.000 -1.000 -1.000 -1.0  \n",
       "\n",
       "[3 rows x 257 columns]"
      ]
     },
     "execution_count": 3,
     "metadata": {},
     "output_type": "execute_result"
    }
   ],
   "source": [
    "train.head(3)"
   ]
  },
  {
   "cell_type": "code",
   "execution_count": 4,
   "metadata": {
    "ExecuteTime": {
     "end_time": "2018-01-31T14:51:40.449671Z",
     "start_time": "2018-01-31T14:51:40.428718Z"
    },
    "collapsed": true
   },
   "outputs": [],
   "source": [
    "#train = train[(train[0]==7)|(train[0]==8)]\n",
    "#test = test[(test[0]==7)|(test[0]==8)]\n",
    "#split labels y from data X\n",
    "y_train = train[0].as_matrix()\n",
    "y_test = test[0].as_matrix()\n",
    "X_train = train.drop(0, axis=1).as_matrix()\n",
    "X_test = test.drop(0, axis=1).as_matrix()"
   ]
  },
  {
   "cell_type": "code",
   "execution_count": 5,
   "metadata": {
    "ExecuteTime": {
     "end_time": "2018-01-31T14:51:41.130684Z",
     "start_time": "2018-01-31T14:51:40.980716Z"
    }
   },
   "outputs": [
    {
     "data": {
      "text/plain": [
       "(-0.5, 15.5, 15.5, -0.5)"
      ]
     },
     "execution_count": 5,
     "metadata": {},
     "output_type": "execute_result"
    },
    {
     "data": {
      "image/png": "[encoded data removed]",
      "text/plain": [
       "<matplotlib.figure.Figure at 0x10c6df128>"
      ]
     },
     "metadata": {},
     "output_type": "display_data"
    }
   ],
   "source": [
    "img = X_train[0,:].reshape(16,16)\n",
    "im = plt.imshow(img, cmap='Greys')\n",
    "plt.axis('off')"
   ]
  },
  {
   "cell_type": "code",
   "execution_count": 6,
   "metadata": {
    "ExecuteTime": {
     "end_time": "2018-01-31T14:51:41.472010Z",
     "start_time": "2018-01-31T14:51:41.468282Z"
    },
    "collapsed": true
   },
   "outputs": [],
   "source": [
    "def is_invertible(X):\n",
    "    return np.linalg.cond(X) < 1 / np.spacing(1)"
   ]
  },
  {
   "cell_type": "markdown",
   "metadata": {},
   "source": [
    "### Define the Classifier"
   ]
  },
  {
   "cell_type": "code",
   "execution_count": 7,
   "metadata": {
    "ExecuteTime": {
     "end_time": "2018-01-31T14:51:42.528383Z",
     "start_time": "2018-01-31T14:51:42.420720Z"
    },
    "collapsed": true
   },
   "outputs": [],
   "source": [
    "class Classifier(object):\n",
    "    def  __init__(self):\n",
    "        pass\n",
    "    \n",
    "    def error_rate(self,truth, pred):\n",
    "        \"\"\"gets two vectors, returns (correct classified / total classified)\"\"\"\n",
    "        amount = truth.shape[0]\n",
    "        wrong = np.count_nonzero(truth - pred)\n",
    "        return wrong/amount\n",
    "    \n",
    "def confused_matrix(x,y,percentage=False):\n",
    "    assert(x.shape == y.shape)\n",
    "    num_entries = x.shape[0]\n",
    "    matrix = np.zeros((10,10))\n",
    "    for i in range(num_entries):\n",
    "        matrix[int(x[i]),int(y[i])] += 1\n",
    "    if percentage==True: \n",
    "        matrix /= np.sum(matrix,axis=1)\n",
    "    return matrix\n",
    "\n",
    "\n",
    "def pinv(self,X,noise_rate):\n",
    "    '''Calculates a pseudo inverse of matrix X, X has to be quadratic'''\n",
    "\n",
    "    def is_invertible(X):\n",
    "        return np.linalg.cond(X) < 1 / np.spacing(1)\n",
    "    \n",
    "    I = np.identity(X.shape[0])\n",
    "    total_noise = 0\n",
    "    X_ = X\n",
    "    while True:\n",
    "        if is_invertible(X_):\n",
    "            pinv = np.linalg.inv(X_)\n",
    "            #print(\"Total noise: \", total_noise)\n",
    "            return pinv\n",
    "        else:\n",
    "            total_noise += noise_rate\n",
    "            X_ = ((1-total_noise)*X)+(total_noise*I)\n",
    "\n",
    "def pdet(self, X):\n",
    "    eig_values,_= np.linalg.eig(X)\n",
    "    pdet = np.prod(eig_values[eig_values > 1e-4])\n",
    "    return pdet \n"
   ]
  },
  {
   "cell_type": "code",
   "execution_count": 8,
   "metadata": {
    "ExecuteTime": {
     "end_time": "2018-01-31T14:51:43.184613Z",
     "start_time": "2018-01-31T14:51:43.132785Z"
    },
    "collapsed": true
   },
   "outputs": [],
   "source": [
    "class LinearRegression(Classifier):\n",
    "    def train(self, X, y, noise_rate=0.01):\n",
    "        N = X.shape[0]\n",
    "        #add a column of 1s to multiply it by constant/bias later on\n",
    "        X = np.concatenate((np.ones((N,1)),X),axis=1)\n",
    "        self.beta = self.pinv(np.dot(X.T, X),noise_rate).dot(X.T).dot(y)\n",
    "        \n",
    "    def pinv(self,X,noise_rate):\n",
    "        '''Calculates a pseudo inverse of matrix X, X has to be quadratic'''\n",
    "        I = np.identity(X.shape[0])\n",
    "        total_noise = 0\n",
    "        X_ = X\n",
    "        while True:\n",
    "            if is_invertible(X_):\n",
    "                pinv = np.linalg.inv(X_)\n",
    "                #print(\"Total noise: \", total_noise)\n",
    "                return pinv\n",
    "            else: # LinAlgError:\n",
    "                total_noise += noise_rate\n",
    "                X_ = ((1-total_noise)*X)+(total_noise*I)\n",
    "        \n",
    "                \n",
    "    def predict(self,X):\n",
    "        N = X.shape[0]\n",
    "        #add a column of 1s to multiply it by constant/bias later on\n",
    "        X = np.concatenate((np.ones((N,1)),X),axis=1)\n",
    "        return X.dot(self.beta)\n",
    "    \n",
    "    def classify(self,X):\n",
    "        '''returns matrix y with values 1 if predicted value of row is >=0 else 0 '''\n",
    "        return (self.predict(X)>=0).astype(int)\n",
    "\n",
    "    "
   ]
  },
  {
   "cell_type": "markdown",
   "metadata": {},
   "source": [
    "### Train the 10 Classifiers for all vs one"
   ]
  },
  {
   "cell_type": "code",
   "execution_count": 9,
   "metadata": {
    "ExecuteTime": {
     "end_time": "2018-01-31T14:51:44.524259Z",
     "start_time": "2018-01-31T14:51:44.187909Z"
    },
    "collapsed": true
   },
   "outputs": [],
   "source": [
    "classifiers = []\n",
    "\n",
    "for i in range(10):\n",
    "    classifier = LinearRegression()\n",
    "    classifier.train(X_train,(y_train==i).astype('int8')*2-1,noise_rate = 0.1 )\n",
    "    classifiers.append(classifier)"
   ]
  },
  {
   "cell_type": "markdown",
   "metadata": {},
   "source": [
    "### Let's predict"
   ]
  },
  {
   "cell_type": "code",
   "execution_count": 10,
   "metadata": {
    "ExecuteTime": {
     "end_time": "2018-01-31T14:51:46.137762Z",
     "start_time": "2018-01-31T14:51:46.116190Z"
    }
   },
   "outputs": [
    {
     "name": "stdout",
     "output_type": "stream",
     "text": [
      "Classifier for  0  error rate:  0.029397110114598904\n",
      "Classifier for  1  error rate:  0.0114598903836572\n",
      "Classifier for  2  error rate:  0.03587443946188341\n",
      "Classifier for  3  error rate:  0.03687095166915795\n",
      "Classifier for  4  error rate:  0.04035874439461883\n",
      "Classifier for  5  error rate:  0.03537618335824614\n",
      "Classifier for  6  error rate:  0.018435475834578975\n",
      "Classifier for  7  error rate:  0.02092675635276532\n",
      "Classifier for  8  error rate:  0.04534130543099153\n",
      "Classifier for  9  error rate:  0.03537618335824614\n"
     ]
    }
   ],
   "source": [
    "predictions = []\n",
    "for i in range(10):\n",
    "    y_pred = classifiers[i].predict(X_test)\n",
    "    predictions.append(y_pred)\n",
    "    print(\"Classifier for \", i, \" error rate: \", classifier.error_rate(((y_test==i).astype(int)),classifiers[i].classify(X_test)))"
   ]
  },
  {
   "cell_type": "markdown",
   "metadata": {},
   "source": [
    "### The argument/index of the max value in each row is the predicted number"
   ]
  },
  {
   "cell_type": "code",
   "execution_count": 12,
   "metadata": {
    "ExecuteTime": {
     "end_time": "2018-01-31T14:51:52.659588Z",
     "start_time": "2018-01-31T14:51:52.654645Z"
    }
   },
   "outputs": [
    {
     "name": "stdout",
     "output_type": "stream",
     "text": [
      "Total error rate:  0.13054\n"
     ]
    }
   ],
   "source": [
    "pred_classifications = np.argmax(np.asarray(predictions),axis=0)\n",
    "\n",
    "error_rate = classifier.error_rate(y_test, pred_classifications)\n",
    "print(\"Total error rate: \", round(error_rate,5))"
   ]
  },
  {
   "cell_type": "code",
   "execution_count": 15,
   "metadata": {
    "ExecuteTime": {
     "end_time": "2018-01-31T14:54:12.826517Z",
     "start_time": "2018-01-31T14:54:12.819836Z"
    }
   },
   "outputs": [
    {
     "data": {
      "text/plain": [
       "[array([-0.93226349, -0.66601074, -1.35040613, ..., -0.41015828,\n",
       "         1.22493766, -1.19110311]),\n",
       " array([-0.90140209, -1.096394  , -1.11191559, ..., -0.96391751,\n",
       "        -1.3020005 ,  0.75821168]),\n",
       " array([-0.99371955, -0.45507103, -0.52181336, ..., -1.06650427,\n",
       "        -0.75391226, -0.9165346 ]),\n",
       " array([-0.87593359, -1.27567546,  0.64846738, ..., -1.15052566,\n",
       "        -1.50459191, -0.97522972]),\n",
       " array([-0.44869591, -0.18514493, -1.12055074, ...,  0.60216072,\n",
       "        -0.85932729, -0.91673383]),\n",
       " array([-1.39099132, -0.75743175, -0.97588842, ..., -1.75067731,\n",
       "        -1.18747672, -1.03038481]),\n",
       " array([-1.15923651, -0.04386416, -1.20058738, ..., -1.20198668,\n",
       "        -0.90405136, -0.93562717]),\n",
       " array([-0.73092383, -0.93994786, -0.81567696, ..., -1.12753973,\n",
       "        -0.80615946, -1.03055589]),\n",
       " array([-0.6973223 , -1.54938587, -0.63439725, ..., -0.2010116 ,\n",
       "        -0.7815379 , -1.00800348]),\n",
       " array([ 0.13048859, -1.03107421, -0.91723155, ..., -0.72983968,\n",
       "        -1.12588026, -0.75403908])]"
      ]
     },
     "execution_count": 15,
     "metadata": {},
     "output_type": "execute_result"
    }
   ],
   "source": [
    "predictions"
   ]
  },
  {
   "cell_type": "code",
   "execution_count": 16,
   "metadata": {
    "ExecuteTime": {
     "end_time": "2018-01-31T14:54:14.326977Z",
     "start_time": "2018-01-31T14:54:14.323072Z"
    }
   },
   "outputs": [
    {
     "data": {
      "text/plain": [
       "array([9, 6, 3, ..., 4, 0, 1])"
      ]
     },
     "execution_count": 16,
     "metadata": {},
     "output_type": "execute_result"
    }
   ],
   "source": [
    "pred_classifications"
   ]
  },
  {
   "cell_type": "markdown",
   "metadata": {},
   "source": [
    "### Plot results"
   ]
  },
  {
   "cell_type": "code",
   "execution_count": 339,
   "metadata": {
    "scrolled": true
   },
   "outputs": [
    {
     "data": {
      "text/plain": [
       "array([[347,   2,   0,   1,   3,   1,   4,   0,   0,   1],\n",
       "       [  0, 254,   0,   2,   3,   0,   3,   0,   1,   1],\n",
       "       [  8,   3, 157,   7,   9,   2,   1,   1,  10,   0],\n",
       "       [  5,   0,   4, 138,   2,   8,   0,   2,   3,   4],\n",
       "       [  3,   7,   4,   0, 169,   1,   3,   2,   1,  10],\n",
       "       [  9,   1,   0,  20,   2, 122,   0,   1,   1,   4],\n",
       "       [  3,   2,   4,   0,   5,   4, 151,   0,   1,   0],\n",
       "       [  3,   1,   1,   1,   7,   0,   0, 130,   0,   4],\n",
       "       [  8,   3,   2,  14,   4,  10,   1,   1, 119,   4],\n",
       "       [  0,   3,   0,   0,   7,   0,   0,   7,   2, 158]], dtype=uint16)"
      ]
     },
     "execution_count": 339,
     "metadata": {},
     "output_type": "execute_result"
    }
   ],
   "source": [
    "x = confused_matrix(y_test,pred_classifications)\n",
    "x.astype('uint16')"
   ]
  },
  {
   "cell_type": "code",
   "execution_count": 273,
   "metadata": {
    "scrolled": false
   },
   "outputs": [
    {
     "data": {
      "text/plain": [
       "<matplotlib.axes._subplots.AxesSubplot at 0x110821550>"
      ]
     },
     "execution_count": 273,
     "metadata": {},
     "output_type": "execute_result"
    },
    {
     "data": {
      "image/png": "[encoded data removed]",
      "text/plain": [
       "<matplotlib.figure.Figure at 0x1106d4d30>"
      ]
     },
     "metadata": {},
     "output_type": "display_data"
    }
   ],
   "source": [
    "x = confused_matrix(y_test,pred_classifications,percentage=True)\n",
    "dims = (8, 6)\n",
    "fig, ax = plt.subplots(figsize=dims)\n",
    "sns.heatmap(ax=ax,data=np.round(x,3), annot=True, fmt=\"g\", cmap='Greys')"
   ]
  }
 ],
 "metadata": {
  "kernelspec": {
   "display_name": "Python 3",
   "language": "python",
   "name": "python3"
  },
  "language_info": {
   "codemirror_mode": {
    "name": "ipython",
    "version": 3
   },
   "file_extension": ".py",
   "mimetype": "text/x-python",
   "name": "python",
   "nbconvert_exporter": "python",
   "pygments_lexer": "ipython3",
   "version": "3.5.0"
  },
  "toc": {
   "nav_menu": {},
   "number_sections": true,
   "sideBar": true,
   "skip_h1_title": false,
   "toc_cell": false,
   "toc_position": {},
   "toc_section_display": "block",
   "toc_window_display": false
  }
 },
 "nbformat": 4,
 "nbformat_minor": 1
}

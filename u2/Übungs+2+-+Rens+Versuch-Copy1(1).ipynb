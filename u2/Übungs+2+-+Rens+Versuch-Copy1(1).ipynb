{
 "cells": [
  {
   "cell_type": "markdown",
   "metadata": {},
   "source": [
    "# Übung 2"
   ]
  },
  {
   "cell_type": "code",
   "execution_count": 171,
   "metadata": {
    "collapsed": true
   },
   "outputs": [],
   "source": [
    "import numpy as np\n",
    "from numpy.linalg import inv"
   ]
  },
  {
   "cell_type": "markdown",
   "metadata": {},
   "source": [
    "### Load the different training sets and prepare training sets for the various matchups"
   ]
  },
  {
   "cell_type": "code",
   "execution_count": 172,
   "metadata": {
    "collapsed": true
   },
   "outputs": [],
   "source": [
    "trainlist = []\n",
    "trainsets = ['train3','train5','train7','train8']\n",
    "for trainset in trainsets:\n",
    "    trainlist.append(np.loadtxt(trainset,delimiter=','))\n",
    "    \n",
    "### set with 3 and 5\n",
    "left = np.concatenate(((np.full((trainlist[0].shape[0],1),1)),trainlist[0]),axis=1)\n",
    "right = np.concatenate(((np.full((trainlist[1].shape[0],1),-1)),trainlist[1]),axis=1)\n",
    "threefive = np.concatenate((left,right),axis=0)\n",
    "\n",
    "### set with 3 and 7\n",
    "left = np.concatenate(((np.full((trainlist[0].shape[0],1),1)),trainlist[0]),axis=1)\n",
    "right = np.concatenate(((np.full((trainlist[2].shape[0],1),-1)),trainlist[2]),axis=1)\n",
    "threeseven = np.concatenate((left,right),axis=0)\n",
    "\n",
    "### set with 3 and 8\n",
    "left = np.concatenate(((np.full((trainlist[0].shape[0],1),1)),trainlist[0]),axis=1)\n",
    "right = np.concatenate(((np.full((trainlist[3].shape[0],1),-1)),trainlist[3]),axis=1)\n",
    "threeeight = np.concatenate((left,right),axis=0)\n",
    "\n",
    "### set with 5 and 7\n",
    "left = np.concatenate(((np.full((trainlist[1].shape[0],1),1)),trainlist[1]),axis=1)\n",
    "right = np.concatenate(((np.full((trainlist[2].shape[0],1),-1)),trainlist[2]),axis=1)\n",
    "fiveseven = np.concatenate((left,right),axis=0)\n",
    "\n",
    "### set with 5 and 8\n",
    "left = np.concatenate(((np.full((trainlist[1].shape[0],1),1)),trainlist[1]),axis=1)\n",
    "right = np.concatenate(((np.full((trainlist[3].shape[0],1),-1)),trainlist[3]),axis=1)\n",
    "fiveeight = np.concatenate((left,right),axis=0)\n",
    "\n",
    "### set with 7 and 8\n",
    "left = np.concatenate(((np.full((trainlist[2].shape[0],1),1)),trainlist[2]),axis=1)\n",
    "right = np.concatenate(((np.full((trainlist[3].shape[0],1),-1)),trainlist[3]),axis=1)\n",
    "seveneight = np.concatenate((left,right),axis=0)"
   ]
  },
  {
   "cell_type": "markdown",
   "metadata": {},
   "source": [
    "### Load the test set and prepare test sets for the various matchups"
   ]
  },
  {
   "cell_type": "code",
   "execution_count": 173,
   "metadata": {},
   "outputs": [],
   "source": [
    "testset = np.loadtxt('zip.test')\n",
    "\n",
    "testlist = []\n",
    "totest = [3,5,7,8]\n",
    "\n",
    "for i in totest:\n",
    "    testlist.append(testset[testset[:,0] == i])\n",
    "    \n",
    "### set with 3 and 5\n",
    "left = np.concatenate(((np.full((testlist[0].shape[0],1),1)),testlist[0][:,1:]),axis=1)\n",
    "right = np.concatenate(((np.full((testlist[1].shape[0],1),-1)),testlist[1][:,1:]),axis=1)\n",
    "threefive_test = np.concatenate((left,right),axis=0)\n",
    "\n",
    "### set with 3 and 7\n",
    "left = np.concatenate(((np.full((testlist[0].shape[0],1),1)),testlist[0][:,1:]),axis=1)\n",
    "right = np.concatenate(((np.full((testlist[2].shape[0],1),-1)),testlist[2][:,1:]),axis=1)\n",
    "threeseven_test = np.concatenate((left,right),axis=0)\n",
    "\n",
    "### set with 3 and 8\n",
    "left = np.concatenate(((np.full((testlist[0].shape[0],1),1)),testlist[0][:,1:]),axis=1)\n",
    "right = np.concatenate(((np.full((testlist[3].shape[0],1),-1)),testlist[3][:,1:]),axis=1)\n",
    "threeeight_test = np.concatenate((left,right),axis=0)\n",
    "\n",
    "### set with 5 and 7\n",
    "left = np.concatenate(((np.full((testlist[1].shape[0],1),1)),testlist[1][:,1:]),axis=1)\n",
    "right = np.concatenate(((np.full((testlist[2].shape[0],1),-1)),testlist[2][:,1:]),axis=1)\n",
    "fiveseven_test = np.concatenate((left,right),axis=0)\n",
    "\n",
    "### set with 5 and 8\n",
    "left = np.concatenate(((np.full((testlist[1].shape[0],1),1)),testlist[1][:,1:]),axis=1)\n",
    "right = np.concatenate(((np.full((testlist[3].shape[0],1),-1)),testlist[3][:,1:]),axis=1)\n",
    "fiveeight_test = np.concatenate((left,right),axis=0)\n",
    "\n",
    "### set with 7 and 8\n",
    "left = np.concatenate(((np.full((testlist[2].shape[0],1),1)),testlist[2][:,1:]),axis=1)\n",
    "right = np.concatenate(((np.full((testlist[3].shape[0],1),-1)),testlist[3][:,1:]),axis=1)\n",
    "seveneight_test = np.concatenate((left,right),axis=0)"
   ]
  },
  {
   "cell_type": "code",
   "execution_count": 174,
   "metadata": {},
   "outputs": [
    {
     "data": {
      "text/plain": [
       "array([[-1., -1., -1., ..., -1., -1., -1.],\n",
       "       [-1., -1., -1., ..., -1., -1., -1.],\n",
       "       [-1., -1., -1., ..., -1., -1., -1.],\n",
       "       ..., \n",
       "       [-1., -1., -1., ..., -1., -1., -1.],\n",
       "       [-1., -1., -1., ..., -1., -1., -1.],\n",
       "       [-1., -1., -1., ..., -1., -1., -1.]])"
      ]
     },
     "execution_count": 174,
     "metadata": {},
     "output_type": "execute_result"
    }
   ],
   "source": [
    "trainlist[2]"
   ]
  },
  {
   "cell_type": "code",
   "execution_count": 175,
   "metadata": {
    "collapsed": true
   },
   "outputs": [],
   "source": [
    "class LinearRegression:\n",
    "    \n",
    "    def __init__(self):\n",
    "        pass\n",
    "    \n",
    "    def train(self,array):\n",
    "        \"\"\"takes training set and splits into X (data) and y (labels)\"\"\"\n",
    "        self.X = array[:,1:]\n",
    "        self.y = array[:,0]\n",
    "        self.beta = self.compute_beta()\n",
    "        \n",
    "    def pinv(self, X, increment=0.05):\n",
    "        \"\"\"attempts to invert a matrix, if not possible, then it tries again with a refactored matrix\"\"\"\n",
    "        I = np.eye(X.shape[0])\n",
    "        my_lambda = 0\n",
    "        X1 = X\n",
    "        while True:\n",
    "            try:\n",
    "                inv(X1)\n",
    "                break\n",
    "            except np.linalg.LinAlgError:\n",
    "                my_lambda += increment\n",
    "                X1 = np.add(X, np.multiply(I,my_lambda))\n",
    "        return inv(X1)\n",
    "        \n",
    "    def bigX(self,X):\n",
    "        \"\"\"returns array with first column filled with ones, and the rest filled with data from X\"\"\"\n",
    "        justones = np.ones((1,X.shape[0]))\n",
    "        result = np.concatenate((justones.T,X),axis=1)\n",
    "        return result\n",
    "    \n",
    "    def covariance_matrix(self,X):\n",
    "        \"\"\"returns the covariance matrix of X\"\"\"\n",
    "        return np.dot(X.T,X)\n",
    "    \n",
    "    def compute_beta(self):\n",
    "        \"\"\"finds beta given the training set and the label k to be tested\"\"\"\n",
    "        X1 = np.dot(self.pinv(self.covariance_matrix(self.bigX(self.X))),self.bigX(self.X).T)\n",
    "        return np.dot(X1,self.y)\n",
    "    \n",
    "    def changelabels(self,arrtochange):\n",
    "        \"\"\"in labels, changes all positive numbers to 0s and all negative numbers to 1s\"\"\"\n",
    "        result = np.zeros((arrtochange.size))\n",
    "        for i in range(0,arrtochange.size):\n",
    "            if arrtochange[i] >= 0:\n",
    "                result[i] = 0\n",
    "            else:\n",
    "                result[i] = 1\n",
    "        return result\n",
    "    \n",
    "    def predict(self,testset):\n",
    "        \"\"\"classifier for exactly two classes, gives values between -1 and +1\"\"\"\n",
    "        self.X_test = self.bigX(testset[:,1:])\n",
    "        self.y_test = testset[:,0]\n",
    "        self.prediction = np.sum(np.multiply(self.beta.T,self.X_test),axis=1)\n",
    "        return self.prediction\n",
    "    \n",
    "    def error_rate(self):\n",
    "        pred = self.changelabels(self.prediction)\n",
    "        testlabels = self.y_test\n",
    "        datacount = pred.shape[0]\n",
    "        bools = np.equal(self.changelabels(testlabels),pred.flatten())\n",
    "        correct = np.sum(bools)\n",
    "        return (datacount-correct)/datacount\n",
    "        #return pred\n",
    "    \n",
    "    def confusion_matrix(self):\n",
    "        preds = self.changelabels(self.prediction).flatten()\n",
    "        testlabels = self.y_test\n",
    "        changedtestlabels = self.changelabels(testlabels)\n",
    "        size = testlabels.size\n",
    "        mtrx = np.zeros((2,2))\n",
    "        for i in range(0,size):\n",
    "            mtrx[int(changedtestlabels[i]),int(preds[i])] += 1\n",
    "        return mtrx"
   ]
  },
  {
   "cell_type": "markdown",
   "metadata": {},
   "source": [
    "### 3 vs 5"
   ]
  },
  {
   "cell_type": "code",
   "execution_count": 176,
   "metadata": {
    "collapsed": true
   },
   "outputs": [],
   "source": [
    "linreg35 = LinearRegression()"
   ]
  },
  {
   "cell_type": "code",
   "execution_count": 177,
   "metadata": {
    "collapsed": true
   },
   "outputs": [],
   "source": [
    "linreg35.train(threefive)"
   ]
  },
  {
   "cell_type": "code",
   "execution_count": 178,
   "metadata": {},
   "outputs": [
    {
     "data": {
      "text/plain": [
       "array([ 1.54406208,  0.92049329, -0.42360194,  0.48262751,  1.25552788,\n",
       "        0.92542761,  0.71750693,  0.93516691, -0.0262136 ,  0.95320363,\n",
       "        1.39713988,  1.04896973,  0.69698686,  0.71072516,  0.81583961,\n",
       "        1.42595604,  1.03675658,  1.33090697,  0.66553801,  0.68894959,\n",
       "        1.14923176,  0.79343849,  0.98374933,  1.41485031, -0.56333768,\n",
       "        0.80016713,  1.67705315,  0.94417203,  0.09325294, -0.0754336 ,\n",
       "        0.90990917,  1.18325106,  0.15100695,  0.44369413,  0.84956316,\n",
       "        1.32101577,  1.05863859,  1.39660494,  1.3595713 ,  0.8612351 ,\n",
       "        1.18395464,  1.21275156,  1.10959977,  0.67920989,  0.29286056,\n",
       "        1.37115586, -0.05187408,  1.12595201,  0.61861106,  0.93621186,\n",
       "        1.06627908,  0.75579275,  0.95087799,  0.94019287,  0.98851092,\n",
       "       -0.05888806,  0.23273467,  0.19609524,  0.84284554,  1.01776305,\n",
       "        0.61010164,  0.20101837,  1.1697076 ,  0.82725932,  0.76592056,\n",
       "        0.97019442,  0.68218666,  1.36241163,  0.57704762,  0.910863  ,\n",
       "        0.82475857,  1.2507577 , -0.39462706,  1.07585959,  1.13687834,\n",
       "        0.58148933, -0.11171212,  0.05663708,  0.0993321 ,  1.15440377,\n",
       "        0.91105046,  0.64581285,  1.38727031,  0.81884212,  1.92476642,\n",
       "        0.72322338,  1.64788249,  1.3767521 ,  0.73249345,  0.39623028,\n",
       "        0.96490886,  0.71272418,  0.13519301,  0.06733043,  2.51088406,\n",
       "        1.58596464,  1.07748822,  1.25224958,  0.79861004,  0.74451238,\n",
       "        0.89469781,  0.00490376, -0.25311821,  1.35035477,  1.46647736,\n",
       "        0.87577978,  0.76681117,  0.13587255,  0.86246505,  0.43523085,\n",
       "        0.42326479, -0.30254242,  0.70701738,  1.25835034,  1.27839391,\n",
       "        1.30489796,  1.49777548,  1.49053789,  0.93663415,  0.55380785,\n",
       "        0.77373719,  1.37852426,  0.44143411,  1.02372959,  0.80530666,\n",
       "        1.20435388,  1.18837759,  1.20134827,  1.49935588,  1.3604498 ,\n",
       "        1.09881805,  1.31176681,  0.61665639,  1.36086941,  1.2535082 ,\n",
       "        1.02984507,  0.86801627,  0.50948189,  0.63872319,  1.24658883,\n",
       "        0.18074962,  0.91574592,  0.25594663,  1.20189885,  1.11612469,\n",
       "        1.05897756,  1.45936689,  1.5970702 , -0.07537457,  0.00588732,\n",
       "        1.537622  ,  1.36046427,  1.1445291 ,  0.57394308,  1.50794561,\n",
       "        1.24101095, -0.24742601,  0.80509566,  0.79018287,  0.57628804,\n",
       "        0.78551848,  1.15118854,  0.87197613,  1.09567456,  0.95783431,\n",
       "        1.08077732, -0.18866834, -0.85058527, -0.42931675, -0.68815151,\n",
       "       -1.20983489, -0.61743119, -1.3249668 , -0.8886003 , -1.56563585,\n",
       "       -0.56731229, -1.29132054, -0.30694106, -1.48813157, -1.09547303,\n",
       "       -1.60347522, -0.86109468, -0.68110837,  0.24089633, -0.28160284,\n",
       "       -0.59615719, -0.76998723, -0.27460932, -0.67141747, -1.08683542,\n",
       "       -1.35508124, -0.611245  , -0.14485405, -0.7577666 ,  0.87899908,\n",
       "       -1.12628578, -1.23940457, -0.70575421, -0.89945035, -0.28028116,\n",
       "       -1.0233042 , -0.1683034 , -0.70935122, -0.31487112, -0.1742303 ,\n",
       "       -0.28883763, -0.03402872,  0.30755218, -0.93262454, -0.33879963,\n",
       "       -0.8407863 , -0.44891253, -0.79837381, -1.05573803, -0.22679355,\n",
       "       -0.1426828 , -1.33156424, -0.94599773, -2.58799309, -0.83740517,\n",
       "       -1.41476102, -0.81650039, -0.51907944, -1.10662654, -1.1886859 ,\n",
       "       -0.34514894, -0.78879879, -0.88511434, -1.34627043,  0.76877076,\n",
       "        0.83470904, -0.11873021, -0.61898386, -1.2566509 , -0.17340028,\n",
       "       -0.68368078, -1.00906514, -1.84853584, -1.25062536, -0.61083574,\n",
       "       -1.1829669 , -0.93698973, -1.19394043, -0.24859879, -0.96183994,\n",
       "       -0.42347857, -0.47814342, -0.85769217, -0.9484974 ,  0.41092982,\n",
       "       -1.42423886, -0.78115763, -0.88689974, -0.66689289, -1.59940087,\n",
       "       -1.69099058,  0.26442514, -1.4680673 , -1.19075936,  0.63956196,\n",
       "       -0.65897147, -0.76135471, -0.92644807, -1.32256512, -0.55120415,\n",
       "       -1.38459585, -0.84302293, -0.62734898, -1.28767559, -1.40822774,\n",
       "       -1.0387569 , -1.60330285, -0.92786014, -1.44853483, -0.13824295,\n",
       "       -0.18207606, -1.09274617, -0.30509184, -0.61525977, -1.2284221 ,\n",
       "       -0.3032989 , -0.71431736, -1.10345488, -1.0323917 , -0.58904141,\n",
       "       -1.13853172, -0.51737122, -1.18911952, -1.24263638,  0.13392857,\n",
       "       -0.11056284, -0.08750659, -1.33985511, -0.41272228, -1.17099037,\n",
       "       -0.936331  , -0.33805638, -0.89844832, -1.72958144, -0.83239583,\n",
       "       -1.2925997 , -0.19256657,  0.15409411, -1.03132636, -0.22562943,\n",
       "       -0.98170252, -1.04349205, -2.02581027, -0.64133256, -1.04472345,\n",
       "       -0.73539063, -0.60734759, -0.25106164, -1.29873352, -0.36110523,\n",
       "       -1.20224819, -0.39979905, -0.9680867 ,  1.1173483 , -0.77918606,\n",
       "       -1.18612335, -1.40015578, -1.56290482, -1.06461275, -0.46958678,\n",
       "       -0.80286056])"
      ]
     },
     "execution_count": 178,
     "metadata": {},
     "output_type": "execute_result"
    }
   ],
   "source": [
    "linreg35.predict(threefive_test)"
   ]
  },
  {
   "cell_type": "code",
   "execution_count": 188,
   "metadata": {},
   "outputs": [
    {
     "name": "stdout",
     "output_type": "stream",
     "text": [
      "3 vs 5 error rate = 0.0705521472393\n"
     ]
    }
   ],
   "source": [
    "print(\"3 vs 5 error rate = \"+str(linreg35.error_rate()))"
   ]
  },
  {
   "cell_type": "code",
   "execution_count": 180,
   "metadata": {},
   "outputs": [
    {
     "data": {
      "text/plain": [
       "array([[154,  12],\n",
       "       [ 11, 149]], dtype=uint16)"
      ]
     },
     "execution_count": 180,
     "metadata": {},
     "output_type": "execute_result"
    }
   ],
   "source": [
    "linreg35.confusion_matrix().astype('uint16')"
   ]
  },
  {
   "cell_type": "markdown",
   "metadata": {},
   "source": [
    "### 3 vs 7"
   ]
  },
  {
   "cell_type": "code",
   "execution_count": 181,
   "metadata": {},
   "outputs": [
    {
     "name": "stdout",
     "output_type": "stream",
     "text": [
      "3 vs 7 error rate = 0.0255591054313\n"
     ]
    },
    {
     "data": {
      "text/plain": [
       "array([[161,   5],\n",
       "       [  3, 144]], dtype=uint16)"
      ]
     },
     "execution_count": 181,
     "metadata": {},
     "output_type": "execute_result"
    }
   ],
   "source": [
    "linreg37 = LinearRegression()\n",
    "linreg37.train(threeseven)\n",
    "linreg37.predict(threeseven_test)\n",
    "print(\"3 vs 7 error rate = \"+str(linreg37.error_rate()))\n",
    "linreg37.confusion_matrix().astype('uint16')"
   ]
  },
  {
   "cell_type": "markdown",
   "metadata": {},
   "source": [
    "### 3 vs 8"
   ]
  },
  {
   "cell_type": "code",
   "execution_count": 182,
   "metadata": {},
   "outputs": [
    {
     "name": "stdout",
     "output_type": "stream",
     "text": [
      "3 vs 8 error rate = 0.0481927710843\n"
     ]
    },
    {
     "data": {
      "text/plain": [
       "array([[156,  10],\n",
       "       [  6, 160]], dtype=uint16)"
      ]
     },
     "execution_count": 182,
     "metadata": {},
     "output_type": "execute_result"
    }
   ],
   "source": [
    "linreg38 = LinearRegression()\n",
    "linreg38.train(threeeight)\n",
    "linreg38.predict(threeeight_test)\n",
    "print(\"3 vs 8 error rate = \"+str(linreg38.error_rate()))\n",
    "linreg38.confusion_matrix().astype('uint16')"
   ]
  },
  {
   "cell_type": "markdown",
   "metadata": {},
   "source": [
    "### 5 vs 7"
   ]
  },
  {
   "cell_type": "code",
   "execution_count": 183,
   "metadata": {},
   "outputs": [
    {
     "name": "stdout",
     "output_type": "stream",
     "text": [
      "5 vs 7 error rate = 0.0162866449511\n"
     ]
    },
    {
     "data": {
      "text/plain": [
       "array([[157,   3],\n",
       "       [  2, 145]], dtype=uint16)"
      ]
     },
     "execution_count": 183,
     "metadata": {},
     "output_type": "execute_result"
    }
   ],
   "source": [
    "linreg57 = LinearRegression()\n",
    "linreg57.train(fiveseven)\n",
    "linreg57.predict(fiveseven_test)\n",
    "print(\"5 vs 7 error rate = \"+str(linreg57.error_rate()))\n",
    "linreg57.confusion_matrix().astype('uint16')"
   ]
  },
  {
   "cell_type": "markdown",
   "metadata": {},
   "source": [
    "### 5 vs 8"
   ]
  },
  {
   "cell_type": "code",
   "execution_count": 184,
   "metadata": {},
   "outputs": [
    {
     "name": "stdout",
     "output_type": "stream",
     "text": [
      "5 vs 8 error rate = 0.0368098159509\n"
     ]
    },
    {
     "data": {
      "text/plain": [
       "array([[154,   6],\n",
       "       [  6, 160]], dtype=uint16)"
      ]
     },
     "execution_count": 184,
     "metadata": {},
     "output_type": "execute_result"
    }
   ],
   "source": [
    "linreg58 = LinearRegression()\n",
    "linreg58.train(fiveeight)\n",
    "linreg58.predict(fiveeight_test)\n",
    "print(\"5 vs 8 error rate = \"+str(linreg58.error_rate()))\n",
    "linreg58.confusion_matrix().astype('uint16')"
   ]
  },
  {
   "cell_type": "markdown",
   "metadata": {},
   "source": [
    "### 7 vs 8"
   ]
  },
  {
   "cell_type": "code",
   "execution_count": 189,
   "metadata": {},
   "outputs": [
    {
     "data": {
      "text/plain": [
       "array([ -7.20001775e+12,  -7.20001775e+12,  -7.20001775e+12,\n",
       "        -7.20001775e+12,  -7.20001775e+12,  -7.20001775e+12,\n",
       "        -7.20001775e+12,  -7.20001775e+12,  -7.20001775e+12,\n",
       "        -7.20001775e+12,  -7.20001775e+12,  -7.20001775e+12,\n",
       "        -7.20001775e+12,  -7.20001775e+12,  -7.20001775e+12,\n",
       "        -7.20001775e+12,  -7.20001775e+12,  -7.20001775e+12,\n",
       "        -7.20001775e+12,  -7.20001775e+12,  -7.20001775e+12,\n",
       "        -7.20001775e+12,  -7.20001775e+12,  -7.20001775e+12,\n",
       "        -7.20001775e+12,  -7.20001775e+12,  -7.20001775e+12,\n",
       "        -7.20001775e+12,  -7.20001775e+12,  -7.20001775e+12,\n",
       "        -7.20001775e+12,  -7.20001775e+12,  -7.20001775e+12,\n",
       "        -7.20001775e+12,  -7.20001775e+12,  -7.20001775e+12,\n",
       "        -7.20001775e+12,  -7.20001775e+12,  -7.20001775e+12,\n",
       "        -7.20001775e+12,  -7.20001775e+12,  -7.20001775e+12,\n",
       "        -7.20001775e+12,  -7.20001775e+12,  -7.20001775e+12,\n",
       "        -7.20001775e+12,  -7.20001775e+12,  -7.20001775e+12,\n",
       "        -7.20001775e+12,  -7.20001775e+12,  -7.20001775e+12,\n",
       "        -7.20001775e+12,  -7.20001775e+12,  -7.20001775e+12,\n",
       "        -7.20001775e+12,  -7.20001775e+12,  -7.20001775e+12,\n",
       "        -7.20001775e+12,  -7.20001775e+12,  -7.20001775e+12,\n",
       "        -7.20001775e+12,  -7.20001775e+12,  -7.20001775e+12,\n",
       "        -7.20001775e+12,  -7.20001775e+12,  -7.20001775e+12,\n",
       "        -7.20001775e+12,  -7.20001775e+12,  -7.20001775e+12,\n",
       "        -7.20001775e+12,  -7.20001775e+12,  -7.20001775e+12,\n",
       "        -7.20001775e+12,  -7.20001775e+12,  -7.20001775e+12,\n",
       "        -7.20001775e+12,  -7.20001775e+12,  -7.20001775e+12,\n",
       "        -7.20001775e+12,  -7.20001775e+12,  -7.20001775e+12,\n",
       "        -7.20001775e+12,  -7.20001775e+12,  -7.20001775e+12,\n",
       "        -7.20001775e+12,  -7.20001775e+12,  -7.20001775e+12,\n",
       "        -7.20001775e+12,  -7.20001775e+12,  -7.20001775e+12,\n",
       "        -7.20001775e+12,  -7.20001775e+12,  -7.20001775e+12,\n",
       "        -7.20001775e+12,  -7.20001775e+12,  -7.20001775e+12,\n",
       "        -7.20001775e+12,  -7.20001775e+12,  -7.20001775e+12,\n",
       "        -7.20001775e+12,  -7.20001775e+12,  -7.20001775e+12,\n",
       "        -7.20001775e+12,  -7.20001775e+12,  -7.20001775e+12,\n",
       "        -7.20001775e+12,  -7.20001775e+12,  -7.20001775e+12,\n",
       "        -7.20001775e+12,  -7.20001775e+12,  -7.20001775e+12,\n",
       "        -7.20001775e+12,  -7.20001775e+12,  -7.20001775e+12,\n",
       "        -7.20001775e+12,  -7.20001775e+12,  -7.20001775e+12,\n",
       "        -7.20001775e+12,  -7.20001775e+12,  -7.20001775e+12,\n",
       "        -7.20001775e+12,  -7.20001775e+12,  -7.20001775e+12,\n",
       "        -7.20001775e+12,  -7.20001775e+12,  -7.20001775e+12,\n",
       "        -7.20001775e+12,  -7.20001775e+12,  -7.20001775e+12,\n",
       "        -7.20001775e+12,  -7.20001775e+12,  -7.20001775e+12,\n",
       "        -7.20001775e+12,  -7.20001775e+12,  -7.20001775e+12,\n",
       "        -7.20001775e+12,  -7.20001775e+12,  -7.20001775e+12,\n",
       "        -7.20001775e+12,  -7.20001775e+12,  -7.20001775e+12,\n",
       "        -7.20001775e+12,  -7.20001775e+12,  -7.20001775e+12,\n",
       "        -7.20001775e+12,  -7.20001775e+12,  -7.20001775e+12,\n",
       "        -7.20001775e+12,  -7.20001775e+12,  -7.20001775e+12,\n",
       "        -7.20001775e+12,  -7.20001775e+12,  -7.20001775e+12,\n",
       "        -7.20001775e+12,  -7.20001775e+12,  -7.20001775e+12,\n",
       "        -7.20001775e+12,  -7.20001775e+12,  -7.20001775e+12,\n",
       "        -7.20001775e+12,  -7.20001775e+12,  -7.20001775e+12,\n",
       "        -7.20001775e+12,  -7.20001775e+12,  -7.20001775e+12,\n",
       "        -7.20001775e+12,  -7.20001775e+12,  -7.20001775e+12,\n",
       "        -7.20001775e+12,  -7.20001775e+12,  -7.20001775e+12,\n",
       "        -7.20001775e+12,  -7.20001775e+12,  -7.20001775e+12,\n",
       "        -7.20001775e+12,  -7.20001775e+12,  -7.20001775e+12,\n",
       "        -7.20001775e+12,  -7.20001775e+12,  -7.20001775e+12,\n",
       "        -7.20001775e+12,  -7.20001775e+12,  -7.20001775e+12,\n",
       "        -7.20001775e+12,  -7.20001775e+12,  -7.20001775e+12,\n",
       "        -7.20001775e+12,  -7.20001775e+12,  -7.20001775e+12,\n",
       "        -7.20001775e+12,  -7.20001775e+12,  -7.20001775e+12,\n",
       "        -7.19536081e+12,  -7.20001775e+12,  -7.20001775e+12,\n",
       "        -7.20001775e+12,  -7.20001775e+12,  -7.20001775e+12,\n",
       "        -7.20001775e+12,  -7.20001775e+12,  -7.20001775e+12,\n",
       "        -7.20001775e+12,  -7.20001775e+12,  -7.20001775e+12,\n",
       "        -7.20001775e+12,  -7.20001775e+12,  -7.20001775e+12,\n",
       "        -7.20001775e+12,  -7.20001775e+12,  -7.20001775e+12,\n",
       "        -7.20001775e+12,  -7.20001775e+12,  -7.20001775e+12,\n",
       "        -7.20001775e+12,  -7.20001775e+12,  -7.20001775e+12,\n",
       "        -7.20001775e+12,  -7.20001775e+12,  -7.20001775e+12,\n",
       "        -7.20001775e+12,  -7.20001775e+12,  -7.20001775e+12,\n",
       "        -7.20001775e+12,  -7.20001775e+12,  -7.20001775e+12,\n",
       "        -7.20001775e+12,  -7.20001775e+12,  -7.20001775e+12,\n",
       "        -7.20001775e+12,  -7.20001775e+12,  -7.20001775e+12,\n",
       "        -7.20001775e+12,  -7.20001775e+12,  -7.20001775e+12,\n",
       "        -7.20001774e+12,  -7.20001775e+12,  -7.20001775e+12,\n",
       "        -7.20001775e+12,  -7.20001775e+12,  -7.20001775e+12,\n",
       "        -7.20001775e+12,  -7.20001775e+12,  -7.20001775e+12,\n",
       "        -7.20001775e+12,  -7.20001775e+12,  -7.20001775e+12,\n",
       "        -7.20001775e+12,  -7.20001775e+12,  -7.20001775e+12,\n",
       "        -7.20001775e+12,  -7.20001775e+12,  -7.19510774e+12,\n",
       "        -7.20001775e+12,  -7.20001775e+12,  -7.20001775e+12,\n",
       "        -7.20001775e+12,  -7.20001775e+12,  -7.20001775e+12,\n",
       "        -7.20001775e+12,  -7.20001775e+12,  -7.20001775e+12,\n",
       "        -7.20001775e+12,  -7.20001775e+12,  -7.20001775e+12,\n",
       "        -7.20001775e+12,  -7.20001775e+12,  -7.20001775e+12,\n",
       "        -7.20001775e+12,  -7.20001775e+12,  -7.20001775e+12,\n",
       "        -7.20001775e+12,  -7.20001775e+12,  -7.20001775e+12,\n",
       "        -7.20001775e+12,  -7.20001775e+12,  -7.20001775e+12,\n",
       "        -7.20001775e+12,  -7.20001775e+12,  -7.20001775e+12,\n",
       "        -7.20001775e+12,  -7.20001775e+12,  -7.20001774e+12,\n",
       "        -7.20001775e+12,  -7.20001775e+12,  -7.20001775e+12,\n",
       "        -7.20001775e+12,  -7.20001775e+12,  -7.20001775e+12,\n",
       "        -7.20001775e+12,  -7.20001775e+12,  -7.20001775e+12,\n",
       "        -7.20001775e+12,  -7.20001775e+12,  -7.20001775e+12,\n",
       "        -7.20001775e+12,  -7.20001775e+12,  -7.20001775e+12,\n",
       "        -7.20001775e+12,  -7.20001775e+12,  -7.20001775e+12,\n",
       "        -7.20001775e+12,  -7.20001775e+12,  -7.20001775e+12,\n",
       "        -7.20001775e+12,  -7.20001775e+12,  -7.20001775e+12,\n",
       "        -7.20001775e+12,  -7.20001775e+12,  -7.20001775e+12,\n",
       "        -7.20001775e+12,  -7.20001775e+12,  -7.20001775e+12,\n",
       "        -7.20001775e+12])"
      ]
     },
     "execution_count": 189,
     "metadata": {},
     "output_type": "execute_result"
    }
   ],
   "source": [
    "linreg78 = LinearRegression()\n",
    "linreg78.train(seveneight)\n",
    "linreg78.predict(seveneight_test)"
   ]
  },
  {
   "cell_type": "code",
   "execution_count": 190,
   "metadata": {},
   "outputs": [
    {
     "name": "stdout",
     "output_type": "stream",
     "text": [
      "7 vs 8 error rate = 0.4696485623\n"
     ]
    },
    {
     "data": {
      "text/plain": [
       "array([[  0, 147],\n",
       "       [  0, 166]], dtype=uint16)"
      ]
     },
     "execution_count": 190,
     "metadata": {},
     "output_type": "execute_result"
    }
   ],
   "source": [
    "print(\"7 vs 8 error rate = \"+str(linreg78.error_rate()))\n",
    "linreg78.confusion_matrix().astype('uint16')"
   ]
  },
  {
   "cell_type": "code",
   "execution_count": 193,
   "metadata": {},
   "outputs": [
    {
     "data": {
      "text/plain": [
       "array([[ 1.  , -1.  , -0.99, ..., -1.  , -1.  , -1.  ],\n",
       "       [ 1.  , -1.  , -1.  , ..., -1.  , -1.  , -1.  ],\n",
       "       [ 1.  , -1.  , -1.  , ..., -1.  , -1.  , -1.  ],\n",
       "       ..., \n",
       "       [ 1.  , -1.  , -1.  , ..., -1.  , -1.  , -1.  ],\n",
       "       [ 1.  , -1.  , -1.  , ..., -1.  , -1.  , -1.  ],\n",
       "       [ 1.  , -1.  , -1.  , ..., -1.  , -1.  , -1.  ]])"
      ]
     },
     "execution_count": 193,
     "metadata": {},
     "output_type": "execute_result"
    }
   ],
   "source": [
    "linreg78.X_test"
   ]
  },
  {
   "cell_type": "code",
   "execution_count": 195,
   "metadata": {},
   "outputs": [
    {
     "data": {
      "text/plain": [
       "array([  1.88522221e+12,   4.90349388e+00,   2.11481094e-01,\n",
       "         1.09245276e+00,  -1.20181179e+00,  -2.76487827e-01,\n",
       "        -8.82860184e-01,   3.42567205e-01,  -3.19647789e-02,\n",
       "        -4.64088917e-01,   5.79541206e-01,   3.14281225e-01,\n",
       "        -4.03476834e-01,   1.93474293e-02,  -2.01158953e+00,\n",
       "         4.20689067e+00,   1.09451294e-01,   3.73510551e+00,\n",
       "        -2.45831108e+00,  -1.19540811e+00,   1.00441612e+00,\n",
       "        -7.78157711e-01,   6.57642841e-01,  -1.34083748e-01,\n",
       "        -5.36391258e-01,   5.09827614e-01,   6.12923265e-01,\n",
       "        -1.98415160e-01,  -9.91716385e-02,   7.60674864e-01,\n",
       "         1.32424355e-01,   3.23411465e+00,  -7.53496170e+00,\n",
       "         5.07468987e+00,  -2.11765289e-01,   9.28371429e-01,\n",
       "        -5.66558897e-01,   1.85893178e-01,  -1.67411804e+00,\n",
       "         1.27623415e+00,  -1.53875446e+00,   9.45503920e-01,\n",
       "        -4.70651150e-01,  -9.42289829e-02,   8.16849232e-01,\n",
       "        -9.15844440e-02,   1.81497574e-01,   2.62324333e-01,\n",
       "        -3.40205002e+00,   3.61965084e+00,  -2.53319645e+00,\n",
       "        -6.36995316e-01,  -1.96317196e-01,   2.58622587e-01,\n",
       "         2.57768035e-01,  -5.01592159e-02,   6.86693192e-01,\n",
       "         5.72597504e-01,  -6.69960976e-01,   3.25648546e-01,\n",
       "         1.47341251e-01,   1.20949581e-01,   9.39388275e-02,\n",
       "        -3.26693726e+00,   1.59302139e+00,   5.73213577e+00,\n",
       "        -6.19831085e-01,   1.78561306e+00,  -4.87331629e-01,\n",
       "        -3.62884045e-01,  -3.38179588e-01,   1.67331696e-02,\n",
       "         1.28319263e-02,   1.98905945e-01,  -2.73532867e-02,\n",
       "         9.54551697e-01,   1.70366287e-01,   3.94454718e-01,\n",
       "        -2.21105576e-01,   6.55994797e+00,  -6.67247641e+00,\n",
       "         6.76563263e-01,  -2.33943176e+00,   3.86156082e-01,\n",
       "         4.12807465e-01,  -3.29840183e-01,  -3.50985527e-02,\n",
       "        -2.96668828e-01,  -3.10981959e-01,  -7.64212072e-01,\n",
       "        -3.74402046e-01,  -2.12380743e+00,   8.85989189e-01,\n",
       "        -6.70984268e-01,  -2.18137074e+00,  -6.46207809e+00,\n",
       "        -6.64042568e+00,   1.63120537e+01,  -1.42054462e+00,\n",
       "         5.65043449e-01,  -1.00750351e+00,   4.67061996e-01,\n",
       "        -6.01754189e-01,   9.01803255e-01,   1.12640333e+00,\n",
       "         6.08880520e-01,   4.29982185e-01,   1.07969427e+00,\n",
       "        -9.15071726e-01,   1.76120377e+00,   5.19820642e+00,\n",
       "         1.00496216e+01,  -7.85067749e+00,   5.11950073e+01,\n",
       "        -2.28326409e+01,   1.60843515e+00,   5.68241119e-01,\n",
       "         1.45848274e-01,   8.23081017e-01,   1.55939865e+00,\n",
       "        -3.14567089e-01,   9.20784235e-01,   2.10297585e-01,\n",
       "        -1.35664392e+00,  -3.03977966e-01,  -5.75262070e+00,\n",
       "        -1.29259658e+01,   4.52835083e-01,  -6.52327576e+01,\n",
       "        -1.90338699e+02,   3.52057800e+01,   1.15034866e+00,\n",
       "        -2.82385159e+00,   7.70695925e-01,   4.34046745e-01,\n",
       "        -6.85246944e-01,  -4.97603893e-01,  -2.83816338e-01,\n",
       "         4.77827072e-01,   1.78589630e+00,   2.95507574e+00,\n",
       "         9.07041550e+00,   1.36292877e+01,   8.30359858e+00,\n",
       "         2.66437500e+02,  -2.08725781e+03,  -7.40936279e+01,\n",
       "         2.93204651e+01,  -7.35565186e+00,  -1.46522069e+00,\n",
       "        -4.48555231e-01,  -3.94125581e-01,   4.18291092e-01,\n",
       "         3.60608578e-01,   9.91685867e-01,  -1.05904794e+00,\n",
       "         3.55352402e-01,  -9.48593521e+00,   4.31533813e+00,\n",
       "        -4.13073425e+01,  -2.85857300e+02,   9.00751953e+02,\n",
       "        -6.51503754e+00,  -2.13356018e-01,   9.52054453e+00,\n",
       "        -2.77802658e+00,   1.69758248e+00,  -7.78843611e-01,\n",
       "         2.03447819e-01,  -1.04029536e-01,  -1.33600807e+00,\n",
       "        -5.39139748e-01,  -1.64223719e+00,   7.45620680e+00,\n",
       "        -4.92214966e+00,   4.36796722e+01,   2.42754761e+02,\n",
       "        -2.46967529e+02,   1.08479004e+01,  -1.82209682e+01,\n",
       "        -3.78725433e+00,   3.03580713e+00,  -9.63598251e-01,\n",
       "         1.22672939e+00,  -2.20074654e-01,  -2.69446850e-01,\n",
       "         1.42337763e+00,   3.89924526e-01,   4.67394352e-01,\n",
       "        -6.29747963e+00,  -1.22817993e+01,   1.20001221e+00,\n",
       "        -2.13370667e+02,  -3.76652344e+02,   3.15882568e+01,\n",
       "         6.48125839e+00,   1.04114532e+00,  -3.65690994e+00,\n",
       "        -1.57111931e+00,  -2.41571045e+00,  -7.74178505e-01,\n",
       "        -9.33637619e-02,  -1.43870068e+00,  -6.94839358e-01,\n",
       "        -9.13248062e-01,   4.13041306e+00,   2.00924683e+00,\n",
       "        -4.57646484e+01,   1.54285278e+02,   9.08003906e+02,\n",
       "         1.90112305e+00,  -6.91999817e+00,   2.40599179e+00,\n",
       "         1.85324001e+00,   1.82465219e+00,   1.16393757e+00,\n",
       "         2.80813217e-01,   9.30099487e-02,  -1.28612041e-01,\n",
       "        -2.49513626e-01,  -4.92763519e-01,  -1.01257706e+00,\n",
       "         1.01216507e+00,   5.97998047e+00,   3.09712891e+02,\n",
       "         2.19024262e+11,   4.50390625e+00,   2.24417114e+00,\n",
       "         5.22003174e-02,   1.13517761e-01,   5.77073097e-02,\n",
       "        -7.72840977e-02,  -2.84171104e-02,  -4.63848114e-02,\n",
       "        -5.52225113e-03,  -5.62496185e-02,   4.12425995e-02,\n",
       "        -5.89233398e-01,   9.82360840e-01,   1.71093750e+01,\n",
       "         8.98752106e+12,  -2.10215519e+11,   2.87135032e+10,\n",
       "        -2.18847656e+00,  -3.25846672e-02,  -7.35244751e-02,\n",
       "        -9.35295224e-02,  -4.83474731e-02,  -1.03278160e-01,\n",
       "        -9.21816826e-02,  -1.51557922e-02,  -6.90784454e-02,\n",
       "        -9.26535461e-04,   7.48649597e-01,   4.81201172e-01,\n",
       "        -5.89570312e+01,   6.01966510e+10])"
      ]
     },
     "execution_count": 195,
     "metadata": {},
     "output_type": "execute_result"
    }
   ],
   "source": [
    "linreg78.beta"
   ]
  },
  {
   "cell_type": "code",
   "execution_count": null,
   "metadata": {
    "collapsed": true
   },
   "outputs": [],
   "source": []
  }
 ],
 "metadata": {
  "kernelspec": {
   "display_name": "Python [default]",
   "language": "python",
   "name": "python3"
  },
  "language_info": {
   "codemirror_mode": {
    "name": "ipython",
    "version": 3
   },
   "file_extension": ".py",
   "mimetype": "text/x-python",
   "name": "python",
   "nbconvert_exporter": "python",
   "pygments_lexer": "ipython3",
   "version": "3.6.1"
  }
 },
 "nbformat": 4,
 "nbformat_minor": 2
}

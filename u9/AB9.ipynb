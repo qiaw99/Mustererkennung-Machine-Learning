{
 "cells": [
  {
   "cell_type": "markdown",
   "metadata": {},
   "source": [
    "# Mustererkennung – Aufgabenblatt 11\n",
    "\n",
    "Bei Fragen: [florian.hartmann@fu-berlin.de](mailto:florian.hartmann@fu-berlin.de?subject=[Mustererkennung]) – E-Mail-Titel der mit [ME] oder [Mustererkennung] anfängt"
   ]
  },
  {
   "cell_type": "code",
   "execution_count": 1,
   "metadata": {
    "ExecuteTime": {
     "end_time": "2018-01-20T22:14:14.969718Z",
     "start_time": "2018-01-20T22:14:14.256926Z"
    },
    "collapsed": true
   },
   "outputs": [],
   "source": [
    "import pandas as pd\n",
    "import numpy as np\n",
    "import matplotlib.pyplot as plt\n",
    "%matplotlib inline"
   ]
  },
  {
   "cell_type": "code",
   "execution_count": 2,
   "metadata": {
    "ExecuteTime": {
     "end_time": "2018-01-20T22:14:16.035072Z",
     "start_time": "2018-01-20T22:14:15.591601Z"
    },
    "collapsed": true
   },
   "outputs": [],
   "source": [
    "import seaborn as sns\n",
    "sns.set(style=\"darkgrid\")\n",
    "sns.set(font_scale=1.7)"
   ]
  },
  {
   "cell_type": "markdown",
   "metadata": {},
   "source": [
    "## Daten laden\n",
    "\n",
    "Wenn man die auf dem Aufgabenblatt verlinkte pickle-Datei benutzt, kann man die Daten so laden:"
   ]
  },
  {
   "cell_type": "code",
   "execution_count": 3,
   "metadata": {
    "ExecuteTime": {
     "end_time": "2018-01-20T22:14:17.361584Z",
     "start_time": "2018-01-20T22:14:17.358730Z"
    },
    "collapsed": true
   },
   "outputs": [],
   "source": [
    "import pickle"
   ]
  },
  {
   "cell_type": "code",
   "execution_count": 4,
   "metadata": {
    "ExecuteTime": {
     "end_time": "2018-01-20T22:14:18.049573Z",
     "start_time": "2018-01-20T22:14:18.046781Z"
    },
    "collapsed": true
   },
   "outputs": [],
   "source": [
    "data_path = \"data/mnist/mnist.pkl\""
   ]
  },
  {
   "cell_type": "code",
   "execution_count": 5,
   "metadata": {
    "ExecuteTime": {
     "end_time": "2018-01-20T22:14:19.193917Z",
     "start_time": "2018-01-20T22:14:19.086368Z"
    }
   },
   "outputs": [
    {
     "ename": "FileNotFoundError",
     "evalue": "[Errno 2] No such file or directory: 'data/mnist/mnist.pkl'",
     "output_type": "error",
     "traceback": [
      "\u001b[0;31m---------------------------------------------------------------------------\u001b[0m",
      "\u001b[0;31mFileNotFoundError\u001b[0m                         Traceback (most recent call last)",
      "\u001b[0;32m<ipython-input-5-411f11c26630>\u001b[0m in \u001b[0;36m<module>\u001b[0;34m()\u001b[0m\n\u001b[0;32m----> 1\u001b[0;31m \u001b[0;34m(\u001b[0m\u001b[0mX_train\u001b[0m\u001b[0;34m,\u001b[0m \u001b[0my_train\u001b[0m\u001b[0;34m)\u001b[0m\u001b[0;34m,\u001b[0m \u001b[0;34m(\u001b[0m\u001b[0mX_val\u001b[0m\u001b[0;34m,\u001b[0m \u001b[0my_val\u001b[0m\u001b[0;34m)\u001b[0m\u001b[0;34m,\u001b[0m \u001b[0;34m(\u001b[0m\u001b[0mX_test\u001b[0m\u001b[0;34m,\u001b[0m \u001b[0my_test\u001b[0m\u001b[0;34m)\u001b[0m \u001b[0;34m=\u001b[0m \u001b[0mpickle\u001b[0m\u001b[0;34m.\u001b[0m\u001b[0mload\u001b[0m\u001b[0;34m(\u001b[0m\u001b[0mopen\u001b[0m\u001b[0;34m(\u001b[0m\u001b[0mdata_path\u001b[0m\u001b[0;34m)\u001b[0m\u001b[0;34m)\u001b[0m\u001b[0;34m\u001b[0m\u001b[0m\n\u001b[0m",
      "\u001b[0;31mFileNotFoundError\u001b[0m: [Errno 2] No such file or directory: 'data/mnist/mnist.pkl'"
     ]
    }
   ],
   "source": [
    "(X_train, y_train), (X_val, y_val), (X_test, y_test) = pickle.load(open(data_path))"
   ]
  },
  {
   "cell_type": "markdown",
   "metadata": {},
   "source": [
    "Die Daten sind bereits ausreichend normalisiert."
   ]
  },
  {
   "cell_type": "code",
   "execution_count": 109,
   "metadata": {
    "ExecuteTime": {
     "end_time": "2018-01-21T15:11:50.912134Z",
     "start_time": "2018-01-21T15:11:50.455162Z"
    }
   },
   "outputs": [],
   "source": [
    "train = pd.read_table('zip.train', delim_whitespace=True,header=None)\n",
    "test = pd.read_table('zip.test', delim_whitespace=True,header=None)\n",
    "\n",
    "#split labels y from data X\n",
    "y_train = train[0].as_matrix().astype(int)\n",
    "y_tt = train[0].as_matrix()\n",
    "X_train = train.drop(0, axis=1).as_matrix()\n",
    "m = X_train.mean()\n",
    "X_train = X_train - m\n",
    "\n",
    "y_test = test[0].as_matrix().astype(int)\n",
    "X_test = test.drop(0, axis=1).as_matrix() - m\n",
    "\n",
    "y_val= y_test\n",
    "X_val = X_test"
   ]
  },
  {
   "cell_type": "code",
   "execution_count": 110,
   "metadata": {
    "ExecuteTime": {
     "end_time": "2018-01-21T15:11:51.740166Z",
     "start_time": "2018-01-21T15:11:51.736116Z"
    }
   },
   "outputs": [
    {
     "data": {
      "text/plain": [
       "0.026256896424091725"
      ]
     },
     "execution_count": 110,
     "metadata": {},
     "output_type": "execute_result"
    }
   ],
   "source": [
    "X_test.mean()"
   ]
  },
  {
   "cell_type": "markdown",
   "metadata": {},
   "source": [
    "## Allgemeine Klasse für Klassifizierer"
   ]
  },
  {
   "cell_type": "code",
   "execution_count": 6,
   "metadata": {
    "ExecuteTime": {
     "end_time": "2018-01-20T22:14:48.226698Z",
     "start_time": "2018-01-20T22:14:48.213414Z"
    },
    "collapsed": true
   },
   "outputs": [],
   "source": [
    "class Classifier:\n",
    "    def score(self, X, y):\n",
    "        predictions = self.predict(X)\n",
    "        return np.mean(predictions == y)\n",
    "    \n",
    "    def confusion_matrix(self, X, y):\n",
    "        size = len(set(y))\n",
    "        predicted = self.predict(X)\n",
    "        \n",
    "        results = np.zeros((size, size), dtype=np.int32)\n",
    "\n",
    "        for pi, yi in zip(predicted, y):\n",
    "            results[int(pi)][int(yi)] += 1\n",
    "\n",
    "        return results"
   ]
  },
  {
   "cell_type": "markdown",
   "metadata": {},
   "source": [
    "## Hilfsfunktionen\n",
    "\n",
    "Als Aktivierungsfunktion benutzen wir zunächst die logistische Funktion. Später im Semester werden wir noch ReLUs (rectified linear units) sehen."
   ]
  },
  {
   "cell_type": "code",
   "execution_count": 120,
   "metadata": {
    "ExecuteTime": {
     "end_time": "2018-01-21T18:30:13.223156Z",
     "start_time": "2018-01-21T18:30:13.218539Z"
    },
    "collapsed": true
   },
   "outputs": [],
   "source": [
    "class activation_funct(object):\n",
    "    def __call__(self,x):\n",
    "        pass\n",
    "    def deriv(self,last_output):\n",
    "        pass\n",
    "    "
   ]
  },
  {
   "cell_type": "code",
   "execution_count": 7,
   "metadata": {
    "ExecuteTime": {
     "end_time": "2018-01-20T22:14:52.447326Z",
     "start_time": "2018-01-20T22:14:52.443998Z"
    },
    "collapsed": true
   },
   "outputs": [],
   "source": [
    "def sigmoid(x):\n",
    "    return 1 / (1 + np.exp(-x))\n",
    "\n",
    "def sigmoid_deriv(x):\n",
    "    return"
   ]
  },
  {
   "cell_type": "code",
   "execution_count": 141,
   "metadata": {
    "ExecuteTime": {
     "end_time": "2018-01-21T18:40:38.801685Z",
     "start_time": "2018-01-21T18:40:38.788189Z"
    }
   },
   "outputs": [],
   "source": [
    "def reLu(x):\n",
    "    x[x<0] = 0\n",
    "    return x\n",
    "\n",
    "class ReLu(activation_funct):\n",
    "    def __call__(self,x):\n",
    "        x[x<0] = 0\n",
    "        return x\n",
    "    def deriv(self,last_output):\n",
    "        return (last_output >= 0).astype(float)\n",
    "    \n",
    "class Sigmoid(activation_funct):\n",
    "    def __call__(self,x):\n",
    "        return 1 / (1 + np.exp(-x))\n",
    "    \n",
    "    def deriv(self,last_output):\n",
    "        return last_output * (1 - last_output)"
   ]
  },
  {
   "cell_type": "code",
   "execution_count": 147,
   "metadata": {
    "ExecuteTime": {
     "end_time": "2018-01-21T18:41:15.834230Z",
     "start_time": "2018-01-21T18:41:15.831341Z"
    }
   },
   "outputs": [],
   "source": [
    "x = Sigmoid()"
   ]
  },
  {
   "cell_type": "code",
   "execution_count": 149,
   "metadata": {
    "ExecuteTime": {
     "end_time": "2018-01-21T18:41:21.243957Z",
     "start_time": "2018-01-21T18:41:21.240080Z"
    }
   },
   "outputs": [
    {
     "data": {
      "text/plain": [
       "0.7310585786300049"
      ]
     },
     "execution_count": 149,
     "metadata": {},
     "output_type": "execute_result"
    }
   ],
   "source": [
    "x(1)"
   ]
  },
  {
   "cell_type": "markdown",
   "metadata": {},
   "source": [
    "Um die Bias-Einheiten einfacher zu handhaben, werden zwei Hilfsfunktionen benötigt."
   ]
  },
  {
   "cell_type": "code",
   "execution_count": 10,
   "metadata": {
    "ExecuteTime": {
     "end_time": "2018-01-20T22:15:28.208052Z",
     "start_time": "2018-01-20T22:15:28.203367Z"
    },
    "collapsed": true
   },
   "outputs": [],
   "source": [
    "def add_ones(X):\n",
    "    if len(X.shape) == 1:\n",
    "        return np.c_[[1], [X]][0]\n",
    "    else:\n",
    "        return np.c_[np.ones(len(X)), X]"
   ]
  },
  {
   "cell_type": "code",
   "execution_count": 11,
   "metadata": {
    "ExecuteTime": {
     "end_time": "2018-01-20T22:15:28.742378Z",
     "start_time": "2018-01-20T22:15:28.739450Z"
    },
    "collapsed": true
   },
   "outputs": [],
   "source": [
    "def without_ones(X):\n",
    "    return X[1:, :]"
   ]
  },
  {
   "cell_type": "markdown",
   "metadata": {},
   "source": [
    "Da das Modell zwischen 10 Klassen unterscheiden soll, die keine natürliche Ordnung haben, müssen wir die Ausgabe als Vektor darstellen.\n",
    "In der Statistik nennt man solche Variablen (labels) kategorisch."
   ]
  },
  {
   "cell_type": "code",
   "execution_count": 12,
   "metadata": {
    "ExecuteTime": {
     "end_time": "2018-01-20T22:15:29.593826Z",
     "start_time": "2018-01-20T22:15:29.587049Z"
    },
    "collapsed": true
   },
   "outputs": [],
   "source": [
    "def encode_onehot(y):\n",
    "    output_dimension = len(set(y))\n",
    "    t = np.zeros((len(y), output_dimension))\n",
    "\n",
    "    for i, yi in enumerate(y):\n",
    "        t[i][yi] = 1.\n",
    "\n",
    "    return t"
   ]
  },
  {
   "cell_type": "markdown",
   "metadata": {},
   "source": [
    "Alternativ geht es mit numpy kürzer aber weniger verständlich:"
   ]
  },
  {
   "cell_type": "code",
   "execution_count": 23,
   "metadata": {
    "ExecuteTime": {
     "end_time": "2018-01-20T22:19:12.823720Z",
     "start_time": "2018-01-20T22:19:12.819974Z"
    },
    "collapsed": true
   },
   "outputs": [],
   "source": [
    "def encode_onehot(y):\n",
    "    output_dimension = len(set(y))\n",
    "    return np.eye(output_dimension)[y]"
   ]
  },
  {
   "cell_type": "markdown",
   "metadata": {},
   "source": [
    "## Gradient Descent\n",
    "\n",
    "Es gibt viele verschiedene Optimierungsalgorithmen, die die Aktualisierungsregel anpassen. Um diese einfach austauschen zu können, abstrahieren dies die meisten ML-Bibliotheken etwas. Eine eigene Klasse sieht vielleicht zunächst übertrieben aus, es macht aber viel Sinn, wenn man etwas kompliziertere Aktualisierungsregeln betrachtet (z.B. RProp)."
   ]
  },
  {
   "cell_type": "code",
   "execution_count": 13,
   "metadata": {
    "ExecuteTime": {
     "end_time": "2018-01-20T22:15:53.117347Z",
     "start_time": "2018-01-20T22:15:53.112424Z"
    },
    "collapsed": true
   },
   "outputs": [],
   "source": [
    "class GradientDescent:\n",
    "    def __init__(self, learning_rate):\n",
    "        self.learning_rate = learning_rate\n",
    "        \n",
    "    def __call__(self, weights, gradients, _):\n",
    "        return weights - self.learning_rate * gradients"
   ]
  },
  {
   "cell_type": "markdown",
   "metadata": {},
   "source": [
    "Wie beim Aufgabenblatt zur logistischen Regression gesehen, kann es Sinn machen die Lernrate dynamisch sinken zu lassen."
   ]
  },
  {
   "cell_type": "code",
   "execution_count": 14,
   "metadata": {
    "ExecuteTime": {
     "end_time": "2018-01-20T22:15:54.212111Z",
     "start_time": "2018-01-20T22:15:54.199671Z"
    },
    "collapsed": true
   },
   "outputs": [],
   "source": [
    "class DecayedGradientDescent:\n",
    "    def __init__(self, learning_rate, decay):\n",
    "        self.learning_rate = learning_rate\n",
    "        self.decay = decay\n",
    "        self.last_epoch = -1\n",
    "        \n",
    "    def __call__(self, weights, gradients, epoch):\n",
    "        result = weights - self.learning_rate * gradients\n",
    "        \n",
    "        if epoch != self.last_epoch:\n",
    "            self.learning_rate = self.learning_rate * 1 / (1 + self.decay * epoch)\n",
    "            self.last_epoch = epoch\n",
    "            \n",
    "        return result"
   ]
  },
  {
   "cell_type": "markdown",
   "metadata": {},
   "source": [
    "## Neuronale Netze"
   ]
  },
  {
   "cell_type": "code",
   "execution_count": 15,
   "metadata": {
    "ExecuteTime": {
     "end_time": "2018-01-20T22:15:57.290798Z",
     "start_time": "2018-01-20T22:15:57.287283Z"
    },
    "collapsed": true
   },
   "outputs": [],
   "source": [
    "from operator import itemgetter\n",
    "from random import sample\n",
    "from time import time"
   ]
  },
  {
   "cell_type": "markdown",
   "metadata": {},
   "source": [
    "Die folgende Klasse implementiert neuronale Netze mit mini-batch gradient descent. In jeder Iteration werden dabei `batch_size` viele zufällige Datenpunkte ausgesucht und durch das Netz geschickt. Bei `batch_size=1` entspricht das stochastic gradient descent (SGD), bei `batch_size=len(X)` wäre es einfach normaler batch gradient descent.\n",
    "\n",
    "Nach jeder Epoche wird die Klassifikationsgenauigkeit ausgegeben. Man unterscheidet oft zwischen Epochen und Iterationen:\n",
    "- Epochen geben an wie oft man durch den gesamten Trainingsdatensatz gegangen ist\n",
    "- Iterationen sind abhängig vom konkreten Algorithmus (SGD, mini-batch -, batch gradient descent) und bezeichnen einfach die Durchläufe der jeweiligen Schleife"
   ]
  },
  {
   "cell_type": "code",
   "execution_count": 173,
   "metadata": {
    "ExecuteTime": {
     "end_time": "2018-01-21T18:59:56.169304Z",
     "start_time": "2018-01-21T18:59:55.824427Z"
    }
   },
   "outputs": [],
   "source": [
    "class NeuralNetwork(Classifier):\n",
    "    def __init__(self, hidden):\n",
    "        self.hidden = hidden\n",
    "\n",
    "    def fit(self, X, y, activation, optimizer, epochs=10, test=None, batch_size=128):\n",
    "        _, input_dimension = X.shape\n",
    "        output_dimension = len(np.unique(y))\n",
    "        self.output_dimension = output_dimension\n",
    "        self.activation = activation\n",
    "        t = encode_onehot(y)\n",
    "        self._init_weights(input_dimension, output_dimension)\n",
    "                \n",
    "        batch_size = min(len(X), batch_size)\n",
    "        data = list(zip(X, t))\n",
    "        \n",
    "        train_history = []\n",
    "        test_history = []\n",
    "        \n",
    "        best_test = best_iteration = 0\n",
    "        \n",
    "        for i in range(epochs):\n",
    "            t = time()\n",
    "            \n",
    "            for _ in range(int(len(X) / batch_size)):\n",
    "                for Xi, ti in sample(data, batch_size):\n",
    "                    Os = self._feed_forward(Xi)\n",
    "                    gradients = self._back_propagate(Os, ti)\n",
    "                    self.W = optimizer(self.W, gradients, i)\n",
    "\n",
    "            score = self.score(X, y)\n",
    "            train_history.append(score)\n",
    "            output = \"Epoch %d/%d: %ds – training %.5f\" % (i + 1, epochs, time() - t, score)\n",
    "            \n",
    "            if test is not None:\n",
    "                score = self.score(*test)\n",
    "                test_history.append(score)\n",
    "                output += \" – validation %.5f\" % score\n",
    "                \n",
    "                if score > best_test:\n",
    "                    best_test = score\n",
    "                    best_iteration = i\n",
    "                \n",
    "            print(output)\n",
    "        \n",
    "        if test is not None:\n",
    "            print(\"=> Best validation accuracy was %.5f at iteration %d\" % (best_test, best_iteration + 1))\n",
    "                    \n",
    "        return train_history, test_history\n",
    "    \n",
    "    def _init_weights(self, input_dimension, output_dimension):\n",
    "        self.W = []\n",
    "        previous_dimension = input_dimension\n",
    "        \n",
    "        for layer in self.hidden + [output_dimension]:\n",
    "            self.W.append(self._init_layer(previous_dimension, layer))\n",
    "            previous_dimension = layer\n",
    "        \n",
    "    def _init_layer(self, input_dim, output_dim):\n",
    "        if type(self.activation) == type(ReLu()):\n",
    "            return np.random.normal(0,2/(input_dim),(input_dim + 1, output_dim))\n",
    "        return np.random.normal(0,2/(input_dim+output_dim),(input_dim + 1, output_dim)) #np.random.normal(0,2/(input_dim+output_dim),(input_dim + 1, output_dim)) #np.random.random((input_dim + 1, output_dim)) - 0.5\n",
    "    \n",
    "    def _feed_forward(self, X):\n",
    "        activation = self.activation\n",
    "        \n",
    "        Os = [X]\n",
    "        O_last = X\n",
    "        \n",
    "        for Wi in self.W:\n",
    "            O_hat = add_ones(O_last)\n",
    "            O_last = activation(O_hat.dot(Wi))#sigmoid(O_hat.dot(Wi))\n",
    "            Os.append(O_last)\n",
    "            \n",
    "        return Os\n",
    "    \n",
    "    def _back_propagate(self, Os, ti):\n",
    "        activation = self.activation\n",
    "        gradients = []\n",
    "\n",
    "        # Output layer\n",
    "        O_last = Os[-1]\n",
    "        O_last_prev = Os[-2]\n",
    "        \n",
    "        e = O_last - ti\n",
    "        D = np.diag(activation.deriv(O_last))#O_last * (1 - O_last))\n",
    "        delta = D.dot(e)\n",
    "        \n",
    "        gradients.append(np.outer(delta, add_ones(O_last_prev)).T)\n",
    "\n",
    "        # Hidden layers\n",
    "        for i in reversed(range(1, len(self.hidden) + 1)):\n",
    "            O = Os[i]\n",
    "            #print(O)\n",
    "            D = np.diag(activation.deriv(O))# O * (1 - O))\n",
    "\n",
    "            delta = D.dot(without_ones(self.W[i])).dot(delta)\n",
    "            gradients.append(np.outer(delta, add_ones(Os[i - 1])).T)\n",
    "            \n",
    "        return np.array(gradients)[::-1]\n",
    "    \n",
    "    def predict(self, X):\n",
    "        O_last = self._feed_forward(X)[-1]\n",
    "        return O_last.argmax(axis=1)"
   ]
  },
  {
   "cell_type": "markdown",
   "metadata": {},
   "source": [
    "## Visualisierung"
   ]
  },
  {
   "cell_type": "code",
   "execution_count": 136,
   "metadata": {
    "ExecuteTime": {
     "end_time": "2018-01-21T18:36:34.607240Z",
     "start_time": "2018-01-21T18:36:34.587045Z"
    },
    "collapsed": true
   },
   "outputs": [],
   "source": [
    "def plot(history, start=1):\n",
    "    acc = history[0][start:]\n",
    "    val_acc = history[1][start:]\n",
    "    \n",
    "    x = range(len(acc))\n",
    "    \n",
    "    fig = plt.figure(figsize=(25, 20))\n",
    "    plt.subplot(2, 1, 1)\n",
    "    \n",
    "    plt.plot(x, acc, label='Training Accuracy')\n",
    "    plt.plot(x, val_acc, label='Validation Accuracy')\n",
    "    plt.axvline(x=np.argmax(val_acc) + start, color=\"grey\", alpha=.6, label=\"Best Validation\", linestyle=\"--\")\n",
    "    \n",
    "    plt.legend(loc='lower right')\n",
    "    plt.xlabel(\"epochs\")\n",
    "    plt.ylabel(\"accuracy\")\n",
    "    \n",
    "    plt.xlim(1)\n",
    "    plt.show()"
   ]
  },
  {
   "cell_type": "markdown",
   "metadata": {},
   "source": [
    "## Aufgabe 1: MNIST"
   ]
  },
  {
   "cell_type": "markdown",
   "metadata": {},
   "source": [
    "### 80 Neuronen, 0.2 Lernrate"
   ]
  },
  {
   "cell_type": "code",
   "execution_count": 176,
   "metadata": {
    "ExecuteTime": {
     "end_time": "2018-01-21T19:02:08.102525Z",
     "start_time": "2018-01-21T19:01:02.429158Z"
    },
    "scrolled": true
   },
   "outputs": [
    {
     "name": "stdout",
     "output_type": "stream",
     "text": [
      "Epoch 1/20: 3s – training 0.92662 – validation 0.88042\n",
      "Epoch 2/20: 3s – training 0.93924 – validation 0.88789\n",
      "Epoch 3/20: 3s – training 0.94308 – validation 0.89537\n",
      "Epoch 4/20: 3s – training 0.94857 – validation 0.89487\n",
      "Epoch 5/20: 3s – training 0.95296 – validation 0.90284\n",
      "Epoch 6/20: 3s – training 0.95529 – validation 0.90234\n",
      "Epoch 7/20: 3s – training 0.95296 – validation 0.90732\n",
      "Epoch 8/20: 3s – training 0.95296 – validation 0.90135\n",
      "Epoch 9/20: 3s – training 0.95131 – validation 0.89287\n",
      "Epoch 10/20: 3s – training 0.94143 – validation 0.89387\n",
      "Epoch 11/20: 3s – training 0.93677 – validation 0.88939\n",
      "Epoch 12/20: 3s – training 0.92456 – validation 0.87593\n",
      "Epoch 13/20: 3s – training 0.89878 – validation 0.85252\n"
     ]
    },
    {
     "name": "stderr",
     "output_type": "stream",
     "text": [
      "/Library/Frameworks/Python.framework/Versions/3.5/lib/python3.5/site-packages/numpy/core/numeric.py:1154: RuntimeWarning: overflow encountered in multiply\n",
      "  return multiply(a.ravel()[:, newaxis], b.ravel()[newaxis,:], out)\n",
      "/Library/Frameworks/Python.framework/Versions/3.5/lib/python3.5/site-packages/numpy/core/numeric.py:1154: RuntimeWarning: invalid value encountered in multiply\n",
      "  return multiply(a.ravel()[:, newaxis], b.ravel()[newaxis,:], out)\n",
      "/Library/Frameworks/Python.framework/Versions/3.5/lib/python3.5/site-packages/ipykernel_launcher.py:7: RuntimeWarning: invalid value encountered in less\n",
      "  import sys\n",
      "/Library/Frameworks/Python.framework/Versions/3.5/lib/python3.5/site-packages/ipykernel_launcher.py:10: RuntimeWarning: invalid value encountered in greater_equal\n",
      "  # Remove the CWD from sys.path while we load stuff.\n"
     ]
    },
    {
     "name": "stdout",
     "output_type": "stream",
     "text": [
      "Epoch 14/20: 3s – training 0.16376 – validation 0.17887\n",
      "Epoch 15/20: 3s – training 0.16376 – validation 0.17887\n",
      "Epoch 16/20: 3s – training 0.16376 – validation 0.17887\n",
      "Epoch 17/20: 3s – training 0.16376 – validation 0.17887\n",
      "Epoch 18/20: 3s – training 0.16376 – validation 0.17887\n",
      "Epoch 19/20: 3s – training 0.16376 – validation 0.17887\n",
      "Epoch 20/20: 3s – training 0.16376 – validation 0.17887\n",
      "=> Best validation accuracy was 0.90732 at iteration 7\n"
     ]
    },
    {
     "data": {
      "text/plain": [
       "0.17887394120577976"
      ]
     },
     "execution_count": 176,
     "metadata": {},
     "output_type": "execute_result"
    }
   ],
   "source": [
    "clf = NeuralNetwork(hidden=[40,20])\n",
    "history = clf.fit(X_train, y_train, activation=ReLu(), optimizer=GradientDescent(learning_rate=.005), epochs=20, test=(X_val, y_val))\n",
    "clf.score(X_test, y_test)"
   ]
  },
  {
   "cell_type": "code",
   "execution_count": 169,
   "metadata": {
    "ExecuteTime": {
     "end_time": "2018-01-21T18:58:52.318210Z",
     "start_time": "2018-01-21T18:58:52.314319Z"
    }
   },
   "outputs": [
    {
     "data": {
      "text/plain": [
       "__main__.ReLu"
      ]
     },
     "execution_count": 169,
     "metadata": {},
     "output_type": "execute_result"
    }
   ],
   "source": [
    "x = ReLu()\n",
    "\n",
    "type(x)"
   ]
  },
  {
   "cell_type": "code",
   "execution_count": 156,
   "metadata": {
    "ExecuteTime": {
     "end_time": "2018-01-21T18:51:08.721147Z",
     "start_time": "2018-01-21T18:49:53.623236Z"
    }
   },
   "outputs": [
    {
     "name": "stdout",
     "output_type": "stream",
     "text": [
      "Epoch 1/20: 3s – training 0.68523 – validation 0.64773\n",
      "Epoch 2/20: 3s – training 0.93458 – validation 0.88739\n",
      "Epoch 3/20: 3s – training 0.95570 – validation 0.91081\n",
      "Epoch 4/20: 3s – training 0.96228 – validation 0.90782\n",
      "Epoch 5/20: 3s – training 0.97175 – validation 0.91679\n",
      "Epoch 6/20: 3s – training 0.97710 – validation 0.92476\n",
      "Epoch 7/20: 3s – training 0.98176 – validation 0.92476\n",
      "Epoch 8/20: 3s – training 0.98450 – validation 0.92725\n",
      "Epoch 9/20: 3s – training 0.98670 – validation 0.92576\n",
      "Epoch 10/20: 3s – training 0.99012 – validation 0.92925\n",
      "Epoch 11/20: 3s – training 0.99095 – validation 0.93124\n",
      "Epoch 12/20: 3s – training 0.99218 – validation 0.93024\n",
      "Epoch 13/20: 3s – training 0.99273 – validation 0.92825\n",
      "Epoch 14/20: 3s – training 0.99314 – validation 0.93174\n",
      "Epoch 15/20: 3s – training 0.99355 – validation 0.93074\n",
      "Epoch 16/20: 3s – training 0.99424 – validation 0.93224\n",
      "Epoch 17/20: 3s – training 0.99438 – validation 0.93124\n",
      "Epoch 18/20: 3s – training 0.99465 – validation 0.93224\n",
      "Epoch 19/20: 3s – training 0.99479 – validation 0.93423\n",
      "Epoch 20/20: 3s – training 0.99506 – validation 0.93274\n",
      "=> Best validation accuracy was 0.93423 at iteration 19\n"
     ]
    },
    {
     "data": {
      "text/plain": [
       "0.93273542600896864"
      ]
     },
     "execution_count": 156,
     "metadata": {},
     "output_type": "execute_result"
    }
   ],
   "source": [
    "clf = NeuralNetwork(hidden=[70,40])\n",
    "history = clf.fit(X_train, y_train, activation=Sigmoid(), optimizer=GradientDescent(learning_rate=.3), epochs=20, test=(X_val, y_val))\n",
    "clf.score(X_test, y_test)"
   ]
  },
  {
   "cell_type": "markdown",
   "metadata": {},
   "source": [
    "### 80 Neuronen, 0.5 Lernrate"
   ]
  },
  {
   "cell_type": "code",
   "execution_count": 157,
   "metadata": {
    "ExecuteTime": {
     "end_time": "2018-01-21T18:52:28.086579Z",
     "start_time": "2018-01-21T18:51:32.636987Z"
    },
    "scrolled": false
   },
   "outputs": [
    {
     "name": "stdout",
     "output_type": "stream",
     "text": [
      "Epoch 1/20: 2s – training 0.94596 – validation 0.89836\n",
      "Epoch 2/20: 2s – training 0.96393 – validation 0.91281\n",
      "Epoch 3/20: 2s – training 0.97435 – validation 0.92277\n",
      "Epoch 4/20: 2s – training 0.97545 – validation 0.92377\n",
      "Epoch 5/20: 2s – training 0.98176 – validation 0.92875\n",
      "Epoch 6/20: 3s – training 0.98491 – validation 0.92925\n",
      "Epoch 7/20: 2s – training 0.98711 – validation 0.93722\n",
      "Epoch 8/20: 2s – training 0.98930 – validation 0.93323\n",
      "Epoch 9/20: 2s – training 0.98999 – validation 0.93622\n",
      "Epoch 10/20: 2s – training 0.99204 – validation 0.93921\n",
      "Epoch 11/20: 2s – training 0.99273 – validation 0.93921\n",
      "Epoch 12/20: 2s – training 0.99314 – validation 0.93921\n",
      "Epoch 13/20: 2s – training 0.99410 – validation 0.94021\n",
      "Epoch 14/20: 2s – training 0.99410 – validation 0.94121\n",
      "Epoch 15/20: 2s – training 0.99438 – validation 0.94021\n",
      "Epoch 16/20: 2s – training 0.99451 – validation 0.93921\n",
      "Epoch 17/20: 2s – training 0.99424 – validation 0.93672\n",
      "Epoch 18/20: 2s – training 0.99438 – validation 0.94071\n",
      "Epoch 19/20: 2s – training 0.99506 – validation 0.93871\n",
      "Epoch 20/20: 2s – training 0.99465 – validation 0.93822\n",
      "=> Best validation accuracy was 0.94121 at iteration 14\n"
     ]
    },
    {
     "data": {
      "text/plain": [
       "0.93821624314897856"
      ]
     },
     "execution_count": 157,
     "metadata": {},
     "output_type": "execute_result"
    }
   ],
   "source": [
    "clf = NeuralNetwork(hidden=[80])\n",
    "history = clf.fit(X_train, y_train, activation=Sigmoid(), optimizer=GradientDescent(learning_rate=.3), epochs=20, test=(X_val, y_val))\n",
    "clf.score(X_test, y_test)"
   ]
  },
  {
   "cell_type": "markdown",
   "metadata": {},
   "source": [
    "Wenn man lange genug trainiert und genug Neuronen hat, geht die Trainingsgenauigkeit oft sehr nah an 100% heran. Die Testgenauigkeit verbessert sich aber irgendwann nicht mehr, da die Trainingsdaten zu genau gelernt werden. Im schlimmsten Fall wird die Testgenauigkeit dann sogar wieder schlechter.\n",
    "\n",
    "Eine beliebte Strategie dagegen ist *early stopping*: Man betrachtet die Genauigkeit einer weiteren nicht zum Training benutzter Menge (der Validierungsmenge). Sobald sich diese Genauigkeit nicht mehr verbessert, bricht man ab und nimmt das Modell mit der besten Validierungsgenauigkeit."
   ]
  },
  {
   "cell_type": "code",
   "execution_count": 161,
   "metadata": {
    "ExecuteTime": {
     "end_time": "2018-01-21T18:55:08.698322Z",
     "start_time": "2018-01-21T18:55:07.977860Z"
    }
   },
   "outputs": [
    {
     "data": {
      "image/png": "[encoded data removed]",
      "text/plain": [
       "<matplotlib.figure.Figure at 0x114c10d68>"
      ]
     },
     "metadata": {},
     "output_type": "display_data"
    }
   ],
   "source": [
    "plot(history)"
   ]
  },
  {
   "cell_type": "markdown",
   "metadata": {},
   "source": [
    "### 70, 50 Neuronen, 0.4 Lernrate"
   ]
  },
  {
   "cell_type": "code",
   "execution_count": 116,
   "metadata": {
    "ExecuteTime": {
     "end_time": "2018-01-21T15:17:22.856091Z",
     "start_time": "2018-01-21T15:16:06.733557Z"
    },
    "scrolled": false
   },
   "outputs": [
    {
     "name": "stdout",
     "output_type": "stream",
     "text": [
      "Epoch 1/20: 3s – training 0.87697 – validation 0.82860\n",
      "Epoch 2/20: 3s – training 0.93732 – validation 0.89138\n",
      "Epoch 3/20: 3s – training 0.94651 – validation 0.90433\n",
      "Epoch 4/20: 3s – training 0.94939 – validation 0.90782\n",
      "Epoch 5/20: 3s – training 0.95145 – validation 0.90483\n",
      "Epoch 6/20: 3s – training 0.95707 – validation 0.91031\n",
      "Epoch 7/20: 3s – training 0.96201 – validation 0.91829\n",
      "Epoch 8/20: 3s – training 0.96269 – validation 0.91231\n",
      "Epoch 9/20: 3s – training 0.96626 – validation 0.91629\n",
      "Epoch 10/20: 3s – training 0.96695 – validation 0.91679\n",
      "Epoch 11/20: 3s – training 0.97188 – validation 0.91978\n",
      "Epoch 12/20: 3s – training 0.96681 – validation 0.91430\n",
      "Epoch 13/20: 3s – training 0.96777 – validation 0.92028\n",
      "Epoch 14/20: 3s – training 0.96887 – validation 0.92227\n",
      "Epoch 15/20: 3s – training 0.96941 – validation 0.91779\n",
      "Epoch 16/20: 3s – training 0.97010 – validation 0.91679\n",
      "Epoch 17/20: 3s – training 0.96914 – validation 0.91679\n",
      "Epoch 18/20: 3s – training 0.96941 – validation 0.91330\n",
      "Epoch 19/20: 3s – training 0.96914 – validation 0.91679\n",
      "Epoch 20/20: 3s – training 0.96928 – validation 0.91829\n",
      "=> Best validation accuracy was 0.92227 at iteration 14\n"
     ]
    },
    {
     "data": {
      "text/plain": [
       "0.91828599900348784"
      ]
     },
     "execution_count": 116,
     "metadata": {},
     "output_type": "execute_result"
    }
   ],
   "source": [
    "clf = NeuralNetwork(hidden=[70, 50])\n",
    "history = clf.fit(X_train, y_train, optimizer=GradientDescent(learning_rate=.004), epochs=20, test=(X_val, y_val))\n",
    "clf.score(X_test, y_test)"
   ]
  },
  {
   "cell_type": "markdown",
   "metadata": {},
   "source": [
    "### 70, 50 Neuronen, 0.2 Lernrate"
   ]
  },
  {
   "cell_type": "code",
   "execution_count": 67,
   "metadata": {
    "ExecuteTime": {
     "end_time": "2018-01-20T22:40:59.838320Z",
     "start_time": "2018-01-20T22:40:59.816996Z"
    },
    "scrolled": false
   },
   "outputs": [
    {
     "ename": "ValueError",
     "evalue": "shapes (50,) and (10,) not aligned: 50 (dim 0) != 10 (dim 0)",
     "output_type": "error",
     "traceback": [
      "\u001b[0;31m---------------------------------------------------------------------------\u001b[0m",
      "\u001b[0;31mValueError\u001b[0m                                Traceback (most recent call last)",
      "\u001b[0;32m<ipython-input-67-8e48a3b438a9>\u001b[0m in \u001b[0;36m<module>\u001b[0;34m()\u001b[0m\n\u001b[1;32m      1\u001b[0m \u001b[0mclf\u001b[0m \u001b[0;34m=\u001b[0m \u001b[0mNeuralNetwork\u001b[0m\u001b[0;34m(\u001b[0m\u001b[0mhidden\u001b[0m\u001b[0;34m=\u001b[0m\u001b[0;34m[\u001b[0m\u001b[0;36m70\u001b[0m\u001b[0;34m,\u001b[0m \u001b[0;36m50\u001b[0m\u001b[0;34m]\u001b[0m\u001b[0;34m)\u001b[0m\u001b[0;34m\u001b[0m\u001b[0m\n\u001b[0;32m----> 2\u001b[0;31m \u001b[0mhistory\u001b[0m \u001b[0;34m=\u001b[0m \u001b[0mclf\u001b[0m\u001b[0;34m.\u001b[0m\u001b[0mfit\u001b[0m\u001b[0;34m(\u001b[0m\u001b[0mX_train\u001b[0m\u001b[0;34m,\u001b[0m \u001b[0my_train\u001b[0m\u001b[0;34m,\u001b[0m \u001b[0moptimizer\u001b[0m\u001b[0;34m=\u001b[0m\u001b[0mGradientDescent\u001b[0m\u001b[0;34m(\u001b[0m\u001b[0mlearning_rate\u001b[0m\u001b[0;34m=\u001b[0m\u001b[0;36m.2\u001b[0m\u001b[0;34m)\u001b[0m\u001b[0;34m,\u001b[0m \u001b[0mepochs\u001b[0m\u001b[0;34m=\u001b[0m\u001b[0;36m20\u001b[0m\u001b[0;34m,\u001b[0m \u001b[0mtest\u001b[0m\u001b[0;34m=\u001b[0m\u001b[0;34m(\u001b[0m\u001b[0mX_val\u001b[0m\u001b[0;34m,\u001b[0m \u001b[0my_val\u001b[0m\u001b[0;34m)\u001b[0m\u001b[0;34m)\u001b[0m\u001b[0;34m\u001b[0m\u001b[0m\n\u001b[0m\u001b[1;32m      3\u001b[0m \u001b[0mclf\u001b[0m\u001b[0;34m.\u001b[0m\u001b[0mscore\u001b[0m\u001b[0;34m(\u001b[0m\u001b[0mX_test\u001b[0m\u001b[0;34m,\u001b[0m \u001b[0my_test\u001b[0m\u001b[0;34m)\u001b[0m\u001b[0;34m\u001b[0m\u001b[0m\n",
      "\u001b[0;32m<ipython-input-62-6548866281ad>\u001b[0m in \u001b[0;36mfit\u001b[0;34m(self, X, y, optimizer, epochs, test, batch_size)\u001b[0m\n\u001b[1;32m     25\u001b[0m                 \u001b[0;32mfor\u001b[0m \u001b[0mXi\u001b[0m\u001b[0;34m,\u001b[0m \u001b[0mti\u001b[0m \u001b[0;32min\u001b[0m \u001b[0msample\u001b[0m\u001b[0;34m(\u001b[0m\u001b[0mdata\u001b[0m\u001b[0;34m,\u001b[0m \u001b[0mbatch_size\u001b[0m\u001b[0;34m)\u001b[0m\u001b[0;34m:\u001b[0m\u001b[0;34m\u001b[0m\u001b[0m\n\u001b[1;32m     26\u001b[0m                     \u001b[0mOs\u001b[0m \u001b[0;34m=\u001b[0m \u001b[0mself\u001b[0m\u001b[0;34m.\u001b[0m\u001b[0m_feed_forward\u001b[0m\u001b[0;34m(\u001b[0m\u001b[0mXi\u001b[0m\u001b[0;34m)\u001b[0m\u001b[0;34m\u001b[0m\u001b[0m\n\u001b[0;32m---> 27\u001b[0;31m                     \u001b[0mgradients\u001b[0m \u001b[0;34m=\u001b[0m \u001b[0mself\u001b[0m\u001b[0;34m.\u001b[0m\u001b[0m_back_propagate\u001b[0m\u001b[0;34m(\u001b[0m\u001b[0mOs\u001b[0m\u001b[0;34m,\u001b[0m \u001b[0mti\u001b[0m\u001b[0;34m)\u001b[0m\u001b[0;34m\u001b[0m\u001b[0m\n\u001b[0m\u001b[1;32m     28\u001b[0m                     \u001b[0mself\u001b[0m\u001b[0;34m.\u001b[0m\u001b[0mW\u001b[0m \u001b[0;34m=\u001b[0m \u001b[0moptimizer\u001b[0m\u001b[0;34m(\u001b[0m\u001b[0mself\u001b[0m\u001b[0;34m.\u001b[0m\u001b[0mW\u001b[0m\u001b[0;34m,\u001b[0m \u001b[0mgradients\u001b[0m\u001b[0;34m,\u001b[0m \u001b[0mi\u001b[0m\u001b[0;34m)\u001b[0m\u001b[0;34m\u001b[0m\u001b[0m\n\u001b[1;32m     29\u001b[0m \u001b[0;34m\u001b[0m\u001b[0m\n",
      "\u001b[0;32m<ipython-input-62-6548866281ad>\u001b[0m in \u001b[0;36m_back_propagate\u001b[0;34m(self, Os, ti)\u001b[0m\n\u001b[1;32m     88\u001b[0m             \u001b[0mD\u001b[0m \u001b[0;34m=\u001b[0m \u001b[0;34m(\u001b[0m\u001b[0mO\u001b[0m \u001b[0;34m>=\u001b[0m \u001b[0;36m0.\u001b[0m\u001b[0;34m)\u001b[0m\u001b[0;34m.\u001b[0m\u001b[0mastype\u001b[0m\u001b[0;34m(\u001b[0m\u001b[0mfloat\u001b[0m\u001b[0;34m)\u001b[0m\u001b[0;31m#np.diag( O * (1 - O))\u001b[0m\u001b[0;34m\u001b[0m\u001b[0m\n\u001b[1;32m     89\u001b[0m \u001b[0;34m\u001b[0m\u001b[0m\n\u001b[0;32m---> 90\u001b[0;31m             \u001b[0mdelta\u001b[0m \u001b[0;34m=\u001b[0m \u001b[0mD\u001b[0m\u001b[0;34m.\u001b[0m\u001b[0mdot\u001b[0m\u001b[0;34m(\u001b[0m\u001b[0mwithout_ones\u001b[0m\u001b[0;34m(\u001b[0m\u001b[0mself\u001b[0m\u001b[0;34m.\u001b[0m\u001b[0mW\u001b[0m\u001b[0;34m[\u001b[0m\u001b[0mi\u001b[0m\u001b[0;34m]\u001b[0m\u001b[0;34m)\u001b[0m\u001b[0;34m)\u001b[0m\u001b[0;34m.\u001b[0m\u001b[0mdot\u001b[0m\u001b[0;34m(\u001b[0m\u001b[0mdelta\u001b[0m\u001b[0;34m)\u001b[0m\u001b[0;34m\u001b[0m\u001b[0m\n\u001b[0m\u001b[1;32m     91\u001b[0m             \u001b[0mgradients\u001b[0m\u001b[0;34m.\u001b[0m\u001b[0mappend\u001b[0m\u001b[0;34m(\u001b[0m\u001b[0mnp\u001b[0m\u001b[0;34m.\u001b[0m\u001b[0mouter\u001b[0m\u001b[0;34m(\u001b[0m\u001b[0mdelta\u001b[0m\u001b[0;34m,\u001b[0m \u001b[0madd_ones\u001b[0m\u001b[0;34m(\u001b[0m\u001b[0mOs\u001b[0m\u001b[0;34m[\u001b[0m\u001b[0mi\u001b[0m \u001b[0;34m-\u001b[0m \u001b[0;36m1\u001b[0m\u001b[0;34m]\u001b[0m\u001b[0;34m)\u001b[0m\u001b[0;34m)\u001b[0m\u001b[0;34m.\u001b[0m\u001b[0mT\u001b[0m\u001b[0;34m)\u001b[0m\u001b[0;34m\u001b[0m\u001b[0m\n\u001b[1;32m     92\u001b[0m \u001b[0;34m\u001b[0m\u001b[0m\n",
      "\u001b[0;31mValueError\u001b[0m: shapes (50,) and (10,) not aligned: 50 (dim 0) != 10 (dim 0)"
     ]
    }
   ],
   "source": [
    "clf = NeuralNetwork(hidden=[70, 50])\n",
    "history = clf.fit(X_train, y_train, optimizer=GradientDescent(learning_rate=.2), epochs=20, test=(X_val, y_val))\n",
    "clf.score(X_test, y_test)"
   ]
  },
  {
   "cell_type": "markdown",
   "metadata": {},
   "source": [
    "## Aufgabe 2: Logische Funktionen"
   ]
  },
  {
   "cell_type": "code",
   "execution_count": 242,
   "metadata": {
    "ExecuteTime": {
     "end_time": "2017-12-17T15:31:32.559143Z",
     "start_time": "2017-12-17T15:31:32.554270Z"
    },
    "collapsed": true
   },
   "outputs": [],
   "source": [
    "X_bin = np.array([[0, 0], [0, 1], [1, 0], [1, 1]])\n",
    "\n",
    "y_and = [a & b for a, b in X_bin]\n",
    "y_or = [a | b for a, b in X_bin]\n",
    "y_xor = [a ^ b for a, b in X_bin]"
   ]
  },
  {
   "cell_type": "markdown",
   "metadata": {},
   "source": [
    "Bei or und and brauchen wir keine hidden layers, da die Datensätze perfekt linear separierbar sind."
   ]
  },
  {
   "cell_type": "code",
   "execution_count": 299,
   "metadata": {
    "ExecuteTime": {
     "end_time": "2017-12-17T21:37:53.113500Z",
     "start_time": "2017-12-17T21:37:53.099432Z"
    }
   },
   "outputs": [
    {
     "name": "stdout",
     "output_type": "stream",
     "text": [
      "Epoch 1/5: 0s – training 0.75000\n",
      "Epoch 2/5: 0s – training 0.75000\n",
      "Epoch 3/5: 0s – training 0.75000\n",
      "Epoch 4/5: 0s – training 0.75000\n",
      "Epoch 5/5: 0s – training 1.00000\n"
     ]
    },
    {
     "data": {
      "text/plain": [
       "1.0"
      ]
     },
     "execution_count": 299,
     "metadata": {},
     "output_type": "execute_result"
    }
   ],
   "source": [
    "clf = NeuralNetwork(hidden=[])\n",
    "clf.fit(X_bin, y_or, epochs=5, optimizer=GradientDescent(learning_rate=5.))\n",
    "clf.score(X_bin, y_or)"
   ]
  },
  {
   "cell_type": "code",
   "execution_count": 305,
   "metadata": {
    "ExecuteTime": {
     "end_time": "2017-12-17T21:38:08.771283Z",
     "start_time": "2017-12-17T21:38:08.756699Z"
    },
    "scrolled": true
   },
   "outputs": [
    {
     "name": "stdout",
     "output_type": "stream",
     "text": [
      "Epoch 1/5: 0s – training 0.75000\n",
      "Epoch 2/5: 0s – training 0.75000\n",
      "Epoch 3/5: 0s – training 0.75000\n",
      "Epoch 4/5: 0s – training 0.75000\n",
      "Epoch 5/5: 0s – training 1.00000\n"
     ]
    },
    {
     "data": {
      "text/plain": [
       "1.0"
      ]
     },
     "execution_count": 305,
     "metadata": {},
     "output_type": "execute_result"
    }
   ],
   "source": [
    "clf = NeuralNetwork(hidden=[])\n",
    "clf.fit(X_bin, y_and, epochs=5, optimizer=GradientDescent(learning_rate=5.))\n",
    "clf.score(X_bin, y_and)"
   ]
  },
  {
   "cell_type": "markdown",
   "metadata": {},
   "source": [
    "Bei xor benötigen wir auch Neuronen in hidden layers. Dafür können wir hier nun auch 100% erreichen."
   ]
  },
  {
   "cell_type": "code",
   "execution_count": 41,
   "metadata": {
    "ExecuteTime": {
     "end_time": "2018-01-20T22:31:54.901254Z",
     "start_time": "2018-01-20T22:31:54.890715Z"
    }
   },
   "outputs": [
    {
     "ename": "NameError",
     "evalue": "name 'X_bin' is not defined",
     "output_type": "error",
     "traceback": [
      "\u001b[0;31m---------------------------------------------------------------------------\u001b[0m",
      "\u001b[0;31mNameError\u001b[0m                                 Traceback (most recent call last)",
      "\u001b[0;32m<ipython-input-41-778639579118>\u001b[0m in \u001b[0;36m<module>\u001b[0;34m()\u001b[0m\n\u001b[1;32m      1\u001b[0m \u001b[0mclf\u001b[0m \u001b[0;34m=\u001b[0m \u001b[0mNeuralNetwork\u001b[0m\u001b[0;34m(\u001b[0m\u001b[0mhidden\u001b[0m\u001b[0;34m=\u001b[0m\u001b[0;34m[\u001b[0m\u001b[0;36m10\u001b[0m\u001b[0;34m]\u001b[0m\u001b[0;34m)\u001b[0m\u001b[0;34m\u001b[0m\u001b[0m\n\u001b[0;32m----> 2\u001b[0;31m \u001b[0mclf\u001b[0m\u001b[0;34m.\u001b[0m\u001b[0mfit\u001b[0m\u001b[0;34m(\u001b[0m\u001b[0mX_bin\u001b[0m\u001b[0;34m,\u001b[0m \u001b[0my_xor\u001b[0m\u001b[0;34m,\u001b[0m \u001b[0mepochs\u001b[0m\u001b[0;34m=\u001b[0m\u001b[0;36m1000\u001b[0m\u001b[0;34m,\u001b[0m \u001b[0moptimizer\u001b[0m\u001b[0;34m=\u001b[0m\u001b[0mGradientDescent\u001b[0m\u001b[0;34m(\u001b[0m\u001b[0mlearning_rate\u001b[0m\u001b[0;34m=\u001b[0m\u001b[0;36m.5\u001b[0m\u001b[0;34m)\u001b[0m\u001b[0;34m)\u001b[0m\u001b[0;34m\u001b[0m\u001b[0m\n\u001b[0m\u001b[1;32m      3\u001b[0m \u001b[0mclf\u001b[0m\u001b[0;34m.\u001b[0m\u001b[0mscore\u001b[0m\u001b[0;34m(\u001b[0m\u001b[0mX_bin\u001b[0m\u001b[0;34m,\u001b[0m \u001b[0my_xor\u001b[0m\u001b[0;34m)\u001b[0m\u001b[0;34m\u001b[0m\u001b[0m\n",
      "\u001b[0;31mNameError\u001b[0m: name 'X_bin' is not defined"
     ]
    }
   ],
   "source": [
    "clf = NeuralNetwork(hidden=[10])\n",
    "clf.fit(X_bin, y_xor, epochs=1000, optimizer=GradientDescent(learning_rate=.5))\n",
    "clf.score(X_bin, y_xor)"
   ]
  },
  {
   "cell_type": "code",
   "execution_count": 45,
   "metadata": {
    "ExecuteTime": {
     "end_time": "2018-01-20T22:32:41.896367Z",
     "start_time": "2018-01-20T22:32:41.892114Z"
    }
   },
   "outputs": [
    {
     "data": {
      "text/plain": [
       "array([[ 1.,  1.,  1.,  1.],\n",
       "       [ 1.,  1.,  1.,  1.],\n",
       "       [ 1.,  1.,  1.,  1.],\n",
       "       [ 1.,  1.,  1.,  1.]])"
      ]
     },
     "execution_count": 45,
     "metadata": {},
     "output_type": "execute_result"
    }
   ],
   "source": [
    "(np.eye(4) >= 0).astype(float)"
   ]
  },
  {
   "cell_type": "code",
   "execution_count": 49,
   "metadata": {
    "ExecuteTime": {
     "end_time": "2018-01-20T22:34:00.885311Z",
     "start_time": "2018-01-20T22:34:00.882430Z"
    },
    "collapsed": true
   },
   "outputs": [],
   "source": [
    "x = np.eye(5)"
   ]
  },
  {
   "cell_type": "code",
   "execution_count": 50,
   "metadata": {
    "ExecuteTime": {
     "end_time": "2018-01-20T22:34:09.939112Z",
     "start_time": "2018-01-20T22:34:09.929608Z"
    }
   },
   "outputs": [
    {
     "ename": "TypeError",
     "evalue": "only integer scalar arrays can be converted to a scalar index",
     "output_type": "error",
     "traceback": [
      "\u001b[0;31m---------------------------------------------------------------------------\u001b[0m",
      "\u001b[0;31mTypeError\u001b[0m                                 Traceback (most recent call last)",
      "\u001b[0;32m<ipython-input-50-f048b92d794b>\u001b[0m in \u001b[0;36m<module>\u001b[0;34m()\u001b[0m\n\u001b[0;32m----> 1\u001b[0;31m \u001b[0mnp\u001b[0m\u001b[0;34m.\u001b[0m\u001b[0mmax\u001b[0m\u001b[0;34m(\u001b[0m\u001b[0;36m0\u001b[0m\u001b[0;34m,\u001b[0m\u001b[0mx\u001b[0m\u001b[0;34m)\u001b[0m\u001b[0;34m\u001b[0m\u001b[0m\n\u001b[0m",
      "\u001b[0;32m/Library/Frameworks/Python.framework/Versions/3.5/lib/python3.5/site-packages/numpy/core/fromnumeric.py\u001b[0m in \u001b[0;36mamax\u001b[0;34m(a, axis, out, keepdims)\u001b[0m\n\u001b[1;32m   2270\u001b[0m \u001b[0;34m\u001b[0m\u001b[0m\n\u001b[1;32m   2271\u001b[0m     return _methods._amax(a, axis=axis,\n\u001b[0;32m-> 2272\u001b[0;31m                           out=out, **kwargs)\n\u001b[0m\u001b[1;32m   2273\u001b[0m \u001b[0;34m\u001b[0m\u001b[0m\n\u001b[1;32m   2274\u001b[0m \u001b[0;34m\u001b[0m\u001b[0m\n",
      "\u001b[0;32m/Library/Frameworks/Python.framework/Versions/3.5/lib/python3.5/site-packages/numpy/core/_methods.py\u001b[0m in \u001b[0;36m_amax\u001b[0;34m(a, axis, out, keepdims)\u001b[0m\n\u001b[1;32m     24\u001b[0m \u001b[0;31m# small reductions\u001b[0m\u001b[0;34m\u001b[0m\u001b[0;34m\u001b[0m\u001b[0m\n\u001b[1;32m     25\u001b[0m \u001b[0;32mdef\u001b[0m \u001b[0m_amax\u001b[0m\u001b[0;34m(\u001b[0m\u001b[0ma\u001b[0m\u001b[0;34m,\u001b[0m \u001b[0maxis\u001b[0m\u001b[0;34m=\u001b[0m\u001b[0;32mNone\u001b[0m\u001b[0;34m,\u001b[0m \u001b[0mout\u001b[0m\u001b[0;34m=\u001b[0m\u001b[0;32mNone\u001b[0m\u001b[0;34m,\u001b[0m \u001b[0mkeepdims\u001b[0m\u001b[0;34m=\u001b[0m\u001b[0;32mFalse\u001b[0m\u001b[0;34m)\u001b[0m\u001b[0;34m:\u001b[0m\u001b[0;34m\u001b[0m\u001b[0m\n\u001b[0;32m---> 26\u001b[0;31m     \u001b[0;32mreturn\u001b[0m \u001b[0mumr_maximum\u001b[0m\u001b[0;34m(\u001b[0m\u001b[0ma\u001b[0m\u001b[0;34m,\u001b[0m \u001b[0maxis\u001b[0m\u001b[0;34m,\u001b[0m \u001b[0;32mNone\u001b[0m\u001b[0;34m,\u001b[0m \u001b[0mout\u001b[0m\u001b[0;34m,\u001b[0m \u001b[0mkeepdims\u001b[0m\u001b[0;34m)\u001b[0m\u001b[0;34m\u001b[0m\u001b[0m\n\u001b[0m\u001b[1;32m     27\u001b[0m \u001b[0;34m\u001b[0m\u001b[0m\n\u001b[1;32m     28\u001b[0m \u001b[0;32mdef\u001b[0m \u001b[0m_amin\u001b[0m\u001b[0;34m(\u001b[0m\u001b[0ma\u001b[0m\u001b[0;34m,\u001b[0m \u001b[0maxis\u001b[0m\u001b[0;34m=\u001b[0m\u001b[0;32mNone\u001b[0m\u001b[0;34m,\u001b[0m \u001b[0mout\u001b[0m\u001b[0;34m=\u001b[0m\u001b[0;32mNone\u001b[0m\u001b[0;34m,\u001b[0m \u001b[0mkeepdims\u001b[0m\u001b[0;34m=\u001b[0m\u001b[0;32mFalse\u001b[0m\u001b[0;34m)\u001b[0m\u001b[0;34m:\u001b[0m\u001b[0;34m\u001b[0m\u001b[0m\n",
      "\u001b[0;31mTypeError\u001b[0m: only integer scalar arrays can be converted to a scalar index"
     ]
    }
   ],
   "source": [
    "np.max(0,x)"
   ]
  },
  {
   "cell_type": "code",
   "execution_count": 66,
   "metadata": {
    "ExecuteTime": {
     "end_time": "2018-01-20T22:40:48.039253Z",
     "start_time": "2018-01-20T22:40:48.034793Z"
    }
   },
   "outputs": [
    {
     "data": {
      "text/plain": [
       "array([[ 11.,  10.,  10.,  10.,  10.],\n",
       "       [ 10.,  11.,  10.,  10.,  10.],\n",
       "       [ 10.,  10.,  11.,  10.,  10.],\n",
       "       [ 10.,  10.,  10.,  11.,  10.],\n",
       "       [ 10.,  10.,  10.,  10.,  11.]])"
      ]
     },
     "execution_count": 66,
     "metadata": {},
     "output_type": "execute_result"
    }
   ],
   "source": [
    "reLu(x+10)"
   ]
  },
  {
   "cell_type": "code",
   "execution_count": null,
   "metadata": {
    "collapsed": true
   },
   "outputs": [],
   "source": []
  }
 ],
 "metadata": {
  "kernelspec": {
   "display_name": "Python 3",
   "language": "python",
   "name": "python3"
  },
  "language_info": {
   "codemirror_mode": {
    "name": "ipython",
    "version": 3
   },
   "file_extension": ".py",
   "mimetype": "text/x-python",
   "name": "python",
   "nbconvert_exporter": "python",
   "pygments_lexer": "ipython3",
   "version": "3.5.0"
  },
  "toc": {
   "nav_menu": {},
   "number_sections": false,
   "sideBar": true,
   "skip_h1_title": false,
   "toc_cell": false,
   "toc_position": {
    "height": "775px",
    "left": "0px",
    "right": "1561px",
    "top": "107px",
    "width": "202px"
   },
   "toc_section_display": "block",
   "toc_window_display": true
  }
 },
 "nbformat": 4,
 "nbformat_minor": 2
}

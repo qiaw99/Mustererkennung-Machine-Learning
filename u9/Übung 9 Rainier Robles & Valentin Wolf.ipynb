{
 "cells": [
  {
   "cell_type": "markdown",
   "metadata": {},
   "source": [
    "# Übung 9 Neuronales Netzwerk - Rainier Robles & Valentin Wolf"
   ]
  },
  {
   "cell_type": "code",
   "execution_count": 1,
   "metadata": {
    "ExecuteTime": {
     "end_time": "2017-12-19T22:30:13.465950Z",
     "start_time": "2017-12-19T22:30:12.768955Z"
    },
    "collapsed": true
   },
   "outputs": [],
   "source": [
    "import pandas as pd\n",
    "import numpy as np\n",
    "from random import randint\n",
    "from math import exp\n",
    "import matplotlib.pyplot as plt\n",
    "import seaborn as sns\n",
    "%matplotlib inline"
   ]
  },
  {
   "cell_type": "code",
   "execution_count": 2,
   "metadata": {
    "ExecuteTime": {
     "end_time": "2017-12-19T22:30:13.472087Z",
     "start_time": "2017-12-19T22:30:13.467603Z"
    },
    "collapsed": true
   },
   "outputs": [],
   "source": [
    "def sigmoid(x):\n",
    "    return (1 / (1+np.exp(-x)))\n",
    "\n",
    "def sigmoid_derivative(x):\n",
    "    return (sigmoid(x) * (1 - sigmoid(x)))"
   ]
  },
  {
   "cell_type": "code",
   "execution_count": null,
   "metadata": {
    "ExecuteTime": {
     "end_time": "2017-12-19T22:54:03.068014Z",
     "start_time": "2017-12-19T22:51:44.685Z"
    }
   },
   "outputs": [],
   "source": [
    "class NeuralNetwork():\n",
    "    \n",
    "    \"\"\"defining for a multi-layer Neural Network\"\"\"\n",
    "    \n",
    "    def __init__(self,train_data,train_labels,units):\n",
    "        \"\"\"\n",
    "        train_data = normalized training data with 1 already appended at the end\n",
    "        train_labels = vectorized labels for training_data, 1 for actual class, 0 otherwise\n",
    "        units = list containing number of units for hidden layer as well as number of classes\n",
    "        \"\"\"\n",
    "        units.insert(0,train_data.shape[1])\n",
    "        self.units = units\n",
    "        self.layers = len(self.units)\n",
    "        self.train_data, self.train_labels = train_data, train_labels\n",
    "        np.random.seed(0)\n",
    "        self.weights = []\n",
    "        for i in range(self.layers-1):\n",
    "            self.weights.append(np.random.randn(self.units[i],self.units[i+1]))\n",
    "        self.success_rates = [] # so we can plot them later\n",
    "            \n",
    "    def feed_forward(self,data):\n",
    "        sigmoid_v = sigmoid#np.vectorize(sigmoid)\n",
    "        sigmoid_d_v = sigmoid_derivative#np.vectorize(sigmoid_derivative)\n",
    "        self.sigmoid_results = [data]\n",
    "        self.sigmoid_d_results = []\n",
    "        for i in range(self.layers-1):\n",
    "            self.sigmoid_results.append([])\n",
    "            self.sigmoid_d_results.append([])\n",
    "        for layer in range(self.layers-1):\n",
    "            for row in range(data.shape[0]):\n",
    "                product = np.dot(self.sigmoid_results[layer][row],self.weights[layer])\n",
    "                self.sigmoid_results[layer+1].append(sigmoid_v(product))\n",
    "                self.sigmoid_d_results[layer].append(sigmoid_d_v(product))\n",
    "                \n",
    "    def error_derivative(self):\n",
    "        self.errors = np.array(self.sigmoid_results[-1]) - self.train_labels\n",
    "        \n",
    "    def backprop(self):\n",
    "        self.deltas = []\n",
    "        for layer in range(self.layers-1):\n",
    "            self.deltas.append([])        \n",
    "        for row in range(self.train_data.shape[0]):\n",
    "            D = np.diag(self.sigmoid_d_results[-1][row])\n",
    "            err = self.errors[row].reshape(self.errors.shape[1],1)\n",
    "            delta = np.dot(D,err)\n",
    "            self.deltas[0].append(delta)\n",
    "            for x in range(self.layers-2):\n",
    "                D_i = -(x+2)\n",
    "                w_i = -(x+1)\n",
    "                D = np.diag(self.sigmoid_d_results[D_i][row])\n",
    "                w = self.weights[w_i]\n",
    "                delta_i = self.deltas[x][row]\n",
    "                delta = np.dot(np.dot(D,w),delta_i)\n",
    "                self.deltas[x+1].append(delta)\n",
    "            \n",
    "    def correct(self,gamma):\n",
    "        for row in range(self.train_data.shape[0]):\n",
    "            for x in range(self.layers-1):\n",
    "                d = self.deltas[x][row].T\n",
    "                o_i = -(x+2)\n",
    "                wt_i = -(x+1)\n",
    "                o = self.sigmoid_results[o_i][row].reshape(self.sigmoid_results[o_i][row].shape[0],1)\n",
    "                Delta = -gamma * np.dot(o,d)\n",
    "                self.weights[wt_i] = self.weights[wt_i] + Delta\n",
    "            \n",
    "    def check_class(self):\n",
    "        self.class_check = np.zeros((self.train_labels.shape))\n",
    "        for row in range(self.train_labels.shape[0]):\n",
    "            self.class_check[row,int(self.sigmoid_results[-1][row].argmax())] += 1\n",
    "            \n",
    "    def accuracy_check(self):\n",
    "        total = self.train_labels.shape[0]\n",
    "        correct = 0\n",
    "        for row in range(total):\n",
    "            if np.array_equal(self.train_labels[row],self.class_check[row]):\n",
    "                correct += 1\n",
    "        return (correct/total)\n",
    "    \n",
    "    def train(self,iterations=100,gamma=0.05,printfreq=25):\n",
    "        for iteration in range(iterations):\n",
    "            self.feed_forward(self.train_data)\n",
    "            self.check_class()\n",
    "            if iteration % printfreq == 0 or iteration == iterations-1:\n",
    "                print(\"Iteration {} | Accuracy: {}\".format(iteration,self.accuracy_check()))\n",
    "            self.success_rates.append(self.accuracy_check())\n",
    "            self.error_derivative()\n",
    "            self.backprop()\n",
    "            self.correct(gamma)\n",
    "            \n",
    "    def predict(self,test_data,test_labels):\n",
    "        self.test_data, self.test_labels = test_data, test_labels\n",
    "        self.feed_forward(self.test_data)\n",
    "        predictions = []\n",
    "        for row in range(self.test_data.shape[0]):\n",
    "            predictions.append(int(self.sigmoid_results[-1][row].argmax()))\n",
    "        self.pred_array = np.array(predictions)\n",
    "        \n",
    "    def error_rate(self):\n",
    "        bools = np.equal(self.pred_array,self.test_labels.flatten())\n",
    "        correct = np.sum(bools)\n",
    "        return (self.test_labels.shape[0]-correct)/self.test_labels.shape[0]\n",
    "        #return pred\n",
    "        \n",
    "    def confusion_matrix(self):\n",
    "        self.confusion = np.zeros((self.units[-1],self.units[-1]))\n",
    "        for row in range(self.test_labels.shape[0]):\n",
    "            self.confusion[int(self.test_labels[row]),int(self.pred_array[row])] += 1\n",
    "        return self.confusion"
   ]
  },
  {
   "cell_type": "code",
   "execution_count": 4,
   "metadata": {
    "ExecuteTime": {
     "end_time": "2017-12-19T22:30:15.866777Z",
     "start_time": "2017-12-19T22:30:13.985825Z"
    },
    "collapsed": true
   },
   "outputs": [],
   "source": [
    "trainset = np.loadtxt('zip.train')\n",
    "\n",
    "constant_coefficient = np.ones((trainset.shape[0],1))\n",
    "train_data = np.concatenate((trainset[:,1:],constant_coefficient),axis=-1)"
   ]
  },
  {
   "cell_type": "code",
   "execution_count": 5,
   "metadata": {
    "ExecuteTime": {
     "end_time": "2017-12-19T22:30:15.879103Z",
     "start_time": "2017-12-19T22:30:15.868456Z"
    },
    "collapsed": true
   },
   "outputs": [],
   "source": [
    "train_labels = np.zeros((trainset.shape[0],10))\n",
    "for i in range(trainset.shape[0]):\n",
    "    train_labels[i,int(trainset[i,0])] += 1"
   ]
  },
  {
   "cell_type": "code",
   "execution_count": 6,
   "metadata": {
    "ExecuteTime": {
     "end_time": "2017-12-19T22:31:18.282162Z",
     "start_time": "2017-12-19T22:30:15.881058Z"
    }
   },
   "outputs": [
    {
     "name": "stdout",
     "output_type": "stream",
     "text": [
      "Iteration 0 | Accuracy: 0.05815388835550679\n",
      "Iteration 25 | Accuracy: 0.43491976409271704\n",
      "Iteration 50 | Accuracy: 0.4892333013304074\n",
      "Iteration 75 | Accuracy: 0.5351803593471403\n",
      "Iteration 99 | Accuracy: 0.5649430805102181\n"
     ]
    }
   ],
   "source": [
    "nn = NeuralNetwork(train_data,train_labels,[30,10])\n",
    "nn.train(gamma=0.0008)"
   ]
  },
  {
   "cell_type": "code",
   "execution_count": 7,
   "metadata": {
    "ExecuteTime": {
     "end_time": "2017-12-19T22:46:22.299595Z",
     "start_time": "2017-12-19T22:31:18.284002Z"
    }
   },
   "outputs": [
    {
     "name": "stdout",
     "output_type": "stream",
     "text": [
      "Iteration 0 | Accuracy: 0.08174461665066521\n",
      "Iteration 25 | Accuracy: 0.30325058291043755\n",
      "Iteration 50 | Accuracy: 0.3656562885749554\n",
      "Iteration 75 | Accuracy: 0.4068029076944178\n",
      "Iteration 100 | Accuracy: 0.4594705801673296\n",
      "Iteration 125 | Accuracy: 0.4733232752708819\n",
      "Iteration 150 | Accuracy: 0.4943080510218077\n",
      "Iteration 175 | Accuracy: 0.5362776025236593\n",
      "Iteration 200 | Accuracy: 0.5842819914963654\n",
      "Iteration 225 | Accuracy: 0.5993690851735016\n",
      "Iteration 250 | Accuracy: 0.6103415169386915\n",
      "Iteration 275 | Accuracy: 0.6217254148950762\n",
      "Iteration 300 | Accuracy: 0.6571115073378138\n",
      "Iteration 325 | Accuracy: 0.6894801810451241\n",
      "Iteration 350 | Accuracy: 0.7657385818131943\n",
      "Iteration 375 | Accuracy: 0.8343162803456317\n",
      "Iteration 400 | Accuracy: 0.8625702921409958\n",
      "Iteration 425 | Accuracy: 0.8945274996571115\n",
      "Iteration 450 | Accuracy: 0.9100260595254424\n",
      "Iteration 475 | Accuracy: 0.9182553833493348\n",
      "Iteration 499 | Accuracy: 0.9268961733644219\n"
     ]
    }
   ],
   "source": [
    "nn2 = NeuralNetwork(train_data,train_labels,[100,50,10])\n",
    "nn2.train(iterations=500,gamma=0.001)"
   ]
  },
  {
   "cell_type": "code",
   "execution_count": 14,
   "metadata": {
    "ExecuteTime": {
     "end_time": "2017-12-19T22:54:16.528229Z",
     "start_time": "2017-12-19T22:54:16.062015Z"
    },
    "collapsed": true
   },
   "outputs": [],
   "source": [
    "testset = np.loadtxt('zip.test')\n",
    "constant_coefficient = np.ones((testset.shape[0],1))\n",
    "test_data = np.concatenate((testset[:,1:],constant_coefficient),axis=-1)\n",
    "test_labels = testset[:,0]"
   ]
  },
  {
   "cell_type": "code",
   "execution_count": 16,
   "metadata": {
    "ExecuteTime": {
     "end_time": "2017-12-19T22:54:43.564474Z",
     "start_time": "2017-12-19T22:54:43.265223Z"
    }
   },
   "outputs": [
    {
     "name": "stdout",
     "output_type": "stream",
     "text": [
      "error rate for test set = 0.151968111609\n",
      "[[ 342.    0.    5.    1.    3.    1.    4.    1.    2.    0.]\n",
      " [   0.  249.    1.    2.    5.    1.    4.    0.    0.    2.]\n",
      " [   7.    0.  160.    6.    7.    2.    6.    3.    6.    1.]\n",
      " [   6.    0.    9.  125.    2.   13.    0.    1.    9.    1.]\n",
      " [   4.    1.    7.    1.  169.    2.    4.    2.    0.   10.]\n",
      " [   6.    0.    0.   14.    5.  117.   10.    0.    3.    5.]\n",
      " [   5.    0.    4.    2.    4.    4.  150.    0.    1.    0.]\n",
      " [   2.    0.    1.    3.    4.    5.    1.  123.    2.    6.]\n",
      " [   5.    1.    6.   11.   13.    9.    1.    2.  114.    4.]\n",
      " [   0.    0.    1.    3.    6.    1.    0.    9.    4.  153.]]\n"
     ]
    },
    {
     "data": {
      "text/plain": [
       "[<matplotlib.lines.Line2D at 0x10c0dc048>]"
      ]
     },
     "execution_count": 16,
     "metadata": {},
     "output_type": "execute_result"
    },
    {
     "data": {
      "image/png": "[encoded data removed]",
      "text/plain": [
       "<matplotlib.figure.Figure at 0x10c0d7cf8>"
      ]
     },
     "metadata": {},
     "output_type": "display_data"
    }
   ],
   "source": [
    "nn2.predict(test_data,test_labels)\n",
    "print(\"error rate for test set =\",nn2.error_rate())\n",
    "print(nn2.confusion_matrix())\n",
    "\n",
    "x = list(range(1,501))\n",
    "y = list(map((lambda x: x*100),nn2.success_rates))\n",
    "plt.xlabel(\"Iteration Number\")\n",
    "plt.ylabel(\"% of Training Data Accurately Classified\")\n",
    "plt.title(\"Progression of Neural Network Accuracy with Each Iteration\")\n",
    "plt.plot(x,y)"
   ]
  },
  {
   "cell_type": "markdown",
   "metadata": {},
   "source": [
    "## Aufgabe 2 Logische funktionen"
   ]
  },
  {
   "cell_type": "code",
   "execution_count": 17,
   "metadata": {
    "ExecuteTime": {
     "end_time": "2017-12-19T22:55:46.179781Z",
     "start_time": "2017-12-19T22:55:46.173576Z"
    },
    "collapsed": true
   },
   "outputs": [],
   "source": [
    "X = np.asarray([[0,0],[0,1],[1,0],[1,1]])\n",
    "y_and = np.asarray([[0,1],[0,1],[0,1],[1,0]])\n",
    "y_or = np.asarray([[0,1],[1,0],[1,0],[1,0]])\n",
    "y_xor = np.asarray([[0,1],[1,0],[0,1],[0,1]])"
   ]
  },
  {
   "cell_type": "code",
   "execution_count": 18,
   "metadata": {
    "ExecuteTime": {
     "end_time": "2017-12-19T22:55:46.881515Z",
     "start_time": "2017-12-19T22:55:46.836798Z"
    }
   },
   "outputs": [
    {
     "name": "stdout",
     "output_type": "stream",
     "text": [
      "Iteration 0 | Accuracy: 0.75\n",
      "Iteration 25 | Accuracy: 0.75\n",
      "Iteration 50 | Accuracy: 0.75\n",
      "Iteration 75 | Accuracy: 0.75\n",
      "Iteration 99 | Accuracy: 1.0\n"
     ]
    }
   ],
   "source": [
    "nn_and = NeuralNetwork(X,y_and,[3,10,2])\n",
    "nn_and.train(iterations=100,gamma=3.05)"
   ]
  },
  {
   "cell_type": "code",
   "execution_count": 19,
   "metadata": {
    "ExecuteTime": {
     "end_time": "2017-12-19T22:55:48.338183Z",
     "start_time": "2017-12-19T22:55:48.292768Z"
    }
   },
   "outputs": [
    {
     "name": "stdout",
     "output_type": "stream",
     "text": [
      "Iteration 0 | Accuracy: 0.25\n",
      "Iteration 25 | Accuracy: 1.0\n",
      "Iteration 50 | Accuracy: 1.0\n",
      "Iteration 75 | Accuracy: 1.0\n",
      "Iteration 99 | Accuracy: 1.0\n"
     ]
    }
   ],
   "source": [
    "nn_or = NeuralNetwork(X,y_or,[3,10,2])\n",
    "nn_or.train(iterations=100,gamma=3.05)"
   ]
  },
  {
   "cell_type": "code",
   "execution_count": 20,
   "metadata": {
    "ExecuteTime": {
     "end_time": "2017-12-19T22:55:49.305679Z",
     "start_time": "2017-12-19T22:55:49.260722Z"
    }
   },
   "outputs": [
    {
     "name": "stdout",
     "output_type": "stream",
     "text": [
      "Iteration 0 | Accuracy: 0.75\n",
      "Iteration 25 | Accuracy: 1.0\n",
      "Iteration 50 | Accuracy: 1.0\n",
      "Iteration 75 | Accuracy: 1.0\n",
      "Iteration 99 | Accuracy: 1.0\n"
     ]
    }
   ],
   "source": [
    "nn_xor = NeuralNetwork(X,y_xor,[3,10,2])\n",
    "nn_xor.train(iterations=100,gamma=3.05)"
   ]
  },
  {
   "cell_type": "code",
   "execution_count": null,
   "metadata": {
    "collapsed": true
   },
   "outputs": [],
   "source": []
  }
 ],
 "metadata": {
  "kernelspec": {
   "display_name": "Python 3",
   "language": "python",
   "name": "python3"
  },
  "language_info": {
   "codemirror_mode": {
    "name": "ipython",
    "version": 3
   },
   "file_extension": ".py",
   "mimetype": "text/x-python",
   "name": "python",
   "nbconvert_exporter": "python",
   "pygments_lexer": "ipython3",
   "version": "3.5.0"
  },
  "toc": {
   "nav_menu": {},
   "number_sections": true,
   "sideBar": true,
   "skip_h1_title": false,
   "toc_cell": false,
   "toc_position": {},
   "toc_section_display": "block",
   "toc_window_display": false
  }
 },
 "nbformat": 4,
 "nbformat_minor": 2
}

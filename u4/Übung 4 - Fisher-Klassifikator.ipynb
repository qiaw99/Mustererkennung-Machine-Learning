{
 "cells": [
  {
   "cell_type": "markdown",
   "metadata": {},
   "source": [
    "# Übung 4: Fisher-Klassifikator - Rainier Robles & Valentin Wolf"
   ]
  },
  {
   "cell_type": "code",
   "execution_count": 284,
   "metadata": {
    "collapsed": true
   },
   "outputs": [],
   "source": [
    "import numpy as np\n",
    "import pandas as pd\n",
    "import matplotlib.pyplot as plt\n",
    "import seaborn as sns\n",
    "%matplotlib inline"
   ]
  },
  {
   "cell_type": "markdown",
   "metadata": {},
   "source": [
    "### Import Data & split into train/test sets"
   ]
  },
  {
   "cell_type": "code",
   "execution_count": 760,
   "metadata": {
    "collapsed": true
   },
   "outputs": [],
   "source": [
    "data = pd.read_table('spam.data', delim_whitespace=True,header=None)\n",
    "\n",
    "from sklearn.utils import shuffle\n",
    "data = shuffle(data,random_state=1338)\n",
    "\n",
    "N = data.shape[0]\n",
    "split = 0.2\n",
    "y_train = data.iloc[int(split*N):, -1].as_matrix()\n",
    "X_train = data.iloc[int(split*N):, :-1].as_matrix()\n",
    "\n",
    "y_test = data.iloc[:int(split*N), -1].as_matrix()\n",
    "X_test = data.iloc[:int(split*N), :-1].as_matrix()"
   ]
  },
  {
   "cell_type": "code",
   "execution_count": 761,
   "metadata": {},
   "outputs": [
    {
     "data": {
      "text/plain": [
       "array([0, 0, 0, ..., 1, 1, 0])"
      ]
     },
     "execution_count": 761,
     "metadata": {},
     "output_type": "execute_result"
    }
   ],
   "source": [
    "y_train"
   ]
  },
  {
   "cell_type": "code",
   "execution_count": 762,
   "metadata": {},
   "outputs": [
    {
     "data": {
      "text/plain": [
       "array([[  0.00000000e+00,   0.00000000e+00,   0.00000000e+00, ...,\n",
       "          1.70000000e+00,   1.20000000e+01,   6.80000000e+01],\n",
       "       [  0.00000000e+00,   0.00000000e+00,   7.40000000e-01, ...,\n",
       "          2.58700000e+00,   5.50000000e+01,   2.82000000e+02],\n",
       "       [  0.00000000e+00,   0.00000000e+00,   0.00000000e+00, ...,\n",
       "          2.10200000e+00,   1.20000000e+01,   8.20000000e+01],\n",
       "       ..., \n",
       "       [  0.00000000e+00,   0.00000000e+00,   0.00000000e+00, ...,\n",
       "          4.15700000e+00,   1.30000000e+01,   7.90000000e+01],\n",
       "       [  5.00000000e-02,   5.00000000e-02,   4.00000000e-01, ...,\n",
       "          4.90600000e+00,   9.50000000e+01,   1.31000000e+03],\n",
       "       [  0.00000000e+00,   0.00000000e+00,   0.00000000e+00, ...,\n",
       "          1.25000000e+00,   2.00000000e+00,   5.00000000e+00]])"
      ]
     },
     "execution_count": 762,
     "metadata": {},
     "output_type": "execute_result"
    }
   ],
   "source": [
    "X_train"
   ]
  },
  {
   "cell_type": "code",
   "execution_count": 763,
   "metadata": {
    "collapsed": true
   },
   "outputs": [],
   "source": [
    "def is_invertible(X):\n",
    "    return np.linalg.cond(X) < 1 / np.spacing(1)"
   ]
  },
  {
   "cell_type": "markdown",
   "metadata": {},
   "source": [
    "### Define the Classifier"
   ]
  },
  {
   "cell_type": "code",
   "execution_count": 764,
   "metadata": {
    "collapsed": true
   },
   "outputs": [],
   "source": [
    "class Classifier(object):\n",
    "    def error_rate(self,truth, pred):\n",
    "        \"\"\"gets two vectors, returns (wrongly classified / total)\"\"\"\n",
    "        return 1 - self.accuracy(truth, pred)\n",
    "    \n",
    "    def accuracy(self,truth,pred):\n",
    "        return np.mean(truth == pred)\n",
    "    \n",
    "def confused_matrix(x,y,percentage=False):\n",
    "    assert(x.shape == y.shape)\n",
    "    num_entries = x.shape[0]\n",
    "    dim = len(np.unique(x))\n",
    "    dim2 = len(np.unique(y))\n",
    "    matrix = np.zeros((dim,dim2))\n",
    "    for i in range(num_entries):\n",
    "        matrix[int(x[i]),int(y[i])] += 1\n",
    "    if percentage==True: \n",
    "        matrix /= np.sum(matrix,axis=1)\n",
    "    return matrix\n"
   ]
  },
  {
   "cell_type": "code",
   "execution_count": 765,
   "metadata": {
    "collapsed": true
   },
   "outputs": [],
   "source": [
    "class FisherClassifier(Classifier):\n",
    "    def fit(self,X,y):\n",
    "        self.classes = np.unique(y)\n",
    "        assert(len(np.unique(y)) == 2)\n",
    "        \n",
    "        self.alpha = self.calc_alpha(X,y)\n",
    "        \n",
    "        X1 = X[y == self.classes[0]]\n",
    "        X2 = X[y == self.classes[1]]\n",
    "        E1 = self.cov_matrix(X1)\n",
    "        E2 = self.cov_matrix(X2)\n",
    "        self.m1 = self.proj(self.center(X1))#np.dot(self.alpha.T,m1)\n",
    "        self.m2 = self.proj(self.center(X2))#np.dot(self.alpha.T,m2)\n",
    "        self.var1 = self.alpha.T.dot(E1).dot(self.alpha)#np.mean((self.proj(X1)-self.m1)**2)\n",
    "        self.var2 = self.alpha.T.dot(E2).dot(self.alpha)\n",
    "        self.aprio1 = X1.shape[0]/X.shape[0]\n",
    "        self.aprio2 = X2.shape[0]/X.shape[0]\n",
    "        \n",
    "    def calc_alpha(self,X,y):\n",
    "        classes_count = len(self.classes)\n",
    "        features = X.shape[1]\n",
    "        X1 = X[y == self.classes[0]]\n",
    "        X2 = X[y == self.classes[1]]\n",
    "        E1 = self.cov_matrix(X1)\n",
    "        E2 = self.cov_matrix(X2)\n",
    "        m1 = self.center(X1), \n",
    "        m2 = self.center(X2)\n",
    "        alpha = np.linalg.pinv(np.add(E1,E2)).dot(np.subtract(m1,m2)[0])\n",
    "        #normalize and return\n",
    "        return alpha/np.linalg.norm(alpha)\n",
    "        \n",
    "    def proj(self,b):\n",
    "        return np.dot(self.alpha.T,b)\n",
    "        \n",
    "    def cov_matrix(self,X):\n",
    "        return np.cov(X.T,bias = True)\n",
    "        \"\"\"Returns Covariance matrix of matrix X; X should be of the same class\"\"\"\n",
    "        N = X.shape[0]\n",
    "        m = self.center(X)\n",
    "        X -= m\n",
    "        cov = 1/N * np.sum((X[...,None] * X[:,None]),axis=0) \n",
    "        #https://stackoverflow.com/questions/40413000/column-by-row-multiplication-in-numpy\n",
    "        return cov\n",
    "        \n",
    "    def center(self,X):\n",
    "        return np.mean(X,axis=0)\n",
    "    \n",
    "    def predict(self,X):\n",
    "        classes_count = len(self.classes)\n",
    "        preds = np.zeros((X.shape[0]))#,2))\n",
    "        probs = np.zeros((X.shape[0],2))\n",
    "        X = self.proj(X.T)\n",
    "        self.X = X\n",
    "        for i in range(X.shape[0]):\n",
    "            prob1 = self.aprio1*self.norm_dist(self.var1,self.m1,X[i])\n",
    "            prob2 = self.aprio2*self.norm_dist(self.var2,self.m2,X[i])\n",
    "            #score[i] = X[i]#np.dot(self.alpha.T,X[i])\n",
    "            preds[i] = np.argmax((prob1,prob2))\n",
    "            probs[i] = (prob1,prob2)\n",
    "        return preds,probs\n",
    "    \n",
    "    def norm_dist(self, var, m, x):\n",
    "        divisor = 1 / np.sqrt(2*np.pi+var)\n",
    "        exponent = -0.5 * (x - m)**2 / var\n",
    "        return divisor * (np.exp(exponent))\n",
    "            \n",
    "                \n",
    "        "
   ]
  },
  {
   "cell_type": "code",
   "execution_count": 766,
   "metadata": {
    "collapsed": true
   },
   "outputs": [],
   "source": [
    "cls = FisherClassifier()\n",
    "cls.fit(X_train,y_train)"
   ]
  },
  {
   "cell_type": "code",
   "execution_count": 767,
   "metadata": {},
   "outputs": [
    {
     "name": "stdout",
     "output_type": "stream",
     "text": [
      "1 vs. 0 Accuracy: 0.9011 Error rate: 0.0989\n"
     ]
    },
    {
     "data": {
      "text/plain": [
       "array([[ 509.,   29.],\n",
       "       [  62.,  320.]])"
      ]
     },
     "execution_count": 767,
     "metadata": {},
     "output_type": "execute_result"
    }
   ],
   "source": [
    "pred,probs = cls.predict(X_test)\n",
    "        \n",
    "print(1, 'vs.', 0, \n",
    "      'Accuracy:', round(cls.accuracy(y_test,pred),4), \n",
    "      'Error rate:', round(cls.error_rate(y_test,pred),4))\n",
    "confused_matrix(y_test,pred,percentage=False)"
   ]
  },
  {
   "cell_type": "code",
   "execution_count": 772,
   "metadata": {},
   "outputs": [
    {
     "data": {
      "text/plain": [
       "array([[   2.43 ,    0.   ,    0.   , ...,    3.666,   13.   ,   44.   ],\n",
       "       [   0.   ,    0.   ,    0.   , ...,    2.376,   41.   ,  492.   ],\n",
       "       [   0.   ,    0.   ,    0.   , ...,    2.3  ,    9.   ,   23.   ],\n",
       "       ..., \n",
       "       [   0.   ,    0.95 ,    0.95 , ...,    4.18 ,   45.   ,  464.   ],\n",
       "       [   1.17 ,    0.   ,    0.   , ...,    1.966,   10.   ,   59.   ],\n",
       "       [   0.   ,    0.   ,    0.   , ...,    2.132,   22.   ,  113.   ]])"
      ]
     },
     "execution_count": 772,
     "metadata": {},
     "output_type": "execute_result"
    }
   ],
   "source": [
    "X_test[y_test!=pred]"
   ]
  },
  {
   "cell_type": "code",
   "execution_count": 1,
   "metadata": {
    "scrolled": false
   },
   "outputs": [
    {
     "ename": "NameError",
     "evalue": "name 'np' is not defined",
     "output_type": "error",
     "traceback": [
      "\u001b[0;31m---------------------------------------------------------------------------\u001b[0m",
      "\u001b[0;31mNameError\u001b[0m                                 Traceback (most recent call last)",
      "\u001b[0;32m<ipython-input-1-1608524dee41>\u001b[0m in \u001b[0;36m<module>\u001b[0;34m()\u001b[0m\n\u001b[1;32m      1\u001b[0m \u001b[0;32mimport\u001b[0m \u001b[0mmatplotlib\u001b[0m\u001b[0;34m.\u001b[0m\u001b[0mticker\u001b[0m \u001b[0;32mas\u001b[0m \u001b[0mticker\u001b[0m\u001b[0;34m\u001b[0m\u001b[0m\n\u001b[0;32m----> 2\u001b[0;31m \u001b[0mx\u001b[0m \u001b[0;34m=\u001b[0m \u001b[0mlist\u001b[0m\u001b[0;34m(\u001b[0m\u001b[0mnp\u001b[0m\u001b[0;34m.\u001b[0m\u001b[0marange\u001b[0m\u001b[0;34m(\u001b[0m\u001b[0;34m-\u001b[0m\u001b[0;36m2.5\u001b[0m\u001b[0;34m,\u001b[0m \u001b[0;36m1.8\u001b[0m\u001b[0;34m,\u001b[0m \u001b[0;36m0.01\u001b[0m\u001b[0;34m)\u001b[0m\u001b[0;34m)\u001b[0m\u001b[0;34m\u001b[0m\u001b[0m\n\u001b[0m\u001b[1;32m      3\u001b[0m \u001b[0my1\u001b[0m \u001b[0;34m=\u001b[0m \u001b[0mlist\u001b[0m\u001b[0;34m(\u001b[0m\u001b[0mmap\u001b[0m\u001b[0;34m(\u001b[0m\u001b[0;32mlambda\u001b[0m \u001b[0mx\u001b[0m\u001b[0;34m:\u001b[0m \u001b[0mcls\u001b[0m\u001b[0;34m.\u001b[0m\u001b[0maprio1\u001b[0m\u001b[0;34m*\u001b[0m\u001b[0mcls\u001b[0m\u001b[0;34m.\u001b[0m\u001b[0mnorm_dist\u001b[0m\u001b[0;34m(\u001b[0m\u001b[0mcls\u001b[0m\u001b[0;34m.\u001b[0m\u001b[0mvar1\u001b[0m\u001b[0;34m,\u001b[0m\u001b[0mcls\u001b[0m\u001b[0;34m.\u001b[0m\u001b[0mm1\u001b[0m\u001b[0;34m,\u001b[0m\u001b[0mx\u001b[0m\u001b[0;34m)\u001b[0m\u001b[0;34m,\u001b[0m \u001b[0mx\u001b[0m\u001b[0;34m)\u001b[0m\u001b[0;34m)\u001b[0m\u001b[0;34m\u001b[0m\u001b[0m\n\u001b[1;32m      4\u001b[0m \u001b[0my2\u001b[0m \u001b[0;34m=\u001b[0m \u001b[0mlist\u001b[0m\u001b[0;34m(\u001b[0m\u001b[0mmap\u001b[0m\u001b[0;34m(\u001b[0m\u001b[0;32mlambda\u001b[0m \u001b[0mx\u001b[0m\u001b[0;34m:\u001b[0m \u001b[0mcls\u001b[0m\u001b[0;34m.\u001b[0m\u001b[0maprio2\u001b[0m\u001b[0;34m*\u001b[0m\u001b[0mcls\u001b[0m\u001b[0;34m.\u001b[0m\u001b[0mnorm_dist\u001b[0m\u001b[0;34m(\u001b[0m\u001b[0mcls\u001b[0m\u001b[0;34m.\u001b[0m\u001b[0mvar2\u001b[0m\u001b[0;34m,\u001b[0m\u001b[0mcls\u001b[0m\u001b[0;34m.\u001b[0m\u001b[0mm2\u001b[0m\u001b[0;34m,\u001b[0m\u001b[0mx\u001b[0m\u001b[0;34m)\u001b[0m\u001b[0;34m,\u001b[0m \u001b[0mx\u001b[0m\u001b[0;34m)\u001b[0m\u001b[0;34m)\u001b[0m\u001b[0;34m\u001b[0m\u001b[0m\n\u001b[1;32m      5\u001b[0m \u001b[0mdims\u001b[0m \u001b[0;34m=\u001b[0m \u001b[0;34m(\u001b[0m\u001b[0;36m12\u001b[0m\u001b[0;34m,\u001b[0m \u001b[0;36m6\u001b[0m\u001b[0;34m)\u001b[0m\u001b[0;34m\u001b[0m\u001b[0m\n",
      "\u001b[0;31mNameError\u001b[0m: name 'np' is not defined"
     ]
    }
   ],
   "source": [
    "import matplotlib.ticker as ticker\n",
    "x = list(np.arange(-2.5, 1.8, 0.01))\n",
    "y1 = list(map(lambda x: cls.aprio1*cls.norm_dist(cls.var1,cls.m1,x), x))\n",
    "y2 = list(map(lambda x: cls.aprio2*cls.norm_dist(cls.var2,cls.m2,x), x))\n",
    "dims = (12, 6)\n",
    "fig, ax = plt.subplots(figsize=dims)\n",
    "g= sns.pointplot(x,y1,markers='',color='green')\n",
    "g= sns.pointplot(x,y2,markers='',color='red')\n",
    "ax.xaxis.set_major_locator(ticker.MultipleLocator(50))"
   ]
  },
  {
   "cell_type": "code",
   "execution_count": null,
   "metadata": {
    "collapsed": true
   },
   "outputs": [],
   "source": []
  }
 ],
 "metadata": {
  "kernelspec": {
   "display_name": "Python 3",
   "language": "python",
   "name": "python3"
  },
  "language_info": {
   "codemirror_mode": {
    "name": "ipython",
    "version": 3
   },
   "file_extension": ".py",
   "mimetype": "text/x-python",
   "name": "python",
   "nbconvert_exporter": "python",
   "pygments_lexer": "ipython3",
   "version": "3.5.0"
  }
 },
 "nbformat": 4,
 "nbformat_minor": 1
}

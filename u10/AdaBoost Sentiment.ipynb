{
 "cells": [
  {
   "cell_type": "markdown",
   "metadata": {},
   "source": [
    "# Übung 10 Ada Boost - Rainier Robles & Valentin Wolf"
   ]
  },
  {
   "cell_type": "code",
   "execution_count": 513,
   "metadata": {
    "ExecuteTime": {
     "end_time": "2018-01-31T12:11:33.616806Z",
     "start_time": "2018-01-31T12:11:33.333233Z"
    },
    "collapsed": true
   },
   "outputs": [],
   "source": [
    "import numpy as np\n",
    "import pandas as pd\n",
    "import matplotlib.pyplot as plt\n",
    "import seaborn as sns\n",
    "%matplotlib inline"
   ]
  },
  {
   "cell_type": "markdown",
   "metadata": {},
   "source": [
    "# Importing IMDB-data"
   ]
  },
  {
   "cell_type": "code",
   "execution_count": 497,
   "metadata": {
    "ExecuteTime": {
     "end_time": "2017-12-31T15:07:00.111317Z",
     "start_time": "2017-12-31T15:06:53.435154Z"
    },
    "collapsed": true
   },
   "outputs": [],
   "source": [
    "def parse_libsvm(fpath):\n",
    "    \"\"\"Parses each entry (==line) in a LIBSVM files to a dict\n",
    "    in dicts and stores the label in lables\"\"\"\n",
    "    dicts = []\n",
    "    labels = []\n",
    "    for l in open(fpath):\n",
    "        dictonary = {}\n",
    "        label = int(l.split()[0])\n",
    "        tokens = l.split()[1:]\n",
    "        for token in tokens:\n",
    "            token = token.split(\":\")\n",
    "            key = int(token[0])\n",
    "            val = int(token[1])\n",
    "            dictonary[key] = val\n",
    "        dicts.append(dictonary)\n",
    "        labels.append(label)\n",
    "    return dicts, labels\n",
    "\n",
    "X_train,y_train = parse_libsvm('labeledBow.feat') \n",
    "\n",
    "X_test,y_test = parse_libsvm('labeledBowTest.feat')"
   ]
  },
  {
   "cell_type": "code",
   "execution_count": 498,
   "metadata": {
    "ExecuteTime": {
     "end_time": "2017-12-31T15:07:01.309521Z",
     "start_time": "2017-12-31T15:07:01.297839Z"
    }
   },
   "outputs": [
    {
     "name": "stdout",
     "output_type": "stream",
     "text": [
      "mean: 5.47772\n"
     ]
    }
   ],
   "source": [
    "y_train = np.asarray(y_train)\n",
    "y_test = np.asarray(y_test)\n",
    "print('mean:',y_train.mean())\n",
    "\n",
    "# Average Score is ~5.5, so we change the lables 1 if above average and 0 otherwise\n",
    "y_train[y_train < 5] = -1\n",
    "y_train[y_train > 5] = 1\n",
    "\n",
    "y_test[y_test < 5] = -1\n",
    "y_test[y_test > 5] = 1"
   ]
  },
  {
   "cell_type": "markdown",
   "metadata": {
    "ExecuteTime": {
     "end_time": "2017-12-28T12:50:29.741691Z",
     "start_time": "2017-12-28T12:50:29.737733Z"
    }
   },
   "source": [
    "# Building weak classifiers\n",
    "\n",
    "Each classifier only looks at one word and predicts if the existence/absence of the word is an indicator of a positive/negative comment."
   ]
  },
  {
   "cell_type": "code",
   "execution_count": 400,
   "metadata": {
    "ExecuteTime": {
     "end_time": "2017-12-31T13:15:42.066788Z",
     "start_time": "2017-12-31T13:15:42.061617Z"
    },
    "collapsed": true
   },
   "outputs": [],
   "source": [
    "class Classifier():\n",
    "    def error_rate(self,truth, pred):\n",
    "        \"\"\"gets two vectors, returns (wrongly classified / total)\"\"\"\n",
    "        return 1 - self.accuracy(truth, pred)\n",
    "    \n",
    "    def accuracy(self,truth,pred):\n",
    "        return np.mean(truth == pred)"
   ]
  },
  {
   "cell_type": "code",
   "execution_count": 401,
   "metadata": {
    "ExecuteTime": {
     "end_time": "2017-12-31T13:15:49.472327Z",
     "start_time": "2017-12-31T13:15:49.449786Z"
    },
    "collapsed": true
   },
   "outputs": [],
   "source": [
    "class weak_cls(Classifier):\n",
    "    def __init__(self,token):\n",
    "        self.factor = -1\n",
    "        self.token = token\n",
    "        \n",
    "    def fit(self,X_train,y_train):\n",
    "        \"\"\"\n",
    "        X_train: list of dicts with the tokenized words as ints\n",
    "        y_train: lables -1,1\n",
    "        Classifies 1 if token is in dict and -1 otherwise\n",
    "        \n",
    "        if accuracy is <50% it flips those values \n",
    "        => accuracy is always >=50% \"\"\"\n",
    "        \n",
    "        pred = self.predict(X_train)\n",
    "\n",
    "        if self.accuracy(y_train,pred) < 0.5:\n",
    "            self.factor = self.factor * -1\n",
    "        \n",
    "    def predict(self,X_train):\n",
    "        num_samples = len(X_train)\n",
    "        pred_y = np.zeros(num_samples)\n",
    "        \n",
    "        for j in range(num_samples):\n",
    "            if self.token in X_train[j]:\n",
    "                pred_y[j] = 1 * self.factor\n",
    "            else:\n",
    "                pred_y[j] = -1 * self.factor\n",
    "        return pred_y"
   ]
  },
  {
   "cell_type": "code",
   "execution_count": 507,
   "metadata": {
    "ExecuteTime": {
     "end_time": "2017-12-31T15:30:56.469534Z",
     "start_time": "2017-12-31T15:26:56.170754Z"
    },
    "scrolled": false
   },
   "outputs": [
    {
     "name": "stdout",
     "output_type": "stream",
     "text": [
      "9828\n"
     ]
    }
   ],
   "source": [
    "#creating of the weak learners with acc >50%\n",
    "weak_clss = []\n",
    "j=0\n",
    "for i in range(10000):\n",
    "    cls = weak_cls(i)\n",
    "    cls.fit(X_train,y_train)\n",
    "    acc = cls.accuracy(y_train,cls.predict(X_train))\n",
    "    if acc > 0.5:\n",
    "        j+=1\n",
    "        weak_clss.append(cls)\n",
    "print(len(weak_clss))"
   ]
  },
  {
   "cell_type": "code",
   "execution_count": 1,
   "metadata": {
    "ExecuteTime": {
     "end_time": "2018-02-03T17:06:12.399427Z",
     "start_time": "2018-02-03T17:06:12.203377Z"
    }
   },
   "outputs": [
    {
     "ename": "NameError",
     "evalue": "name 'Classifier' is not defined",
     "output_type": "error",
     "traceback": [
      "\u001b[0;31m---------------------------------------------------------------------------\u001b[0m",
      "\u001b[0;31mNameError\u001b[0m                                 Traceback (most recent call last)",
      "\u001b[0;32m<ipython-input-1-38bacfa6bfef>\u001b[0m in \u001b[0;36m<module>\u001b[0;34m()\u001b[0m\n\u001b[0;32m----> 1\u001b[0;31m \u001b[0;32mclass\u001b[0m \u001b[0mAdaBoost2\u001b[0m\u001b[0;34m(\u001b[0m\u001b[0mClassifier\u001b[0m\u001b[0;34m)\u001b[0m\u001b[0;34m:\u001b[0m\u001b[0;34m\u001b[0m\u001b[0m\n\u001b[0m\u001b[1;32m      2\u001b[0m     def train(self, X, y , weak_learners, X_test=None, y_test=None,\n\u001b[1;32m      3\u001b[0m               iterations = 10, print_freq=10):\n\u001b[1;32m      4\u001b[0m         \u001b[0mself\u001b[0m\u001b[0;34m.\u001b[0m\u001b[0mweights\u001b[0m \u001b[0;34m=\u001b[0m \u001b[0mnp\u001b[0m\u001b[0;34m.\u001b[0m\u001b[0mfull\u001b[0m\u001b[0;34m(\u001b[0m\u001b[0my\u001b[0m\u001b[0;34m.\u001b[0m\u001b[0mshape\u001b[0m\u001b[0;34m,\u001b[0m \u001b[0;36m1\u001b[0m\u001b[0;34m/\u001b[0m\u001b[0my\u001b[0m\u001b[0;34m.\u001b[0m\u001b[0mshape\u001b[0m\u001b[0;34m[\u001b[0m\u001b[0;36m0\u001b[0m\u001b[0;34m]\u001b[0m\u001b[0;34m)\u001b[0m\u001b[0;34m\u001b[0m\u001b[0m\n\u001b[1;32m      5\u001b[0m         \u001b[0mself\u001b[0m\u001b[0;34m.\u001b[0m\u001b[0massemble\u001b[0m \u001b[0;34m=\u001b[0m \u001b[0;34m[\u001b[0m\u001b[0;34m]\u001b[0m\u001b[0;34m\u001b[0m\u001b[0m\n",
      "\u001b[0;31mNameError\u001b[0m: name 'Classifier' is not defined"
     ]
    }
   ],
   "source": [
    "class AdaBoost2(Classifier):\n",
    "    def train(self, X, y , weak_learners, X_test=None, y_test=None,\n",
    "              iterations = 10, print_freq=10):\n",
    "        self.weights = np.full(y.shape, 1/y.shape[0])\n",
    "        self.assemble = []\n",
    "        \n",
    "        def weightedSumErr(learner_i,y):\n",
    "            \"\"\"the weighted sum error for misclassified points of learner_i\n",
    "            normalized by the total sum of wheights\"\"\"\n",
    "            pred = preds[learner_i]\n",
    "            return np.sum(self.weights[y != pred]) #/ np.sum(self.weights)\n",
    "            \n",
    "        preds = np.zeros((len(weak_learners),y.shape[0]))\n",
    "        \n",
    "        for i in range(len(weak_learners)):\n",
    "            preds[i] = (weak_learners[i].predict(X))\n",
    "\n",
    "        for iteration in range(iterations):\n",
    "            best_learner_i = 0 \n",
    "            min_score = weightedSumErr(0,y)\n",
    "            \n",
    "            for i in range(len(weak_learners)):\n",
    "                score = weightedSumErr(i,y)\n",
    "                if score < min_score:\n",
    "                    best_learner_i = i\n",
    "                    min_score = score\n",
    "            \n",
    "            alpha = 0.5 * np.log((1-min_score)/ min_score)\n",
    "            best_learner = weak_learners[best_learner_i]\n",
    "            self.assemble.append((best_learner,alpha))\n",
    "            \n",
    "            # update weights\n",
    "            # if pred was correct the weight gets smaller as exp(something<0) < 1\n",
    "            # and bigger if it was incorrectly classified\n",
    "            pred = preds[best_learner_i]\n",
    "            self.weights[y == pred] = self.weights[y == pred] * np.exp(-alpha)\n",
    "            self.weights[y != pred] = self.weights[y != pred] * np.exp(alpha)\n",
    "            \n",
    "            weak_learners.remove(weak_learners[best_learner_i])\n",
    "            preds = np.delete(preds,best_learner_i,0)\n",
    "            \n",
    "            # printing the results every print_freq (or the last) iterations:\n",
    "            if iteration % print_freq == 0 or iteration == iterations - 1:\n",
    "                print(\"iteration: \", \n",
    "                      iteration, \n",
    "                      \"best_learner.accuracy: \",\n",
    "                      best_learner.accuracy(y_train,best_learner.predict(X_train)),\n",
    "                      \"min_score: \",\n",
    "                      min_score,\n",
    "                      \"alpha: \",\n",
    "                      alpha)\n",
    "                print(\"Total training accuracy: \", self.accuracy(y,self.predict(X)))\n",
    "                try: # if X_test and y_test were given as parameters:\n",
    "                    print(\"Total Test accuracy: \", self.accuracy(y_test,self.predict(X_test)))\n",
    "                except TypeError: \n",
    "                    pass\n",
    "\n",
    "    def predict(self,X):\n",
    "        samples = len(X)\n",
    "        pred = np.zeros(len(X))\n",
    "        for learner, alpha in self.assemble:\n",
    "            pred += learner.predict(X) * alpha\n",
    "\n",
    "        pred = np.sign(pred)\n",
    "        return pred"
   ]
  },
  {
   "cell_type": "code",
   "execution_count": 516,
   "metadata": {
    "ExecuteTime": {
     "end_time": "2018-01-31T12:15:01.379844Z",
     "start_time": "2018-01-31T12:11:58.802417Z"
    },
    "scrolled": false
   },
   "outputs": [
    {
     "name": "stdout",
     "output_type": "stream",
     "text": [
      "iteration:  0 best_learner.accuracy:  0.61532 min_score:  0.38468 alpha:  0.234865318922\n",
      "Total training accuracy:  0.61532\n",
      "Total Test accuracy:  0.61772\n",
      "iteration:  10 best_learner.accuracy:  0.54956 min_score:  0.442015272034 alpha:  0.116493579588\n",
      "Total training accuracy:  0.7156\n",
      "Total Test accuracy:  0.71376\n",
      "iteration:  20 best_learner.accuracy:  0.53604 min_score:  0.452394084434 alpha:  0.0955011139387\n",
      "Total training accuracy:  0.74256\n",
      "Total Test accuracy:  0.74016\n"
     ]
    },
    {
     "ename": "KeyboardInterrupt",
     "evalue": "",
     "output_type": "error",
     "traceback": [
      "\u001b[0;31m---------------------------------------------------------------------------\u001b[0m",
      "\u001b[0;31mKeyboardInterrupt\u001b[0m                         Traceback (most recent call last)",
      "\u001b[0;32m<ipython-input-516-66073595cf0a>\u001b[0m in \u001b[0;36m<module>\u001b[0;34m()\u001b[0m\n\u001b[1;32m      1\u001b[0m \u001b[0mweak_clss_copy\u001b[0m \u001b[0;34m=\u001b[0m \u001b[0mweak_clss\u001b[0m\u001b[0;34m.\u001b[0m\u001b[0mcopy\u001b[0m\u001b[0;34m(\u001b[0m\u001b[0;34m)\u001b[0m\u001b[0;34m\u001b[0m\u001b[0m\n\u001b[1;32m      2\u001b[0m \u001b[0mada2\u001b[0m \u001b[0;34m=\u001b[0m \u001b[0mAdaBoost2\u001b[0m\u001b[0;34m(\u001b[0m\u001b[0;34m)\u001b[0m\u001b[0;34m\u001b[0m\u001b[0m\n\u001b[0;32m----> 3\u001b[0;31m \u001b[0mada2\u001b[0m\u001b[0;34m.\u001b[0m\u001b[0mtrain\u001b[0m\u001b[0;34m(\u001b[0m\u001b[0mX_train\u001b[0m\u001b[0;34m,\u001b[0m\u001b[0my_train\u001b[0m\u001b[0;34m,\u001b[0m\u001b[0mweak_clss_copy\u001b[0m\u001b[0;34m,\u001b[0m\u001b[0miterations\u001b[0m\u001b[0;34m=\u001b[0m\u001b[0;36m100\u001b[0m\u001b[0;34m,\u001b[0m\u001b[0mX_test\u001b[0m\u001b[0;34m=\u001b[0m\u001b[0mX_test\u001b[0m\u001b[0;34m,\u001b[0m\u001b[0my_test\u001b[0m\u001b[0;34m=\u001b[0m\u001b[0my_test\u001b[0m\u001b[0;34m,\u001b[0m\u001b[0mprint_freq\u001b[0m\u001b[0;34m=\u001b[0m\u001b[0;36m10\u001b[0m\u001b[0;34m)\u001b[0m\u001b[0;34m\u001b[0m\u001b[0m\n\u001b[0m",
      "\u001b[0;32m<ipython-input-514-cb036452b201>\u001b[0m in \u001b[0;36mtrain\u001b[0;34m(self, X, y, weak_learners, X_test, y_test, iterations, print_freq)\u001b[0m\n\u001b[1;32m     38\u001b[0m \u001b[0;34m\u001b[0m\u001b[0m\n\u001b[1;32m     39\u001b[0m             \u001b[0mweak_learners\u001b[0m\u001b[0;34m.\u001b[0m\u001b[0mremove\u001b[0m\u001b[0;34m(\u001b[0m\u001b[0mweak_learners\u001b[0m\u001b[0;34m[\u001b[0m\u001b[0mbest_learner_i\u001b[0m\u001b[0;34m]\u001b[0m\u001b[0;34m)\u001b[0m\u001b[0;34m\u001b[0m\u001b[0m\n\u001b[0;32m---> 40\u001b[0;31m             \u001b[0mpreds\u001b[0m \u001b[0;34m=\u001b[0m \u001b[0mnp\u001b[0m\u001b[0;34m.\u001b[0m\u001b[0mdelete\u001b[0m\u001b[0;34m(\u001b[0m\u001b[0mpreds\u001b[0m\u001b[0;34m,\u001b[0m\u001b[0mbest_learner_i\u001b[0m\u001b[0;34m,\u001b[0m\u001b[0;36m0\u001b[0m\u001b[0;34m)\u001b[0m\u001b[0;34m\u001b[0m\u001b[0m\n\u001b[0m\u001b[1;32m     41\u001b[0m \u001b[0;34m\u001b[0m\u001b[0m\n\u001b[1;32m     42\u001b[0m             \u001b[0;31m# printing the results every print_freq (or the last) iterations:\u001b[0m\u001b[0;34m\u001b[0m\u001b[0;34m\u001b[0m\u001b[0m\n",
      "\u001b[0;32m/Library/Frameworks/Python.framework/Versions/3.5/lib/python3.5/site-packages/numpy/lib/function_base.py\u001b[0m in \u001b[0;36mdelete\u001b[0;34m(arr, obj, axis)\u001b[0m\n\u001b[1;32m   4852\u001b[0m         \u001b[0mslobj2\u001b[0m \u001b[0;34m=\u001b[0m \u001b[0;34m[\u001b[0m\u001b[0mslice\u001b[0m\u001b[0;34m(\u001b[0m\u001b[0;32mNone\u001b[0m\u001b[0;34m)\u001b[0m\u001b[0;34m]\u001b[0m\u001b[0;34m*\u001b[0m\u001b[0mndim\u001b[0m\u001b[0;34m\u001b[0m\u001b[0m\n\u001b[1;32m   4853\u001b[0m         \u001b[0mslobj2\u001b[0m\u001b[0;34m[\u001b[0m\u001b[0maxis\u001b[0m\u001b[0;34m]\u001b[0m \u001b[0;34m=\u001b[0m \u001b[0mslice\u001b[0m\u001b[0;34m(\u001b[0m\u001b[0mobj\u001b[0m\u001b[0;34m+\u001b[0m\u001b[0;36m1\u001b[0m\u001b[0;34m,\u001b[0m \u001b[0;32mNone\u001b[0m\u001b[0;34m)\u001b[0m\u001b[0;34m\u001b[0m\u001b[0m\n\u001b[0;32m-> 4854\u001b[0;31m         \u001b[0mnew\u001b[0m\u001b[0;34m[\u001b[0m\u001b[0mslobj\u001b[0m\u001b[0;34m]\u001b[0m \u001b[0;34m=\u001b[0m \u001b[0marr\u001b[0m\u001b[0;34m[\u001b[0m\u001b[0mslobj2\u001b[0m\u001b[0;34m]\u001b[0m\u001b[0;34m\u001b[0m\u001b[0m\n\u001b[0m\u001b[1;32m   4855\u001b[0m     \u001b[0;32melse\u001b[0m\u001b[0;34m:\u001b[0m\u001b[0;34m\u001b[0m\u001b[0m\n\u001b[1;32m   4856\u001b[0m         \u001b[0;32mif\u001b[0m \u001b[0mobj\u001b[0m\u001b[0;34m.\u001b[0m\u001b[0msize\u001b[0m \u001b[0;34m==\u001b[0m \u001b[0;36m0\u001b[0m \u001b[0;32mand\u001b[0m \u001b[0;32mnot\u001b[0m \u001b[0misinstance\u001b[0m\u001b[0;34m(\u001b[0m\u001b[0m_obj\u001b[0m\u001b[0;34m,\u001b[0m \u001b[0mnp\u001b[0m\u001b[0;34m.\u001b[0m\u001b[0mndarray\u001b[0m\u001b[0;34m)\u001b[0m\u001b[0;34m:\u001b[0m\u001b[0;34m\u001b[0m\u001b[0m\n",
      "\u001b[0;31mKeyboardInterrupt\u001b[0m: "
     ]
    }
   ],
   "source": [
    "weak_clss_copy = weak_clss.copy()\n",
    "ada2 = AdaBoost2()\n",
    "ada2.train(X_train,y_train,weak_clss_copy,iterations=100,X_test=X_test,y_test=y_test,print_freq=10)"
   ]
  },
  {
   "cell_type": "code",
   "execution_count": 527,
   "metadata": {
    "ExecuteTime": {
     "end_time": "2018-01-31T12:29:59.875518Z",
     "start_time": "2018-01-31T12:26:33.087953Z"
    }
   },
   "outputs": [
    {
     "name": "stdout",
     "output_type": "stream",
     "text": [
      "iteration:  0 best_learner.accuracy:  0.61532 min_score:  0.38468 alpha:  0.234865318922\n",
      "Total training accuracy:  0.61532\n",
      "Total Test accuracy:  0.61772\n",
      "iteration:  10 best_learner.accuracy:  0.54956 min_score:  0.346566909232 alpha:  0.317082120813\n",
      "Total training accuracy:  0.71932\n",
      "Total Test accuracy:  0.71912\n",
      "iteration:  20 best_learner.accuracy:  0.5338 min_score:  0.324630579116 alpha:  0.366285987592\n",
      "Total training accuracy:  0.7546\n",
      "Total Test accuracy:  0.75608\n",
      "iteration:  30 best_learner.accuracy:  0.51784 min_score:  0.315037032284 alpha:  0.388337290175\n",
      "Total training accuracy:  0.77084\n",
      "Total Test accuracy:  0.77152\n"
     ]
    },
    {
     "ename": "KeyboardInterrupt",
     "evalue": "",
     "output_type": "error",
     "traceback": [
      "\u001b[0;31m---------------------------------------------------------------------------\u001b[0m",
      "\u001b[0;31mKeyboardInterrupt\u001b[0m                         Traceback (most recent call last)",
      "\u001b[0;32m<ipython-input-527-66073595cf0a>\u001b[0m in \u001b[0;36m<module>\u001b[0;34m()\u001b[0m\n\u001b[1;32m      1\u001b[0m \u001b[0mweak_clss_copy\u001b[0m \u001b[0;34m=\u001b[0m \u001b[0mweak_clss\u001b[0m\u001b[0;34m.\u001b[0m\u001b[0mcopy\u001b[0m\u001b[0;34m(\u001b[0m\u001b[0;34m)\u001b[0m\u001b[0;34m\u001b[0m\u001b[0m\n\u001b[1;32m      2\u001b[0m \u001b[0mada2\u001b[0m \u001b[0;34m=\u001b[0m \u001b[0mAdaBoost2\u001b[0m\u001b[0;34m(\u001b[0m\u001b[0;34m)\u001b[0m\u001b[0;34m\u001b[0m\u001b[0m\n\u001b[0;32m----> 3\u001b[0;31m \u001b[0mada2\u001b[0m\u001b[0;34m.\u001b[0m\u001b[0mtrain\u001b[0m\u001b[0;34m(\u001b[0m\u001b[0mX_train\u001b[0m\u001b[0;34m,\u001b[0m\u001b[0my_train\u001b[0m\u001b[0;34m,\u001b[0m\u001b[0mweak_clss_copy\u001b[0m\u001b[0;34m,\u001b[0m\u001b[0miterations\u001b[0m\u001b[0;34m=\u001b[0m\u001b[0;36m100\u001b[0m\u001b[0;34m,\u001b[0m\u001b[0mX_test\u001b[0m\u001b[0;34m=\u001b[0m\u001b[0mX_test\u001b[0m\u001b[0;34m,\u001b[0m\u001b[0my_test\u001b[0m\u001b[0;34m=\u001b[0m\u001b[0my_test\u001b[0m\u001b[0;34m,\u001b[0m\u001b[0mprint_freq\u001b[0m\u001b[0;34m=\u001b[0m\u001b[0;36m10\u001b[0m\u001b[0;34m)\u001b[0m\u001b[0;34m\u001b[0m\u001b[0m\n\u001b[0m",
      "\u001b[0;32m<ipython-input-526-38bacfa6bfef>\u001b[0m in \u001b[0;36mtrain\u001b[0;34m(self, X, y, weak_learners, X_test, y_test, iterations, print_freq)\u001b[0m\n\u001b[1;32m     38\u001b[0m \u001b[0;34m\u001b[0m\u001b[0m\n\u001b[1;32m     39\u001b[0m             \u001b[0mweak_learners\u001b[0m\u001b[0;34m.\u001b[0m\u001b[0mremove\u001b[0m\u001b[0;34m(\u001b[0m\u001b[0mweak_learners\u001b[0m\u001b[0;34m[\u001b[0m\u001b[0mbest_learner_i\u001b[0m\u001b[0;34m]\u001b[0m\u001b[0;34m)\u001b[0m\u001b[0;34m\u001b[0m\u001b[0m\n\u001b[0;32m---> 40\u001b[0;31m             \u001b[0mpreds\u001b[0m \u001b[0;34m=\u001b[0m \u001b[0mnp\u001b[0m\u001b[0;34m.\u001b[0m\u001b[0mdelete\u001b[0m\u001b[0;34m(\u001b[0m\u001b[0mpreds\u001b[0m\u001b[0;34m,\u001b[0m\u001b[0mbest_learner_i\u001b[0m\u001b[0;34m,\u001b[0m\u001b[0;36m0\u001b[0m\u001b[0;34m)\u001b[0m\u001b[0;34m\u001b[0m\u001b[0m\n\u001b[0m\u001b[1;32m     41\u001b[0m \u001b[0;34m\u001b[0m\u001b[0m\n\u001b[1;32m     42\u001b[0m             \u001b[0;31m# printing the results every print_freq (or the last) iterations:\u001b[0m\u001b[0;34m\u001b[0m\u001b[0;34m\u001b[0m\u001b[0m\n",
      "\u001b[0;32m/Library/Frameworks/Python.framework/Versions/3.5/lib/python3.5/site-packages/numpy/lib/function_base.py\u001b[0m in \u001b[0;36mdelete\u001b[0;34m(arr, obj, axis)\u001b[0m\n\u001b[1;32m   4852\u001b[0m         \u001b[0mslobj2\u001b[0m \u001b[0;34m=\u001b[0m \u001b[0;34m[\u001b[0m\u001b[0mslice\u001b[0m\u001b[0;34m(\u001b[0m\u001b[0;32mNone\u001b[0m\u001b[0;34m)\u001b[0m\u001b[0;34m]\u001b[0m\u001b[0;34m*\u001b[0m\u001b[0mndim\u001b[0m\u001b[0;34m\u001b[0m\u001b[0m\n\u001b[1;32m   4853\u001b[0m         \u001b[0mslobj2\u001b[0m\u001b[0;34m[\u001b[0m\u001b[0maxis\u001b[0m\u001b[0;34m]\u001b[0m \u001b[0;34m=\u001b[0m \u001b[0mslice\u001b[0m\u001b[0;34m(\u001b[0m\u001b[0mobj\u001b[0m\u001b[0;34m+\u001b[0m\u001b[0;36m1\u001b[0m\u001b[0;34m,\u001b[0m \u001b[0;32mNone\u001b[0m\u001b[0;34m)\u001b[0m\u001b[0;34m\u001b[0m\u001b[0m\n\u001b[0;32m-> 4854\u001b[0;31m         \u001b[0mnew\u001b[0m\u001b[0;34m[\u001b[0m\u001b[0mslobj\u001b[0m\u001b[0;34m]\u001b[0m \u001b[0;34m=\u001b[0m \u001b[0marr\u001b[0m\u001b[0;34m[\u001b[0m\u001b[0mslobj2\u001b[0m\u001b[0;34m]\u001b[0m\u001b[0;34m\u001b[0m\u001b[0m\n\u001b[0m\u001b[1;32m   4855\u001b[0m     \u001b[0;32melse\u001b[0m\u001b[0;34m:\u001b[0m\u001b[0;34m\u001b[0m\u001b[0m\n\u001b[1;32m   4856\u001b[0m         \u001b[0;32mif\u001b[0m \u001b[0mobj\u001b[0m\u001b[0;34m.\u001b[0m\u001b[0msize\u001b[0m \u001b[0;34m==\u001b[0m \u001b[0;36m0\u001b[0m \u001b[0;32mand\u001b[0m \u001b[0;32mnot\u001b[0m \u001b[0misinstance\u001b[0m\u001b[0;34m(\u001b[0m\u001b[0m_obj\u001b[0m\u001b[0;34m,\u001b[0m \u001b[0mnp\u001b[0m\u001b[0;34m.\u001b[0m\u001b[0mndarray\u001b[0m\u001b[0;34m)\u001b[0m\u001b[0;34m:\u001b[0m\u001b[0;34m\u001b[0m\u001b[0m\n",
      "\u001b[0;31mKeyboardInterrupt\u001b[0m: "
     ]
    }
   ],
   "source": [
    "weak_clss_copy = weak_clss.copy()\n",
    "ada2 = AdaBoost2()\n",
    "ada2.train(X_train,y_train,weak_clss_copy,iterations=100,X_test=X_test,y_test=y_test,print_freq=10)"
   ]
  },
  {
   "cell_type": "code",
   "execution_count": 520,
   "metadata": {
    "ExecuteTime": {
     "end_time": "2018-01-31T12:23:37.259228Z",
     "start_time": "2018-01-31T12:23:37.253042Z"
    }
   },
   "outputs": [
    {
     "data": {
      "text/plain": [
       "-5.1159958097540823"
      ]
     },
     "execution_count": 520,
     "metadata": {},
     "output_type": "execute_result"
    }
   ],
   "source": [
    "np.log((1-0.4)/100)"
   ]
  },
  {
   "cell_type": "code",
   "execution_count": 521,
   "metadata": {
    "ExecuteTime": {
     "end_time": "2018-01-31T12:24:00.398486Z",
     "start_time": "2018-01-31T12:24:00.385207Z"
    }
   },
   "outputs": [
    {
     "data": {
      "text/plain": [
       "array([ 0.52871163,  0.52156632,  1.04731717, ...,  1.11041813,\n",
       "        2.10623709,  0.58765527])"
      ]
     },
     "execution_count": 521,
     "metadata": {},
     "output_type": "execute_result"
    }
   ],
   "source": [
    "ada.weights"
   ]
  },
  {
   "cell_type": "code",
   "execution_count": 525,
   "metadata": {
    "ExecuteTime": {
     "end_time": "2018-01-31T12:25:55.974920Z",
     "start_time": "2018-01-31T12:25:55.969637Z"
    }
   },
   "outputs": [
    {
     "data": {
      "text/plain": [
       "array([  4.00000000e-05,   4.00000000e-05,   4.00000000e-05, ...,\n",
       "         4.00000000e-05,   4.00000000e-05,   4.00000000e-05])"
      ]
     },
     "execution_count": 525,
     "metadata": {},
     "output_type": "execute_result"
    }
   ],
   "source": [
    "np.full(y_train.shape, 1/y_train.shape[0])"
   ]
  },
  {
   "cell_type": "code",
   "execution_count": 523,
   "metadata": {
    "ExecuteTime": {
     "end_time": "2018-01-31T12:25:39.521100Z",
     "start_time": "2018-01-31T12:25:39.514802Z"
    }
   },
   "outputs": [
    {
     "data": {
      "text/plain": [
       "(25000,)"
      ]
     },
     "execution_count": 523,
     "metadata": {},
     "output_type": "execute_result"
    }
   ],
   "source": [
    "y_train.shape"
   ]
  },
  {
   "cell_type": "code",
   "execution_count": null,
   "metadata": {
    "collapsed": true
   },
   "outputs": [],
   "source": []
  }
 ],
 "metadata": {
  "kernelspec": {
   "display_name": "Python 3",
   "language": "python",
   "name": "python3"
  },
  "language_info": {
   "codemirror_mode": {
    "name": "ipython",
    "version": 3
   },
   "file_extension": ".py",
   "mimetype": "text/x-python",
   "name": "python",
   "nbconvert_exporter": "python",
   "pygments_lexer": "ipython3",
   "version": "3.5.0"
  },
  "toc": {
   "nav_menu": {},
   "number_sections": true,
   "sideBar": true,
   "skip_h1_title": false,
   "toc_cell": false,
   "toc_position": {},
   "toc_section_display": "block",
   "toc_window_display": false
  }
 },
 "nbformat": 4,
 "nbformat_minor": 2
}
